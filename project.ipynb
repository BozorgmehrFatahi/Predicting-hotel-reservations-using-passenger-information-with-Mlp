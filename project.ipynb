{
  "cells": [
    {
      "cell_type": "markdown",
      "id": "YEsQfJMNwtvI",
      "metadata": {
        "id": "YEsQfJMNwtvI"
      },
      "source": [
        "# **Import libraries**"
      ]
    },
    {
      "cell_type": "code",
      "execution_count": 54,
      "id": "f0a3e032-9c3c-49ae-be43-bc56fb0f1bdd",
      "metadata": {
        "id": "f0a3e032-9c3c-49ae-be43-bc56fb0f1bdd"
      },
      "outputs": [],
      "source": [
        "import numpy as np\n",
        "import pandas as pd\n",
        "import keras\n",
        "import plotly.graph_objects as go\n",
        "from sklearn.preprocessing import LabelEncoder\n",
        "from sklearn.model_selection import train_test_split\n",
        "from sklearn.metrics import roc_auc_score"
      ]
    },
    {
      "cell_type": "code",
      "execution_count": 18,
      "id": "ebd8caa9",
      "metadata": {
        "id": "ebd8caa9"
      },
      "outputs": [],
      "source": [
        "import os\n",
        "os.environ[\"KERAS_BACKEND\"] = \"tensorflow\""
      ]
    },
    {
      "cell_type": "markdown",
      "id": "p2AIWGZSyE-J",
      "metadata": {
        "id": "p2AIWGZSyE-J"
      },
      "source": [
        "# **Data set**"
      ]
    },
    {
      "cell_type": "markdown",
      "id": "60c78b08-d918-4544-ad76-2d1dff9714f1",
      "metadata": {
        "id": "60c78b08-d918-4544-ad76-2d1dff9714f1"
      },
      "source": [
        "<h2 dir=rtl align=right style=\"line-height:200%;font-family:vazir;color:#0099cc\">\n",
        "\n",
        "</h2>\n",
        "\n",
        "\n",
        "\n",
        "<p dir=rtl style=\"direction: rtl; text-align: justify; line-height:200%; font-family:vazir; font-size:medium\">\n",
        "\n",
        "\n",
        "\n",
        "\n",
        "<center>\n",
        "<div dir=rtl style=\"direction: rtl;line-height:200%;font-family:vazir;font-size:medium\">\n",
        "<font face=\"vazir\" size=3>\n",
        "\n",
        "| نام ستون | توضیحات ستون |\n",
        "|:----------:|:------------------:|\n",
        "| <code>user</code> | شناسه کاربر |\n",
        "| <code>user_location_country</code> | شناسه‌ی کشور کاربر |\n",
        "| <code>user_location_region</code> | شناسه‌ی منطقه‌ی کاربر |\n",
        "| <code>user_location_city</code> | شناسه‌ی شهر کاربر |\n",
        "| <code>destination_distance</code> | فاصله‌ی فیزیکی بین کاربر و هتل در زمان جست‌وجو‌ (مقدار <code>null</code> به معنی عدم توانایی محاسبه فاصله است) |\n",
        "| <code>search_date</code> | زمان انجام جست‌وجو |\n",
        "| <code>is_mobile</code> | آیا کاربر با دستگاه موبایل جست‌وجو انجام داده است؟ |\n",
        "| <code>is_package</code> | آیا کاربر در حال جست‌وجوی هتل به‌همراه بلیط حمل‌و‌نقل (اتوبوس، هواپیما یا قطار) است؟|\n",
        "| <code>channel</code> | کاربر از چه کانالی وارد سایت شده‌است؟ (تبلیغات پیامکی، تبلیغات شبکه‌ی اجتماعی، ورود مستقیم و ...)  |\n",
        "| <code>Search_count</code> |تعداد جست‌وجو‌های مشابه در لحظه‌ی کاربر (در همان نشست یا ‌<i>session</i>)|\n",
        "| <code>checkIn_date</code> | تاریخ ورود به هتل |\n",
        "| <code>checkOut_date</code> | تاریخ خروج از هتل |\n",
        "| <code>n_adults</code> | تعداد افراد بالغ اعلام‌شده جهت رزرو هتل |\n",
        "| <code>n_children</code> | تعداد کودکان اعلام‌شده جهت رزرو هتل |\n",
        "| <code>n_rooms</code> | تعداد اتاق مورد نظر برای رزرو |\n",
        "| <code>destination</code> | شناسه‌ی محل هتل مورد نظر کاربر (با هم‌پوشانی همچون نیویورک، نیویورک سیتی، سنترال پارک و غیره) |\n",
        "| <code>destination_type</code> | کد نوع هتل مورد نظر کار‌بر |\n",
        "| <code>hotel_continent</code> | شناسه‌ی قاره‌ی هتل مورد نظر کاربر |\n",
        "| <code>hotel_country</code> | شناسه‌ی کشور هتل مورد نظر کاربر |\n",
        "| <code>hotel_market</code> | ناحیه‌ای که هتل مورد نظر کاربر در آن قرار گرفته‌است (بدون هم‌پوشانی همچون نیویورک، بوستون و غیره)|\n",
        "| <code>hotel_category</code> | گرو‌ه‌بندی هتلی که جزییاتش را مشاهده می‌کنند. این گروه‌بندی می‌تواند بر اساس مواردی مانند چندستاره بودن و یا نوع هتل باشد. |\n",
        "| <code>is_booking<code> | آیا کاربر در نهایت، هتل مشاهده‌شده را رزرو کرده یا خیر؟ |\n",
        "\n",
        "\n",
        "</font>\n",
        "</div>\n",
        "</center>"
      ]
    },
    {
      "cell_type": "code",
      "execution_count": 19,
      "id": "238e2183",
      "metadata": {
        "colab": {
          "base_uri": "https://localhost:8080/"
        },
        "id": "238e2183",
        "outputId": "d6e09cd0-ad20-4d3c-f90b-bc21fcaaa264"
      },
      "outputs": [
        {
          "name": "stdout",
          "output_type": "stream",
          "text": [
            "Requirement already satisfied: gdown in /usr/local/lib/python3.10/dist-packages (5.1.0)\n",
            "Collecting gdown\n",
            "  Downloading gdown-5.2.0-py3-none-any.whl.metadata (5.8 kB)\n",
            "Requirement already satisfied: beautifulsoup4 in /usr/local/lib/python3.10/dist-packages (from gdown) (4.12.3)\n",
            "Requirement already satisfied: filelock in /usr/local/lib/python3.10/dist-packages (from gdown) (3.16.0)\n",
            "Requirement already satisfied: requests[socks] in /usr/local/lib/python3.10/dist-packages (from gdown) (2.32.3)\n",
            "Requirement already satisfied: tqdm in /usr/local/lib/python3.10/dist-packages (from gdown) (4.66.5)\n",
            "Requirement already satisfied: soupsieve>1.2 in /usr/local/lib/python3.10/dist-packages (from beautifulsoup4->gdown) (2.6)\n",
            "Requirement already satisfied: charset-normalizer<4,>=2 in /usr/local/lib/python3.10/dist-packages (from requests[socks]->gdown) (3.3.2)\n",
            "Requirement already satisfied: idna<4,>=2.5 in /usr/local/lib/python3.10/dist-packages (from requests[socks]->gdown) (3.8)\n",
            "Requirement already satisfied: urllib3<3,>=1.21.1 in /usr/local/lib/python3.10/dist-packages (from requests[socks]->gdown) (2.0.7)\n",
            "Requirement already satisfied: certifi>=2017.4.17 in /usr/local/lib/python3.10/dist-packages (from requests[socks]->gdown) (2024.8.30)\n",
            "Requirement already satisfied: PySocks!=1.5.7,>=1.5.6 in /usr/local/lib/python3.10/dist-packages (from requests[socks]->gdown) (1.7.1)\n",
            "Downloading gdown-5.2.0-py3-none-any.whl (18 kB)\n",
            "Installing collected packages: gdown\n",
            "  Attempting uninstall: gdown\n",
            "    Found existing installation: gdown 5.1.0\n",
            "    Uninstalling gdown-5.1.0:\n",
            "      Successfully uninstalled gdown-5.1.0\n",
            "Successfully installed gdown-5.2.0\n",
            "Downloading...\n",
            "From (original): https://drive.google.com/uc?id=1jIl8uXsrdRz3ZBxljjQNo0ssDT8LbJBx\n",
            "From (redirected): https://drive.google.com/uc?id=1jIl8uXsrdRz3ZBxljjQNo0ssDT8LbJBx&confirm=t&uuid=4b9d6028-6d8d-4f77-8947-afdbd5718452\n",
            "To: /content/will_not_travel_again_data.zip\n",
            "100% 188M/188M [00:05<00:00, 32.8MB/s]\n"
          ]
        }
      ],
      "source": [
        "!pip3 install --upgrade --no-cache-dir gdown\n",
        "!gdown 1jIl8uXsrdRz3ZBxljjQNo0ssDT8LbJBx"
      ]
    },
    {
      "cell_type": "code",
      "execution_count": 20,
      "id": "meVjFA3JOna8",
      "metadata": {
        "colab": {
          "base_uri": "https://localhost:8080/"
        },
        "id": "meVjFA3JOna8",
        "outputId": "c7f8997a-d031-48b3-c41b-b0ce07a682f4"
      },
      "outputs": [
        {
          "name": "stdout",
          "output_type": "stream",
          "text": [
            "Archive:  will_not_travel_again_data.zip\n",
            "   creating: data/\n",
            "  inflating: data/test.csv           \n",
            "  inflating: data/train.csv          \n"
          ]
        }
      ],
      "source": [
        "!unzip will_not_travel_again_data.zip"
      ]
    },
    {
      "cell_type": "markdown",
      "id": "lMIruSXQzMAj",
      "metadata": {
        "id": "lMIruSXQzMAj"
      },
      "source": [
        "# **Data set reading**"
      ]
    },
    {
      "cell_type": "code",
      "execution_count": 21,
      "id": "abb84b7f-b40c-4691-92bc-fab04cca62e6",
      "metadata": {
        "colab": {
          "base_uri": "https://localhost:8080/",
          "height": 342
        },
        "id": "abb84b7f-b40c-4691-92bc-fab04cca62e6",
        "outputId": "6b18960b-3b33-4d25-a30b-e56362c4372c"
      },
      "outputs": [
        {
          "data": {
            "application/vnd.google.colaboratory.intrinsic+json": {
              "type": "dataframe",
              "variable_name": "train"
            },
            "text/html": [
              "\n",
              "  <div id=\"df-4f2d223e-6214-4d4a-a811-05bff202fc06\" class=\"colab-df-container\">\n",
              "    <div>\n",
              "<style scoped>\n",
              "    .dataframe tbody tr th:only-of-type {\n",
              "        vertical-align: middle;\n",
              "    }\n",
              "\n",
              "    .dataframe tbody tr th {\n",
              "        vertical-align: top;\n",
              "    }\n",
              "\n",
              "    .dataframe thead th {\n",
              "        text-align: right;\n",
              "    }\n",
              "</style>\n",
              "<table border=\"1\" class=\"dataframe\">\n",
              "  <thead>\n",
              "    <tr style=\"text-align: right;\">\n",
              "      <th></th>\n",
              "      <th>user</th>\n",
              "      <th>user_location_country</th>\n",
              "      <th>user_location_region</th>\n",
              "      <th>user_location_city</th>\n",
              "      <th>destination_distance</th>\n",
              "      <th>search_date</th>\n",
              "      <th>is_mobile</th>\n",
              "      <th>is_package</th>\n",
              "      <th>channel</th>\n",
              "      <th>search_count</th>\n",
              "      <th>...</th>\n",
              "      <th>n_adults</th>\n",
              "      <th>n_children</th>\n",
              "      <th>n_rooms</th>\n",
              "      <th>destination</th>\n",
              "      <th>destination_type</th>\n",
              "      <th>hotel_continent</th>\n",
              "      <th>hotel_country</th>\n",
              "      <th>hotel_market</th>\n",
              "      <th>hotel_category</th>\n",
              "      <th>is_booking</th>\n",
              "    </tr>\n",
              "  </thead>\n",
              "  <tbody>\n",
              "    <tr>\n",
              "      <th>0</th>\n",
              "      <td>461899</td>\n",
              "      <td>3</td>\n",
              "      <td>50</td>\n",
              "      <td>5703</td>\n",
              "      <td>NaN</td>\n",
              "      <td>2013-01-07 00:00:02</td>\n",
              "      <td>0</td>\n",
              "      <td>0</td>\n",
              "      <td>9</td>\n",
              "      <td>1</td>\n",
              "      <td>...</td>\n",
              "      <td>2</td>\n",
              "      <td>1</td>\n",
              "      <td>1</td>\n",
              "      <td>669</td>\n",
              "      <td>3</td>\n",
              "      <td>2</td>\n",
              "      <td>50</td>\n",
              "      <td>212</td>\n",
              "      <td>41</td>\n",
              "      <td>0</td>\n",
              "    </tr>\n",
              "    <tr>\n",
              "      <th>1</th>\n",
              "      <td>13796</td>\n",
              "      <td>66</td>\n",
              "      <td>174</td>\n",
              "      <td>21177</td>\n",
              "      <td>5713.6206</td>\n",
              "      <td>2013-01-07 00:00:06</td>\n",
              "      <td>0</td>\n",
              "      <td>0</td>\n",
              "      <td>9</td>\n",
              "      <td>3</td>\n",
              "      <td>...</td>\n",
              "      <td>1</td>\n",
              "      <td>0</td>\n",
              "      <td>1</td>\n",
              "      <td>8821</td>\n",
              "      <td>1</td>\n",
              "      <td>6</td>\n",
              "      <td>17</td>\n",
              "      <td>30</td>\n",
              "      <td>58</td>\n",
              "      <td>0</td>\n",
              "    </tr>\n",
              "    <tr>\n",
              "      <th>2</th>\n",
              "      <td>1128575</td>\n",
              "      <td>205</td>\n",
              "      <td>155</td>\n",
              "      <td>14703</td>\n",
              "      <td>795.7298</td>\n",
              "      <td>2013-01-07 00:00:06</td>\n",
              "      <td>0</td>\n",
              "      <td>0</td>\n",
              "      <td>9</td>\n",
              "      <td>1</td>\n",
              "      <td>...</td>\n",
              "      <td>1</td>\n",
              "      <td>0</td>\n",
              "      <td>1</td>\n",
              "      <td>25064</td>\n",
              "      <td>6</td>\n",
              "      <td>2</td>\n",
              "      <td>50</td>\n",
              "      <td>1230</td>\n",
              "      <td>91</td>\n",
              "      <td>0</td>\n",
              "    </tr>\n",
              "    <tr>\n",
              "      <th>3</th>\n",
              "      <td>1080476</td>\n",
              "      <td>69</td>\n",
              "      <td>761</td>\n",
              "      <td>41949</td>\n",
              "      <td>NaN</td>\n",
              "      <td>2013-01-07 00:00:17</td>\n",
              "      <td>0</td>\n",
              "      <td>1</td>\n",
              "      <td>9</td>\n",
              "      <td>1</td>\n",
              "      <td>...</td>\n",
              "      <td>2</td>\n",
              "      <td>0</td>\n",
              "      <td>1</td>\n",
              "      <td>7635</td>\n",
              "      <td>3</td>\n",
              "      <td>2</td>\n",
              "      <td>50</td>\n",
              "      <td>675</td>\n",
              "      <td>10</td>\n",
              "      <td>0</td>\n",
              "    </tr>\n",
              "    <tr>\n",
              "      <th>4</th>\n",
              "      <td>1080476</td>\n",
              "      <td>69</td>\n",
              "      <td>761</td>\n",
              "      <td>41949</td>\n",
              "      <td>NaN</td>\n",
              "      <td>2013-01-07 00:00:23</td>\n",
              "      <td>0</td>\n",
              "      <td>1</td>\n",
              "      <td>9</td>\n",
              "      <td>1</td>\n",
              "      <td>...</td>\n",
              "      <td>2</td>\n",
              "      <td>0</td>\n",
              "      <td>1</td>\n",
              "      <td>7635</td>\n",
              "      <td>3</td>\n",
              "      <td>2</td>\n",
              "      <td>50</td>\n",
              "      <td>675</td>\n",
              "      <td>10</td>\n",
              "      <td>0</td>\n",
              "    </tr>\n",
              "  </tbody>\n",
              "</table>\n",
              "<p>5 rows × 22 columns</p>\n",
              "</div>\n",
              "    <div class=\"colab-df-buttons\">\n",
              "\n",
              "  <div class=\"colab-df-container\">\n",
              "    <button class=\"colab-df-convert\" onclick=\"convertToInteractive('df-4f2d223e-6214-4d4a-a811-05bff202fc06')\"\n",
              "            title=\"Convert this dataframe to an interactive table.\"\n",
              "            style=\"display:none;\">\n",
              "\n",
              "  <svg xmlns=\"http://www.w3.org/2000/svg\" height=\"24px\" viewBox=\"0 -960 960 960\">\n",
              "    <path d=\"M120-120v-720h720v720H120Zm60-500h600v-160H180v160Zm220 220h160v-160H400v160Zm0 220h160v-160H400v160ZM180-400h160v-160H180v160Zm440 0h160v-160H620v160ZM180-180h160v-160H180v160Zm440 0h160v-160H620v160Z\"/>\n",
              "  </svg>\n",
              "    </button>\n",
              "\n",
              "  <style>\n",
              "    .colab-df-container {\n",
              "      display:flex;\n",
              "      gap: 12px;\n",
              "    }\n",
              "\n",
              "    .colab-df-convert {\n",
              "      background-color: #E8F0FE;\n",
              "      border: none;\n",
              "      border-radius: 50%;\n",
              "      cursor: pointer;\n",
              "      display: none;\n",
              "      fill: #1967D2;\n",
              "      height: 32px;\n",
              "      padding: 0 0 0 0;\n",
              "      width: 32px;\n",
              "    }\n",
              "\n",
              "    .colab-df-convert:hover {\n",
              "      background-color: #E2EBFA;\n",
              "      box-shadow: 0px 1px 2px rgba(60, 64, 67, 0.3), 0px 1px 3px 1px rgba(60, 64, 67, 0.15);\n",
              "      fill: #174EA6;\n",
              "    }\n",
              "\n",
              "    .colab-df-buttons div {\n",
              "      margin-bottom: 4px;\n",
              "    }\n",
              "\n",
              "    [theme=dark] .colab-df-convert {\n",
              "      background-color: #3B4455;\n",
              "      fill: #D2E3FC;\n",
              "    }\n",
              "\n",
              "    [theme=dark] .colab-df-convert:hover {\n",
              "      background-color: #434B5C;\n",
              "      box-shadow: 0px 1px 3px 1px rgba(0, 0, 0, 0.15);\n",
              "      filter: drop-shadow(0px 1px 2px rgba(0, 0, 0, 0.3));\n",
              "      fill: #FFFFFF;\n",
              "    }\n",
              "  </style>\n",
              "\n",
              "    <script>\n",
              "      const buttonEl =\n",
              "        document.querySelector('#df-4f2d223e-6214-4d4a-a811-05bff202fc06 button.colab-df-convert');\n",
              "      buttonEl.style.display =\n",
              "        google.colab.kernel.accessAllowed ? 'block' : 'none';\n",
              "\n",
              "      async function convertToInteractive(key) {\n",
              "        const element = document.querySelector('#df-4f2d223e-6214-4d4a-a811-05bff202fc06');\n",
              "        const dataTable =\n",
              "          await google.colab.kernel.invokeFunction('convertToInteractive',\n",
              "                                                    [key], {});\n",
              "        if (!dataTable) return;\n",
              "\n",
              "        const docLinkHtml = 'Like what you see? Visit the ' +\n",
              "          '<a target=\"_blank\" href=https://colab.research.google.com/notebooks/data_table.ipynb>data table notebook</a>'\n",
              "          + ' to learn more about interactive tables.';\n",
              "        element.innerHTML = '';\n",
              "        dataTable['output_type'] = 'display_data';\n",
              "        await google.colab.output.renderOutput(dataTable, element);\n",
              "        const docLink = document.createElement('div');\n",
              "        docLink.innerHTML = docLinkHtml;\n",
              "        element.appendChild(docLink);\n",
              "      }\n",
              "    </script>\n",
              "  </div>\n",
              "\n",
              "\n",
              "<div id=\"df-59e4517a-2190-499c-894c-4fa823576aed\">\n",
              "  <button class=\"colab-df-quickchart\" onclick=\"quickchart('df-59e4517a-2190-499c-894c-4fa823576aed')\"\n",
              "            title=\"Suggest charts\"\n",
              "            style=\"display:none;\">\n",
              "\n",
              "<svg xmlns=\"http://www.w3.org/2000/svg\" height=\"24px\"viewBox=\"0 0 24 24\"\n",
              "     width=\"24px\">\n",
              "    <g>\n",
              "        <path d=\"M19 3H5c-1.1 0-2 .9-2 2v14c0 1.1.9 2 2 2h14c1.1 0 2-.9 2-2V5c0-1.1-.9-2-2-2zM9 17H7v-7h2v7zm4 0h-2V7h2v10zm4 0h-2v-4h2v4z\"/>\n",
              "    </g>\n",
              "</svg>\n",
              "  </button>\n",
              "\n",
              "<style>\n",
              "  .colab-df-quickchart {\n",
              "      --bg-color: #E8F0FE;\n",
              "      --fill-color: #1967D2;\n",
              "      --hover-bg-color: #E2EBFA;\n",
              "      --hover-fill-color: #174EA6;\n",
              "      --disabled-fill-color: #AAA;\n",
              "      --disabled-bg-color: #DDD;\n",
              "  }\n",
              "\n",
              "  [theme=dark] .colab-df-quickchart {\n",
              "      --bg-color: #3B4455;\n",
              "      --fill-color: #D2E3FC;\n",
              "      --hover-bg-color: #434B5C;\n",
              "      --hover-fill-color: #FFFFFF;\n",
              "      --disabled-bg-color: #3B4455;\n",
              "      --disabled-fill-color: #666;\n",
              "  }\n",
              "\n",
              "  .colab-df-quickchart {\n",
              "    background-color: var(--bg-color);\n",
              "    border: none;\n",
              "    border-radius: 50%;\n",
              "    cursor: pointer;\n",
              "    display: none;\n",
              "    fill: var(--fill-color);\n",
              "    height: 32px;\n",
              "    padding: 0;\n",
              "    width: 32px;\n",
              "  }\n",
              "\n",
              "  .colab-df-quickchart:hover {\n",
              "    background-color: var(--hover-bg-color);\n",
              "    box-shadow: 0 1px 2px rgba(60, 64, 67, 0.3), 0 1px 3px 1px rgba(60, 64, 67, 0.15);\n",
              "    fill: var(--button-hover-fill-color);\n",
              "  }\n",
              "\n",
              "  .colab-df-quickchart-complete:disabled,\n",
              "  .colab-df-quickchart-complete:disabled:hover {\n",
              "    background-color: var(--disabled-bg-color);\n",
              "    fill: var(--disabled-fill-color);\n",
              "    box-shadow: none;\n",
              "  }\n",
              "\n",
              "  .colab-df-spinner {\n",
              "    border: 2px solid var(--fill-color);\n",
              "    border-color: transparent;\n",
              "    border-bottom-color: var(--fill-color);\n",
              "    animation:\n",
              "      spin 1s steps(1) infinite;\n",
              "  }\n",
              "\n",
              "  @keyframes spin {\n",
              "    0% {\n",
              "      border-color: transparent;\n",
              "      border-bottom-color: var(--fill-color);\n",
              "      border-left-color: var(--fill-color);\n",
              "    }\n",
              "    20% {\n",
              "      border-color: transparent;\n",
              "      border-left-color: var(--fill-color);\n",
              "      border-top-color: var(--fill-color);\n",
              "    }\n",
              "    30% {\n",
              "      border-color: transparent;\n",
              "      border-left-color: var(--fill-color);\n",
              "      border-top-color: var(--fill-color);\n",
              "      border-right-color: var(--fill-color);\n",
              "    }\n",
              "    40% {\n",
              "      border-color: transparent;\n",
              "      border-right-color: var(--fill-color);\n",
              "      border-top-color: var(--fill-color);\n",
              "    }\n",
              "    60% {\n",
              "      border-color: transparent;\n",
              "      border-right-color: var(--fill-color);\n",
              "    }\n",
              "    80% {\n",
              "      border-color: transparent;\n",
              "      border-right-color: var(--fill-color);\n",
              "      border-bottom-color: var(--fill-color);\n",
              "    }\n",
              "    90% {\n",
              "      border-color: transparent;\n",
              "      border-bottom-color: var(--fill-color);\n",
              "    }\n",
              "  }\n",
              "</style>\n",
              "\n",
              "  <script>\n",
              "    async function quickchart(key) {\n",
              "      const quickchartButtonEl =\n",
              "        document.querySelector('#' + key + ' button');\n",
              "      quickchartButtonEl.disabled = true;  // To prevent multiple clicks.\n",
              "      quickchartButtonEl.classList.add('colab-df-spinner');\n",
              "      try {\n",
              "        const charts = await google.colab.kernel.invokeFunction(\n",
              "            'suggestCharts', [key], {});\n",
              "      } catch (error) {\n",
              "        console.error('Error during call to suggestCharts:', error);\n",
              "      }\n",
              "      quickchartButtonEl.classList.remove('colab-df-spinner');\n",
              "      quickchartButtonEl.classList.add('colab-df-quickchart-complete');\n",
              "    }\n",
              "    (() => {\n",
              "      let quickchartButtonEl =\n",
              "        document.querySelector('#df-59e4517a-2190-499c-894c-4fa823576aed button');\n",
              "      quickchartButtonEl.style.display =\n",
              "        google.colab.kernel.accessAllowed ? 'block' : 'none';\n",
              "    })();\n",
              "  </script>\n",
              "</div>\n",
              "    </div>\n",
              "  </div>\n"
            ],
            "text/plain": [
              "      user  user_location_country  user_location_region  user_location_city  \\\n",
              "0   461899                      3                    50                5703   \n",
              "1    13796                     66                   174               21177   \n",
              "2  1128575                    205                   155               14703   \n",
              "3  1080476                     69                   761               41949   \n",
              "4  1080476                     69                   761               41949   \n",
              "\n",
              "   destination_distance         search_date  is_mobile  is_package  channel  \\\n",
              "0                   NaN 2013-01-07 00:00:02          0           0        9   \n",
              "1             5713.6206 2013-01-07 00:00:06          0           0        9   \n",
              "2              795.7298 2013-01-07 00:00:06          0           0        9   \n",
              "3                   NaN 2013-01-07 00:00:17          0           1        9   \n",
              "4                   NaN 2013-01-07 00:00:23          0           1        9   \n",
              "\n",
              "   search_count  ... n_adults n_children  n_rooms  destination  \\\n",
              "0             1  ...        2          1        1          669   \n",
              "1             3  ...        1          0        1         8821   \n",
              "2             1  ...        1          0        1        25064   \n",
              "3             1  ...        2          0        1         7635   \n",
              "4             1  ...        2          0        1         7635   \n",
              "\n",
              "   destination_type  hotel_continent  hotel_country  hotel_market  \\\n",
              "0                 3                2             50           212   \n",
              "1                 1                6             17            30   \n",
              "2                 6                2             50          1230   \n",
              "3                 3                2             50           675   \n",
              "4                 3                2             50           675   \n",
              "\n",
              "   hotel_category  is_booking  \n",
              "0              41           0  \n",
              "1              58           0  \n",
              "2              91           0  \n",
              "3              10           0  \n",
              "4              10           0  \n",
              "\n",
              "[5 rows x 22 columns]"
            ]
          },
          "execution_count": 21,
          "metadata": {},
          "output_type": "execute_result"
        }
      ],
      "source": [
        "train = pd.read_csv('./data/train.csv', engine = 'pyarrow')\n",
        "\n",
        "train.head()"
      ]
    },
    {
      "cell_type": "code",
      "execution_count": 8,
      "id": "XBwARzBGO8Sf",
      "metadata": {
        "id": "XBwARzBGO8Sf"
      },
      "outputs": [],
      "source": [
        "train.info()"
      ]
    },
    {
      "cell_type": "markdown",
      "id": "hA4Qfl2Fzi0D",
      "metadata": {
        "id": "hA4Qfl2Fzi0D"
      },
      "source": [
        "# **Data mining and feature engineering**"
      ]
    },
    {
      "cell_type": "code",
      "execution_count": 22,
      "id": "b3bc71b5-b4ee-4bd9-a74b-de7a16fcb9d7",
      "metadata": {
        "id": "b3bc71b5-b4ee-4bd9-a74b-de7a16fcb9d7"
      },
      "outputs": [],
      "source": [
        "# TODO : Drop columns = ['user'] for train set\n",
        "train.drop(columns = ['user'], inplace = True)"
      ]
    },
    {
      "cell_type": "code",
      "execution_count": 9,
      "id": "ZuQm8O-iPA0P",
      "metadata": {
        "id": "ZuQm8O-iPA0P"
      },
      "outputs": [],
      "source": [
        "train.info()"
      ]
    },
    {
      "cell_type": "code",
      "execution_count": 23,
      "id": "wTBHNE2yTDi_",
      "metadata": {
        "colab": {
          "base_uri": "https://localhost:8080/",
          "height": 147
        },
        "id": "wTBHNE2yTDi_",
        "outputId": "c8b11534-f302-4a7e-bfa7-0141c9e48efe"
      },
      "outputs": [
        {
          "data": {
            "text/html": [
              "<div>\n",
              "<style scoped>\n",
              "    .dataframe tbody tr th:only-of-type {\n",
              "        vertical-align: middle;\n",
              "    }\n",
              "\n",
              "    .dataframe tbody tr th {\n",
              "        vertical-align: top;\n",
              "    }\n",
              "\n",
              "    .dataframe thead th {\n",
              "        text-align: right;\n",
              "    }\n",
              "</style>\n",
              "<table border=\"1\" class=\"dataframe\">\n",
              "  <thead>\n",
              "    <tr style=\"text-align: right;\">\n",
              "      <th></th>\n",
              "      <th>proportion</th>\n",
              "    </tr>\n",
              "    <tr>\n",
              "      <th>is_booking</th>\n",
              "      <th></th>\n",
              "    </tr>\n",
              "  </thead>\n",
              "  <tbody>\n",
              "    <tr>\n",
              "      <th>0</th>\n",
              "      <td>1.0</td>\n",
              "    </tr>\n",
              "  </tbody>\n",
              "</table>\n",
              "</div><br><label><b>dtype:</b> float64</label>"
            ],
            "text/plain": [
              "is_booking\n",
              "0    1.0\n",
              "Name: proportion, dtype: float64"
            ]
          },
          "execution_count": 23,
          "metadata": {},
          "output_type": "execute_result"
        }
      ],
      "source": [
        "train[train['checkIn_date'].isna()]['is_booking'].value_counts(normalize=True)"
      ]
    },
    {
      "cell_type": "code",
      "execution_count": 24,
      "id": "FwkHu9v9PJ6u",
      "metadata": {
        "colab": {
          "base_uri": "https://localhost:8080/",
          "height": 147
        },
        "id": "FwkHu9v9PJ6u",
        "outputId": "1ccea65b-aa29-4183-c168-6146bd392f98"
      },
      "outputs": [
        {
          "data": {
            "text/html": [
              "<div>\n",
              "<style scoped>\n",
              "    .dataframe tbody tr th:only-of-type {\n",
              "        vertical-align: middle;\n",
              "    }\n",
              "\n",
              "    .dataframe tbody tr th {\n",
              "        vertical-align: top;\n",
              "    }\n",
              "\n",
              "    .dataframe thead th {\n",
              "        text-align: right;\n",
              "    }\n",
              "</style>\n",
              "<table border=\"1\" class=\"dataframe\">\n",
              "  <thead>\n",
              "    <tr style=\"text-align: right;\">\n",
              "      <th></th>\n",
              "      <th>proportion</th>\n",
              "    </tr>\n",
              "    <tr>\n",
              "      <th>is_booking</th>\n",
              "      <th></th>\n",
              "    </tr>\n",
              "  </thead>\n",
              "  <tbody>\n",
              "    <tr>\n",
              "      <th>0</th>\n",
              "      <td>1.0</td>\n",
              "    </tr>\n",
              "  </tbody>\n",
              "</table>\n",
              "</div><br><label><b>dtype:</b> float64</label>"
            ],
            "text/plain": [
              "is_booking\n",
              "0    1.0\n",
              "Name: proportion, dtype: float64"
            ]
          },
          "execution_count": 24,
          "metadata": {},
          "output_type": "execute_result"
        }
      ],
      "source": [
        "train[train['checkOut_date'].isna()]['is_booking'].value_counts(normalize=True)"
      ]
    },
    {
      "cell_type": "code",
      "execution_count": 25,
      "id": "1e39b74b-d746-4231-a398-ad325acc5a0e",
      "metadata": {
        "id": "1e39b74b-d746-4231-a398-ad325acc5a0e"
      },
      "outputs": [],
      "source": [
        "train.dropna(subset = ['checkIn_date'], inplace = True)\n",
        "train.dropna(subset = ['checkOut_date'], inplace = True)"
      ]
    },
    {
      "cell_type": "code",
      "execution_count": 10,
      "id": "jgDW6QxGPJOC",
      "metadata": {
        "id": "jgDW6QxGPJOC"
      },
      "outputs": [],
      "source": [
        "train.info()"
      ]
    },
    {
      "cell_type": "code",
      "execution_count": 26,
      "id": "70407dff-9cf0-4986-8ff3-e12cec162d45",
      "metadata": {
        "colab": {
          "base_uri": "https://localhost:8080/"
        },
        "id": "70407dff-9cf0-4986-8ff3-e12cec162d45",
        "outputId": "a0a6780b-138f-4a26-e877-4c4eedbbb3d0"
      },
      "outputs": [
        {
          "data": {
            "text/plain": [
              "0.35762694533684297"
            ]
          },
          "execution_count": 26,
          "metadata": {},
          "output_type": "execute_result"
        }
      ],
      "source": [
        "train.isna().mean()['destination_distance']"
      ]
    },
    {
      "cell_type": "code",
      "execution_count": 27,
      "id": "535e3d80-6bb9-4f4e-9324-431a70a6f624",
      "metadata": {
        "id": "535e3d80-6bb9-4f4e-9324-431a70a6f624"
      },
      "outputs": [],
      "source": [
        "mean = train.groupby(['user_location_city','destination'])['destination_distance'].transform('mean')\n",
        "\n",
        "train['destination_distance'].fillna(mean, inplace = True)"
      ]
    },
    {
      "cell_type": "code",
      "execution_count": 11,
      "id": "G2xbbLbzTY82",
      "metadata": {
        "id": "G2xbbLbzTY82"
      },
      "outputs": [],
      "source": [
        "train.info()"
      ]
    },
    {
      "cell_type": "code",
      "execution_count": 29,
      "id": "191b4cf6-8bed-4e0a-9fcf-6be2583b93bd",
      "metadata": {
        "colab": {
          "base_uri": "https://localhost:8080/",
          "height": 99
        },
        "id": "191b4cf6-8bed-4e0a-9fcf-6be2583b93bd",
        "outputId": "b9d52f78-06ab-4abd-a6e3-9b156ff34bdf"
      },
      "outputs": [
        {
          "data": {
            "application/vnd.google.colaboratory.intrinsic+json": {
              "type": "dataframe"
            },
            "text/html": [
              "\n",
              "  <div id=\"df-53e2c053-231e-4a3d-904b-ace6472a772d\" class=\"colab-df-container\">\n",
              "    <div>\n",
              "<style scoped>\n",
              "    .dataframe tbody tr th:only-of-type {\n",
              "        vertical-align: middle;\n",
              "    }\n",
              "\n",
              "    .dataframe tbody tr th {\n",
              "        vertical-align: top;\n",
              "    }\n",
              "\n",
              "    .dataframe thead th {\n",
              "        text-align: right;\n",
              "    }\n",
              "</style>\n",
              "<table border=\"1\" class=\"dataframe\">\n",
              "  <thead>\n",
              "    <tr style=\"text-align: right;\">\n",
              "      <th></th>\n",
              "      <th>user_location_country</th>\n",
              "      <th>user_location_region</th>\n",
              "      <th>user_location_city</th>\n",
              "      <th>destination_distance</th>\n",
              "      <th>search_date</th>\n",
              "      <th>is_mobile</th>\n",
              "      <th>is_package</th>\n",
              "      <th>channel</th>\n",
              "      <th>search_count</th>\n",
              "      <th>checkIn_date</th>\n",
              "      <th>...</th>\n",
              "      <th>n_adults</th>\n",
              "      <th>n_children</th>\n",
              "      <th>n_rooms</th>\n",
              "      <th>destination</th>\n",
              "      <th>destination_type</th>\n",
              "      <th>hotel_continent</th>\n",
              "      <th>hotel_country</th>\n",
              "      <th>hotel_market</th>\n",
              "      <th>hotel_category</th>\n",
              "      <th>is_booking</th>\n",
              "    </tr>\n",
              "  </thead>\n",
              "  <tbody>\n",
              "  </tbody>\n",
              "</table>\n",
              "<p>0 rows × 21 columns</p>\n",
              "</div>\n",
              "    <div class=\"colab-df-buttons\">\n",
              "\n",
              "  <div class=\"colab-df-container\">\n",
              "    <button class=\"colab-df-convert\" onclick=\"convertToInteractive('df-53e2c053-231e-4a3d-904b-ace6472a772d')\"\n",
              "            title=\"Convert this dataframe to an interactive table.\"\n",
              "            style=\"display:none;\">\n",
              "\n",
              "  <svg xmlns=\"http://www.w3.org/2000/svg\" height=\"24px\" viewBox=\"0 -960 960 960\">\n",
              "    <path d=\"M120-120v-720h720v720H120Zm60-500h600v-160H180v160Zm220 220h160v-160H400v160Zm0 220h160v-160H400v160ZM180-400h160v-160H180v160Zm440 0h160v-160H620v160ZM180-180h160v-160H180v160Zm440 0h160v-160H620v160Z\"/>\n",
              "  </svg>\n",
              "    </button>\n",
              "\n",
              "  <style>\n",
              "    .colab-df-container {\n",
              "      display:flex;\n",
              "      gap: 12px;\n",
              "    }\n",
              "\n",
              "    .colab-df-convert {\n",
              "      background-color: #E8F0FE;\n",
              "      border: none;\n",
              "      border-radius: 50%;\n",
              "      cursor: pointer;\n",
              "      display: none;\n",
              "      fill: #1967D2;\n",
              "      height: 32px;\n",
              "      padding: 0 0 0 0;\n",
              "      width: 32px;\n",
              "    }\n",
              "\n",
              "    .colab-df-convert:hover {\n",
              "      background-color: #E2EBFA;\n",
              "      box-shadow: 0px 1px 2px rgba(60, 64, 67, 0.3), 0px 1px 3px 1px rgba(60, 64, 67, 0.15);\n",
              "      fill: #174EA6;\n",
              "    }\n",
              "\n",
              "    .colab-df-buttons div {\n",
              "      margin-bottom: 4px;\n",
              "    }\n",
              "\n",
              "    [theme=dark] .colab-df-convert {\n",
              "      background-color: #3B4455;\n",
              "      fill: #D2E3FC;\n",
              "    }\n",
              "\n",
              "    [theme=dark] .colab-df-convert:hover {\n",
              "      background-color: #434B5C;\n",
              "      box-shadow: 0px 1px 3px 1px rgba(0, 0, 0, 0.15);\n",
              "      filter: drop-shadow(0px 1px 2px rgba(0, 0, 0, 0.3));\n",
              "      fill: #FFFFFF;\n",
              "    }\n",
              "  </style>\n",
              "\n",
              "    <script>\n",
              "      const buttonEl =\n",
              "        document.querySelector('#df-53e2c053-231e-4a3d-904b-ace6472a772d button.colab-df-convert');\n",
              "      buttonEl.style.display =\n",
              "        google.colab.kernel.accessAllowed ? 'block' : 'none';\n",
              "\n",
              "      async function convertToInteractive(key) {\n",
              "        const element = document.querySelector('#df-53e2c053-231e-4a3d-904b-ace6472a772d');\n",
              "        const dataTable =\n",
              "          await google.colab.kernel.invokeFunction('convertToInteractive',\n",
              "                                                    [key], {});\n",
              "        if (!dataTable) return;\n",
              "\n",
              "        const docLinkHtml = 'Like what you see? Visit the ' +\n",
              "          '<a target=\"_blank\" href=https://colab.research.google.com/notebooks/data_table.ipynb>data table notebook</a>'\n",
              "          + ' to learn more about interactive tables.';\n",
              "        element.innerHTML = '';\n",
              "        dataTable['output_type'] = 'display_data';\n",
              "        await google.colab.output.renderOutput(dataTable, element);\n",
              "        const docLink = document.createElement('div');\n",
              "        docLink.innerHTML = docLinkHtml;\n",
              "        element.appendChild(docLink);\n",
              "      }\n",
              "    </script>\n",
              "  </div>\n",
              "\n",
              "    </div>\n",
              "  </div>\n"
            ],
            "text/plain": [
              "Empty DataFrame\n",
              "Columns: [user_location_country, user_location_region, user_location_city, destination_distance, search_date, is_mobile, is_package, channel, search_count, checkIn_date, checkOut_date, n_adults, n_children, n_rooms, destination, destination_type, hotel_continent, hotel_country, hotel_market, hotel_category, is_booking]\n",
              "Index: []\n",
              "\n",
              "[0 rows x 21 columns]"
            ]
          },
          "execution_count": 29,
          "metadata": {},
          "output_type": "execute_result"
        }
      ],
      "source": [
        "train[train['destination_distance'] == 0]"
      ]
    },
    {
      "cell_type": "code",
      "execution_count": 30,
      "id": "f7c327ef-c44f-47c5-bdc7-a0d120858a8d",
      "metadata": {
        "id": "f7c327ef-c44f-47c5-bdc7-a0d120858a8d"
      },
      "outputs": [],
      "source": [
        "train['destination_distance'].fillna(0, inplace = True)"
      ]
    },
    {
      "cell_type": "code",
      "execution_count": 13,
      "id": "d4dd1c71-000c-4962-a3d6-4c77764d2537",
      "metadata": {
        "id": "d4dd1c71-000c-4962-a3d6-4c77764d2537"
      },
      "outputs": [],
      "source": [
        "train.isna().sum()"
      ]
    },
    {
      "cell_type": "code",
      "execution_count": 14,
      "id": "JuIFzEA9TqrK",
      "metadata": {
        "id": "JuIFzEA9TqrK"
      },
      "outputs": [],
      "source": [
        "train.info()"
      ]
    },
    {
      "cell_type": "markdown",
      "id": "IO3NjzCW01EO",
      "metadata": {
        "id": "IO3NjzCW01EO"
      },
      "source": [
        "# **Time characteristics**"
      ]
    },
    {
      "cell_type": "markdown",
      "id": "369a75cd-4530-4918-ba85-3bb774213297",
      "metadata": {
        "id": "369a75cd-4530-4918-ba85-3bb774213297"
      },
      "source": [
        "<h3 align=right style=\"line-height:200%;font-family:vazir;color:#0099cc\">\n",
        "\n",
        "</font>\n",
        "    \n",
        "```python\n",
        "df[‘time_type’] = pd.to_datetime(df[‘time_string’])\n",
        "```\n",
        "</p>"
      ]
    },
    {
      "cell_type": "code",
      "execution_count": 31,
      "id": "3db53ef8-80e4-4763-8a77-d56d6d25cca3",
      "metadata": {
        "id": "3db53ef8-80e4-4763-8a77-d56d6d25cca3"
      },
      "outputs": [],
      "source": [
        "# TODO : change type of columns in time_columns into datetime64[ns]\n",
        "\n",
        "time_columns = ['search_date', 'checkIn_date', 'checkOut_date']\n",
        "for column in time_columns:\n",
        "    train[column] = pd.to_datetime(train[column])"
      ]
    },
    {
      "cell_type": "code",
      "execution_count": 15,
      "id": "ogIOU-v7TvWL",
      "metadata": {
        "id": "ogIOU-v7TvWL"
      },
      "outputs": [],
      "source": [
        "train.info()"
      ]
    },
    {
      "cell_type": "code",
      "execution_count": 32,
      "id": "4a0893a4-b555-4bfc-b521-b1e535edb7c5",
      "metadata": {
        "id": "4a0893a4-b555-4bfc-b521-b1e535edb7c5"
      },
      "outputs": [],
      "source": [
        "# TODO : Add Days of Stay\n",
        "\n",
        "duration = train['checkOut_date'] - train['checkIn_date'] #TODO\n",
        "train['duration'] = duration.dt.days.astype(int) #TODO\n",
        "\n",
        "# TODO : Add Days between search_date and checkIn_date\n",
        "\n",
        "days_between = train['checkIn_date'] - train['search_date'] #TODO\n",
        "train['days_between'] = days_between.dt.days.astype(int) #TODO"
      ]
    },
    {
      "cell_type": "code",
      "execution_count": 16,
      "id": "By2u0bKYTy9_",
      "metadata": {
        "id": "By2u0bKYTy9_"
      },
      "outputs": [],
      "source": [
        "train.info()"
      ]
    },
    {
      "cell_type": "code",
      "execution_count": 33,
      "id": "36456780",
      "metadata": {
        "id": "36456780"
      },
      "outputs": [],
      "source": [
        "del days_between, duration, mean"
      ]
    },
    {
      "cell_type": "code",
      "execution_count": 34,
      "id": "c1d89ef1-2f82-42f4-b6c6-909751763012",
      "metadata": {
        "id": "c1d89ef1-2f82-42f4-b6c6-909751763012"
      },
      "outputs": [],
      "source": [
        "train['search_date_hour'] = train['search_date'].dt.hour\n",
        "train['search_date_dayofweek'] = train['search_date'].dt.dayofweek\n",
        "train['checkIn_date_dayofweek'] = train['checkIn_date'].dt.dayofweek\n",
        "train['search_date_month'] = train['search_date'].dt.month\n",
        "train['checkIn_date_month'] = train['checkIn_date'].dt.month"
      ]
    },
    {
      "cell_type": "code",
      "execution_count": 35,
      "id": "514c0435-7033-4605-ac4b-8eaeed026ecb",
      "metadata": {
        "id": "514c0435-7033-4605-ac4b-8eaeed026ecb"
      },
      "outputs": [],
      "source": [
        "# You can only add the columns you need to is_booked and not_booked column (Due to RAM problem)\n",
        "is_booked = train[train['is_booking'] == True]\n",
        "not_booked = train[train['is_booking'] == False]"
      ]
    },
    {
      "cell_type": "markdown",
      "id": "fCZcUiqp1a_x",
      "metadata": {
        "id": "fCZcUiqp1a_x"
      },
      "source": [
        "# **illustration 1**"
      ]
    },
    {
      "cell_type": "code",
      "execution_count": 36,
      "id": "b7daecb1-658f-49c3-8d68-c769988ebb76",
      "metadata": {
        "colab": {
          "base_uri": "https://localhost:8080/",
          "height": 542
        },
        "id": "b7daecb1-658f-49c3-8d68-c769988ebb76",
        "outputId": "0c0ae625-9801-4aa4-985f-8618fd8c58c2"
      },
      "outputs": [
        {
          "data": {
            "text/html": [
              "<html>\n",
              "<head><meta charset=\"utf-8\" /></head>\n",
              "<body>\n",
              "    <div>            <script src=\"https://cdnjs.cloudflare.com/ajax/libs/mathjax/2.7.5/MathJax.js?config=TeX-AMS-MML_SVG\"></script><script type=\"text/javascript\">if (window.MathJax && window.MathJax.Hub && window.MathJax.Hub.Config) {window.MathJax.Hub.Config({SVG: {font: \"STIX-Web\"}});}</script>                <script type=\"text/javascript\">window.PlotlyConfig = {MathJaxConfig: 'local'};</script>\n",
              "        <script charset=\"utf-8\" src=\"https://cdn.plot.ly/plotly-2.24.1.min.js\"></script>                <div id=\"7f91383d-93a6-4839-9b21-77fb2fae23e1\" class=\"plotly-graph-div\" style=\"height:525px; width:100%;\"></div>            <script type=\"text/javascript\">                                    window.PLOTLYENV=window.PLOTLYENV || {};                                    if (document.getElementById(\"7f91383d-93a6-4839-9b21-77fb2fae23e1\")) {                    Plotly.newPlot(                        \"7f91383d-93a6-4839-9b21-77fb2fae23e1\",                        [{\"name\":\"Booked\",\"y\":[0.0172285368510592,0.012442076731427915,0.009802573628840839,0.009264701216407526,0.011952552401011078,0.018588326657772634,0.029247567864842935,0.0406214541592193,0.04955225143420053,0.05630738501844026,0.06209706783991346,0.06542704198879835,0.06372428297528053,0.06249442863898638,0.06108024724000441,0.057887762949353876,0.05645394014205271,0.056065644608357876,0.054937019068785724,0.05345333730190507,0.04909747728773303,0.04198577659862178,0.03462629198917607,0.025662255407808518],\"type\":\"bar\"},{\"name\":\"Not Booked\",\"y\":[0.02098723722048626,0.013849316545462894,0.010303532209820263,0.009772211570698106,0.01217877305670304,0.018181501491109413,0.027303201555930242,0.03675555551077101,0.04437268680829171,0.05054470082156767,0.056007327647199644,0.0589381562065405,0.05858850087399438,0.05785305867803797,0.05669137957814206,0.05538531830511163,0.056713979778722445,0.0588215564455844,0.060192539313912614,0.05950762368103718,0.055852293150224684,0.04964515525833973,0.04105808669005092,0.03049630760226123],\"type\":\"bar\"}],                        {\"xaxis\":{\"automargin\":true,\"tickangle\":45,\"title\":{\"text\":\"Search Hour\"}},\"yaxis\":{\"title\":{\"text\":\"Frequency\"}},\"template\":{\"data\":{\"histogram2dcontour\":[{\"type\":\"histogram2dcontour\",\"colorbar\":{\"outlinewidth\":0,\"ticks\":\"\"},\"colorscale\":[[0.0,\"#0d0887\"],[0.1111111111111111,\"#46039f\"],[0.2222222222222222,\"#7201a8\"],[0.3333333333333333,\"#9c179e\"],[0.4444444444444444,\"#bd3786\"],[0.5555555555555556,\"#d8576b\"],[0.6666666666666666,\"#ed7953\"],[0.7777777777777778,\"#fb9f3a\"],[0.8888888888888888,\"#fdca26\"],[1.0,\"#f0f921\"]]}],\"choropleth\":[{\"type\":\"choropleth\",\"colorbar\":{\"outlinewidth\":0,\"ticks\":\"\"}}],\"histogram2d\":[{\"type\":\"histogram2d\",\"colorbar\":{\"outlinewidth\":0,\"ticks\":\"\"},\"colorscale\":[[0.0,\"#0d0887\"],[0.1111111111111111,\"#46039f\"],[0.2222222222222222,\"#7201a8\"],[0.3333333333333333,\"#9c179e\"],[0.4444444444444444,\"#bd3786\"],[0.5555555555555556,\"#d8576b\"],[0.6666666666666666,\"#ed7953\"],[0.7777777777777778,\"#fb9f3a\"],[0.8888888888888888,\"#fdca26\"],[1.0,\"#f0f921\"]]}],\"heatmap\":[{\"type\":\"heatmap\",\"colorbar\":{\"outlinewidth\":0,\"ticks\":\"\"},\"colorscale\":[[0.0,\"#0d0887\"],[0.1111111111111111,\"#46039f\"],[0.2222222222222222,\"#7201a8\"],[0.3333333333333333,\"#9c179e\"],[0.4444444444444444,\"#bd3786\"],[0.5555555555555556,\"#d8576b\"],[0.6666666666666666,\"#ed7953\"],[0.7777777777777778,\"#fb9f3a\"],[0.8888888888888888,\"#fdca26\"],[1.0,\"#f0f921\"]]}],\"heatmapgl\":[{\"type\":\"heatmapgl\",\"colorbar\":{\"outlinewidth\":0,\"ticks\":\"\"},\"colorscale\":[[0.0,\"#0d0887\"],[0.1111111111111111,\"#46039f\"],[0.2222222222222222,\"#7201a8\"],[0.3333333333333333,\"#9c179e\"],[0.4444444444444444,\"#bd3786\"],[0.5555555555555556,\"#d8576b\"],[0.6666666666666666,\"#ed7953\"],[0.7777777777777778,\"#fb9f3a\"],[0.8888888888888888,\"#fdca26\"],[1.0,\"#f0f921\"]]}],\"contourcarpet\":[{\"type\":\"contourcarpet\",\"colorbar\":{\"outlinewidth\":0,\"ticks\":\"\"}}],\"contour\":[{\"type\":\"contour\",\"colorbar\":{\"outlinewidth\":0,\"ticks\":\"\"},\"colorscale\":[[0.0,\"#0d0887\"],[0.1111111111111111,\"#46039f\"],[0.2222222222222222,\"#7201a8\"],[0.3333333333333333,\"#9c179e\"],[0.4444444444444444,\"#bd3786\"],[0.5555555555555556,\"#d8576b\"],[0.6666666666666666,\"#ed7953\"],[0.7777777777777778,\"#fb9f3a\"],[0.8888888888888888,\"#fdca26\"],[1.0,\"#f0f921\"]]}],\"surface\":[{\"type\":\"surface\",\"colorbar\":{\"outlinewidth\":0,\"ticks\":\"\"},\"colorscale\":[[0.0,\"#0d0887\"],[0.1111111111111111,\"#46039f\"],[0.2222222222222222,\"#7201a8\"],[0.3333333333333333,\"#9c179e\"],[0.4444444444444444,\"#bd3786\"],[0.5555555555555556,\"#d8576b\"],[0.6666666666666666,\"#ed7953\"],[0.7777777777777778,\"#fb9f3a\"],[0.8888888888888888,\"#fdca26\"],[1.0,\"#f0f921\"]]}],\"mesh3d\":[{\"type\":\"mesh3d\",\"colorbar\":{\"outlinewidth\":0,\"ticks\":\"\"}}],\"scatter\":[{\"fillpattern\":{\"fillmode\":\"overlay\",\"size\":10,\"solidity\":0.2},\"type\":\"scatter\"}],\"parcoords\":[{\"type\":\"parcoords\",\"line\":{\"colorbar\":{\"outlinewidth\":0,\"ticks\":\"\"}}}],\"scatterpolargl\":[{\"type\":\"scatterpolargl\",\"marker\":{\"colorbar\":{\"outlinewidth\":0,\"ticks\":\"\"}}}],\"bar\":[{\"error_x\":{\"color\":\"#2a3f5f\"},\"error_y\":{\"color\":\"#2a3f5f\"},\"marker\":{\"line\":{\"color\":\"#E5ECF6\",\"width\":0.5},\"pattern\":{\"fillmode\":\"overlay\",\"size\":10,\"solidity\":0.2}},\"type\":\"bar\"}],\"scattergeo\":[{\"type\":\"scattergeo\",\"marker\":{\"colorbar\":{\"outlinewidth\":0,\"ticks\":\"\"}}}],\"scatterpolar\":[{\"type\":\"scatterpolar\",\"marker\":{\"colorbar\":{\"outlinewidth\":0,\"ticks\":\"\"}}}],\"histogram\":[{\"marker\":{\"pattern\":{\"fillmode\":\"overlay\",\"size\":10,\"solidity\":0.2}},\"type\":\"histogram\"}],\"scattergl\":[{\"type\":\"scattergl\",\"marker\":{\"colorbar\":{\"outlinewidth\":0,\"ticks\":\"\"}}}],\"scatter3d\":[{\"type\":\"scatter3d\",\"line\":{\"colorbar\":{\"outlinewidth\":0,\"ticks\":\"\"}},\"marker\":{\"colorbar\":{\"outlinewidth\":0,\"ticks\":\"\"}}}],\"scattermapbox\":[{\"type\":\"scattermapbox\",\"marker\":{\"colorbar\":{\"outlinewidth\":0,\"ticks\":\"\"}}}],\"scatterternary\":[{\"type\":\"scatterternary\",\"marker\":{\"colorbar\":{\"outlinewidth\":0,\"ticks\":\"\"}}}],\"scattercarpet\":[{\"type\":\"scattercarpet\",\"marker\":{\"colorbar\":{\"outlinewidth\":0,\"ticks\":\"\"}}}],\"carpet\":[{\"aaxis\":{\"endlinecolor\":\"#2a3f5f\",\"gridcolor\":\"white\",\"linecolor\":\"white\",\"minorgridcolor\":\"white\",\"startlinecolor\":\"#2a3f5f\"},\"baxis\":{\"endlinecolor\":\"#2a3f5f\",\"gridcolor\":\"white\",\"linecolor\":\"white\",\"minorgridcolor\":\"white\",\"startlinecolor\":\"#2a3f5f\"},\"type\":\"carpet\"}],\"table\":[{\"cells\":{\"fill\":{\"color\":\"#EBF0F8\"},\"line\":{\"color\":\"white\"}},\"header\":{\"fill\":{\"color\":\"#C8D4E3\"},\"line\":{\"color\":\"white\"}},\"type\":\"table\"}],\"barpolar\":[{\"marker\":{\"line\":{\"color\":\"#E5ECF6\",\"width\":0.5},\"pattern\":{\"fillmode\":\"overlay\",\"size\":10,\"solidity\":0.2}},\"type\":\"barpolar\"}],\"pie\":[{\"automargin\":true,\"type\":\"pie\"}]},\"layout\":{\"autotypenumbers\":\"strict\",\"colorway\":[\"#636efa\",\"#EF553B\",\"#00cc96\",\"#ab63fa\",\"#FFA15A\",\"#19d3f3\",\"#FF6692\",\"#B6E880\",\"#FF97FF\",\"#FECB52\"],\"font\":{\"color\":\"#2a3f5f\"},\"hovermode\":\"closest\",\"hoverlabel\":{\"align\":\"left\"},\"paper_bgcolor\":\"white\",\"plot_bgcolor\":\"#E5ECF6\",\"polar\":{\"bgcolor\":\"#E5ECF6\",\"angularaxis\":{\"gridcolor\":\"white\",\"linecolor\":\"white\",\"ticks\":\"\"},\"radialaxis\":{\"gridcolor\":\"white\",\"linecolor\":\"white\",\"ticks\":\"\"}},\"ternary\":{\"bgcolor\":\"#E5ECF6\",\"aaxis\":{\"gridcolor\":\"white\",\"linecolor\":\"white\",\"ticks\":\"\"},\"baxis\":{\"gridcolor\":\"white\",\"linecolor\":\"white\",\"ticks\":\"\"},\"caxis\":{\"gridcolor\":\"white\",\"linecolor\":\"white\",\"ticks\":\"\"}},\"coloraxis\":{\"colorbar\":{\"outlinewidth\":0,\"ticks\":\"\"}},\"colorscale\":{\"sequential\":[[0.0,\"#0d0887\"],[0.1111111111111111,\"#46039f\"],[0.2222222222222222,\"#7201a8\"],[0.3333333333333333,\"#9c179e\"],[0.4444444444444444,\"#bd3786\"],[0.5555555555555556,\"#d8576b\"],[0.6666666666666666,\"#ed7953\"],[0.7777777777777778,\"#fb9f3a\"],[0.8888888888888888,\"#fdca26\"],[1.0,\"#f0f921\"]],\"sequentialminus\":[[0.0,\"#0d0887\"],[0.1111111111111111,\"#46039f\"],[0.2222222222222222,\"#7201a8\"],[0.3333333333333333,\"#9c179e\"],[0.4444444444444444,\"#bd3786\"],[0.5555555555555556,\"#d8576b\"],[0.6666666666666666,\"#ed7953\"],[0.7777777777777778,\"#fb9f3a\"],[0.8888888888888888,\"#fdca26\"],[1.0,\"#f0f921\"]],\"diverging\":[[0,\"#8e0152\"],[0.1,\"#c51b7d\"],[0.2,\"#de77ae\"],[0.3,\"#f1b6da\"],[0.4,\"#fde0ef\"],[0.5,\"#f7f7f7\"],[0.6,\"#e6f5d0\"],[0.7,\"#b8e186\"],[0.8,\"#7fbc41\"],[0.9,\"#4d9221\"],[1,\"#276419\"]]},\"xaxis\":{\"gridcolor\":\"white\",\"linecolor\":\"white\",\"ticks\":\"\",\"title\":{\"standoff\":15},\"zerolinecolor\":\"white\",\"automargin\":true,\"zerolinewidth\":2},\"yaxis\":{\"gridcolor\":\"white\",\"linecolor\":\"white\",\"ticks\":\"\",\"title\":{\"standoff\":15},\"zerolinecolor\":\"white\",\"automargin\":true,\"zerolinewidth\":2},\"scene\":{\"xaxis\":{\"backgroundcolor\":\"#E5ECF6\",\"gridcolor\":\"white\",\"linecolor\":\"white\",\"showbackground\":true,\"ticks\":\"\",\"zerolinecolor\":\"white\",\"gridwidth\":2},\"yaxis\":{\"backgroundcolor\":\"#E5ECF6\",\"gridcolor\":\"white\",\"linecolor\":\"white\",\"showbackground\":true,\"ticks\":\"\",\"zerolinecolor\":\"white\",\"gridwidth\":2},\"zaxis\":{\"backgroundcolor\":\"#E5ECF6\",\"gridcolor\":\"white\",\"linecolor\":\"white\",\"showbackground\":true,\"ticks\":\"\",\"zerolinecolor\":\"white\",\"gridwidth\":2}},\"shapedefaults\":{\"line\":{\"color\":\"#2a3f5f\"}},\"annotationdefaults\":{\"arrowcolor\":\"#2a3f5f\",\"arrowhead\":0,\"arrowwidth\":1},\"geo\":{\"bgcolor\":\"white\",\"landcolor\":\"#E5ECF6\",\"subunitcolor\":\"white\",\"showland\":true,\"showlakes\":true,\"lakecolor\":\"white\"},\"title\":{\"x\":0.05},\"mapbox\":{\"style\":\"light\"}}}},                        {\"responsive\": true}                    ).then(function(){\n",
              "                            \n",
              "var gd = document.getElementById('7f91383d-93a6-4839-9b21-77fb2fae23e1');\n",
              "var x = new MutationObserver(function (mutations, observer) {{\n",
              "        var display = window.getComputedStyle(gd).display;\n",
              "        if (!display || display === 'none') {{\n",
              "            console.log([gd, 'removed!']);\n",
              "            Plotly.purge(gd);\n",
              "            observer.disconnect();\n",
              "        }}\n",
              "}});\n",
              "\n",
              "// Listen for the removal of the full notebook cells\n",
              "var notebookContainer = gd.closest('#notebook-container');\n",
              "if (notebookContainer) {{\n",
              "    x.observe(notebookContainer, {childList: true});\n",
              "}}\n",
              "\n",
              "// Listen for the clearing of the current output cell\n",
              "var outputEl = gd.closest('.output');\n",
              "if (outputEl) {{\n",
              "    x.observe(outputEl, {childList: true});\n",
              "}}\n",
              "\n",
              "                        })                };                            </script>        </div>\n",
              "</body>\n",
              "</html>"
            ]
          },
          "metadata": {},
          "output_type": "display_data"
        }
      ],
      "source": [
        "trace_not_booked = go.Bar(y = not_booked['search_date_hour'].value_counts().sort_index()/len(not_booked) , name='Not Booked') #TODO\n",
        "trace_is_booked = go.Bar(y = is_booked['search_date_hour'].value_counts().sort_index()/len(is_booked) , name='Booked') #TODO\n",
        "\n",
        "data = [trace_is_booked, trace_not_booked]\n",
        "\n",
        "layout = go.Layout(\n",
        "    xaxis=dict(title='Search Hour', tickangle=45, automargin=True),\n",
        "    yaxis=dict(title='Frequency')\n",
        ")\n",
        "\n",
        "fig = go.Figure(data=data, layout=layout)\n",
        "fig.show()\n",
        "fig.write_json('./search_hour.json')"
      ]
    },
    {
      "cell_type": "code",
      "execution_count": 38,
      "id": "40206e40-ba5c-4cc6-9f5b-deb9fea5e299",
      "metadata": {
        "id": "40206e40-ba5c-4cc6-9f5b-deb9fea5e299"
      },
      "outputs": [],
      "source": [
        "# TODO: Make Bins for search_date_hour (Optional)\n",
        "train['search_time_of_day'] = np.where((train['search_date_hour'] >= 5) & (train['search_date_hour'] <= 15), 'morning', 'night') #TODO"
      ]
    },
    {
      "cell_type": "markdown",
      "id": "XB_tKr5U2YCl",
      "metadata": {
        "id": "XB_tKr5U2YCl"
      },
      "source": [
        "# **illustration 2**"
      ]
    },
    {
      "cell_type": "code",
      "execution_count": 39,
      "id": "31c0e5d7-5c45-4263-8e46-ddb04ddef3ce",
      "metadata": {
        "colab": {
          "base_uri": "https://localhost:8080/",
          "height": 542
        },
        "id": "31c0e5d7-5c45-4263-8e46-ddb04ddef3ce",
        "outputId": "eddd5456-8070-47b0-ba8d-3d3ba579ef09"
      },
      "outputs": [
        {
          "data": {
            "text/html": [
              "<html>\n",
              "<head><meta charset=\"utf-8\" /></head>\n",
              "<body>\n",
              "    <div>            <script src=\"https://cdnjs.cloudflare.com/ajax/libs/mathjax/2.7.5/MathJax.js?config=TeX-AMS-MML_SVG\"></script><script type=\"text/javascript\">if (window.MathJax && window.MathJax.Hub && window.MathJax.Hub.Config) {window.MathJax.Hub.Config({SVG: {font: \"STIX-Web\"}});}</script>                <script type=\"text/javascript\">window.PlotlyConfig = {MathJaxConfig: 'local'};</script>\n",
              "        <script charset=\"utf-8\" src=\"https://cdn.plot.ly/plotly-2.24.1.min.js\"></script>                <div id=\"bc385a30-52a4-4dd2-983d-cc8cd42a8f63\" class=\"plotly-graph-div\" style=\"height:525px; width:100%;\"></div>            <script type=\"text/javascript\">                                    window.PLOTLYENV=window.PLOTLYENV || {};                                    if (document.getElementById(\"bc385a30-52a4-4dd2-983d-cc8cd42a8f63\")) {                    Plotly.newPlot(                        \"bc385a30-52a4-4dd2-983d-cc8cd42a8f63\",                        [{\"name\":\"Booked\",\"y\":[0.13295118203506143,0.12222546221521846,0.12909844424937336,0.14494754988539993,0.18271646720564705,0.1585605567281644,0.12950033768113534],\"type\":\"bar\"},{\"name\":\"Not Booked\",\"y\":[0.1183309075304876,0.10949912341451316,0.1275431523479521,0.15283392839997345,0.1973995086399703,0.1699268775548483,0.12446650211225506],\"type\":\"bar\"}],                        {\"xaxis\":{\"automargin\":true,\"tickangle\":45,\"ticktext\":[\"Monday\",\"Tuesday\",\"Wednesday\",\"Thursday\",\"Friday\",\"Saturday\",\"Sunday\"],\"tickvals\":[0,1,2,3,4,5,6],\"title\":{\"text\":\"Day of Week\"}},\"yaxis\":{\"title\":{\"text\":\"Frequency\"}},\"template\":{\"data\":{\"histogram2dcontour\":[{\"type\":\"histogram2dcontour\",\"colorbar\":{\"outlinewidth\":0,\"ticks\":\"\"},\"colorscale\":[[0.0,\"#0d0887\"],[0.1111111111111111,\"#46039f\"],[0.2222222222222222,\"#7201a8\"],[0.3333333333333333,\"#9c179e\"],[0.4444444444444444,\"#bd3786\"],[0.5555555555555556,\"#d8576b\"],[0.6666666666666666,\"#ed7953\"],[0.7777777777777778,\"#fb9f3a\"],[0.8888888888888888,\"#fdca26\"],[1.0,\"#f0f921\"]]}],\"choropleth\":[{\"type\":\"choropleth\",\"colorbar\":{\"outlinewidth\":0,\"ticks\":\"\"}}],\"histogram2d\":[{\"type\":\"histogram2d\",\"colorbar\":{\"outlinewidth\":0,\"ticks\":\"\"},\"colorscale\":[[0.0,\"#0d0887\"],[0.1111111111111111,\"#46039f\"],[0.2222222222222222,\"#7201a8\"],[0.3333333333333333,\"#9c179e\"],[0.4444444444444444,\"#bd3786\"],[0.5555555555555556,\"#d8576b\"],[0.6666666666666666,\"#ed7953\"],[0.7777777777777778,\"#fb9f3a\"],[0.8888888888888888,\"#fdca26\"],[1.0,\"#f0f921\"]]}],\"heatmap\":[{\"type\":\"heatmap\",\"colorbar\":{\"outlinewidth\":0,\"ticks\":\"\"},\"colorscale\":[[0.0,\"#0d0887\"],[0.1111111111111111,\"#46039f\"],[0.2222222222222222,\"#7201a8\"],[0.3333333333333333,\"#9c179e\"],[0.4444444444444444,\"#bd3786\"],[0.5555555555555556,\"#d8576b\"],[0.6666666666666666,\"#ed7953\"],[0.7777777777777778,\"#fb9f3a\"],[0.8888888888888888,\"#fdca26\"],[1.0,\"#f0f921\"]]}],\"heatmapgl\":[{\"type\":\"heatmapgl\",\"colorbar\":{\"outlinewidth\":0,\"ticks\":\"\"},\"colorscale\":[[0.0,\"#0d0887\"],[0.1111111111111111,\"#46039f\"],[0.2222222222222222,\"#7201a8\"],[0.3333333333333333,\"#9c179e\"],[0.4444444444444444,\"#bd3786\"],[0.5555555555555556,\"#d8576b\"],[0.6666666666666666,\"#ed7953\"],[0.7777777777777778,\"#fb9f3a\"],[0.8888888888888888,\"#fdca26\"],[1.0,\"#f0f921\"]]}],\"contourcarpet\":[{\"type\":\"contourcarpet\",\"colorbar\":{\"outlinewidth\":0,\"ticks\":\"\"}}],\"contour\":[{\"type\":\"contour\",\"colorbar\":{\"outlinewidth\":0,\"ticks\":\"\"},\"colorscale\":[[0.0,\"#0d0887\"],[0.1111111111111111,\"#46039f\"],[0.2222222222222222,\"#7201a8\"],[0.3333333333333333,\"#9c179e\"],[0.4444444444444444,\"#bd3786\"],[0.5555555555555556,\"#d8576b\"],[0.6666666666666666,\"#ed7953\"],[0.7777777777777778,\"#fb9f3a\"],[0.8888888888888888,\"#fdca26\"],[1.0,\"#f0f921\"]]}],\"surface\":[{\"type\":\"surface\",\"colorbar\":{\"outlinewidth\":0,\"ticks\":\"\"},\"colorscale\":[[0.0,\"#0d0887\"],[0.1111111111111111,\"#46039f\"],[0.2222222222222222,\"#7201a8\"],[0.3333333333333333,\"#9c179e\"],[0.4444444444444444,\"#bd3786\"],[0.5555555555555556,\"#d8576b\"],[0.6666666666666666,\"#ed7953\"],[0.7777777777777778,\"#fb9f3a\"],[0.8888888888888888,\"#fdca26\"],[1.0,\"#f0f921\"]]}],\"mesh3d\":[{\"type\":\"mesh3d\",\"colorbar\":{\"outlinewidth\":0,\"ticks\":\"\"}}],\"scatter\":[{\"fillpattern\":{\"fillmode\":\"overlay\",\"size\":10,\"solidity\":0.2},\"type\":\"scatter\"}],\"parcoords\":[{\"type\":\"parcoords\",\"line\":{\"colorbar\":{\"outlinewidth\":0,\"ticks\":\"\"}}}],\"scatterpolargl\":[{\"type\":\"scatterpolargl\",\"marker\":{\"colorbar\":{\"outlinewidth\":0,\"ticks\":\"\"}}}],\"bar\":[{\"error_x\":{\"color\":\"#2a3f5f\"},\"error_y\":{\"color\":\"#2a3f5f\"},\"marker\":{\"line\":{\"color\":\"#E5ECF6\",\"width\":0.5},\"pattern\":{\"fillmode\":\"overlay\",\"size\":10,\"solidity\":0.2}},\"type\":\"bar\"}],\"scattergeo\":[{\"type\":\"scattergeo\",\"marker\":{\"colorbar\":{\"outlinewidth\":0,\"ticks\":\"\"}}}],\"scatterpolar\":[{\"type\":\"scatterpolar\",\"marker\":{\"colorbar\":{\"outlinewidth\":0,\"ticks\":\"\"}}}],\"histogram\":[{\"marker\":{\"pattern\":{\"fillmode\":\"overlay\",\"size\":10,\"solidity\":0.2}},\"type\":\"histogram\"}],\"scattergl\":[{\"type\":\"scattergl\",\"marker\":{\"colorbar\":{\"outlinewidth\":0,\"ticks\":\"\"}}}],\"scatter3d\":[{\"type\":\"scatter3d\",\"line\":{\"colorbar\":{\"outlinewidth\":0,\"ticks\":\"\"}},\"marker\":{\"colorbar\":{\"outlinewidth\":0,\"ticks\":\"\"}}}],\"scattermapbox\":[{\"type\":\"scattermapbox\",\"marker\":{\"colorbar\":{\"outlinewidth\":0,\"ticks\":\"\"}}}],\"scatterternary\":[{\"type\":\"scatterternary\",\"marker\":{\"colorbar\":{\"outlinewidth\":0,\"ticks\":\"\"}}}],\"scattercarpet\":[{\"type\":\"scattercarpet\",\"marker\":{\"colorbar\":{\"outlinewidth\":0,\"ticks\":\"\"}}}],\"carpet\":[{\"aaxis\":{\"endlinecolor\":\"#2a3f5f\",\"gridcolor\":\"white\",\"linecolor\":\"white\",\"minorgridcolor\":\"white\",\"startlinecolor\":\"#2a3f5f\"},\"baxis\":{\"endlinecolor\":\"#2a3f5f\",\"gridcolor\":\"white\",\"linecolor\":\"white\",\"minorgridcolor\":\"white\",\"startlinecolor\":\"#2a3f5f\"},\"type\":\"carpet\"}],\"table\":[{\"cells\":{\"fill\":{\"color\":\"#EBF0F8\"},\"line\":{\"color\":\"white\"}},\"header\":{\"fill\":{\"color\":\"#C8D4E3\"},\"line\":{\"color\":\"white\"}},\"type\":\"table\"}],\"barpolar\":[{\"marker\":{\"line\":{\"color\":\"#E5ECF6\",\"width\":0.5},\"pattern\":{\"fillmode\":\"overlay\",\"size\":10,\"solidity\":0.2}},\"type\":\"barpolar\"}],\"pie\":[{\"automargin\":true,\"type\":\"pie\"}]},\"layout\":{\"autotypenumbers\":\"strict\",\"colorway\":[\"#636efa\",\"#EF553B\",\"#00cc96\",\"#ab63fa\",\"#FFA15A\",\"#19d3f3\",\"#FF6692\",\"#B6E880\",\"#FF97FF\",\"#FECB52\"],\"font\":{\"color\":\"#2a3f5f\"},\"hovermode\":\"closest\",\"hoverlabel\":{\"align\":\"left\"},\"paper_bgcolor\":\"white\",\"plot_bgcolor\":\"#E5ECF6\",\"polar\":{\"bgcolor\":\"#E5ECF6\",\"angularaxis\":{\"gridcolor\":\"white\",\"linecolor\":\"white\",\"ticks\":\"\"},\"radialaxis\":{\"gridcolor\":\"white\",\"linecolor\":\"white\",\"ticks\":\"\"}},\"ternary\":{\"bgcolor\":\"#E5ECF6\",\"aaxis\":{\"gridcolor\":\"white\",\"linecolor\":\"white\",\"ticks\":\"\"},\"baxis\":{\"gridcolor\":\"white\",\"linecolor\":\"white\",\"ticks\":\"\"},\"caxis\":{\"gridcolor\":\"white\",\"linecolor\":\"white\",\"ticks\":\"\"}},\"coloraxis\":{\"colorbar\":{\"outlinewidth\":0,\"ticks\":\"\"}},\"colorscale\":{\"sequential\":[[0.0,\"#0d0887\"],[0.1111111111111111,\"#46039f\"],[0.2222222222222222,\"#7201a8\"],[0.3333333333333333,\"#9c179e\"],[0.4444444444444444,\"#bd3786\"],[0.5555555555555556,\"#d8576b\"],[0.6666666666666666,\"#ed7953\"],[0.7777777777777778,\"#fb9f3a\"],[0.8888888888888888,\"#fdca26\"],[1.0,\"#f0f921\"]],\"sequentialminus\":[[0.0,\"#0d0887\"],[0.1111111111111111,\"#46039f\"],[0.2222222222222222,\"#7201a8\"],[0.3333333333333333,\"#9c179e\"],[0.4444444444444444,\"#bd3786\"],[0.5555555555555556,\"#d8576b\"],[0.6666666666666666,\"#ed7953\"],[0.7777777777777778,\"#fb9f3a\"],[0.8888888888888888,\"#fdca26\"],[1.0,\"#f0f921\"]],\"diverging\":[[0,\"#8e0152\"],[0.1,\"#c51b7d\"],[0.2,\"#de77ae\"],[0.3,\"#f1b6da\"],[0.4,\"#fde0ef\"],[0.5,\"#f7f7f7\"],[0.6,\"#e6f5d0\"],[0.7,\"#b8e186\"],[0.8,\"#7fbc41\"],[0.9,\"#4d9221\"],[1,\"#276419\"]]},\"xaxis\":{\"gridcolor\":\"white\",\"linecolor\":\"white\",\"ticks\":\"\",\"title\":{\"standoff\":15},\"zerolinecolor\":\"white\",\"automargin\":true,\"zerolinewidth\":2},\"yaxis\":{\"gridcolor\":\"white\",\"linecolor\":\"white\",\"ticks\":\"\",\"title\":{\"standoff\":15},\"zerolinecolor\":\"white\",\"automargin\":true,\"zerolinewidth\":2},\"scene\":{\"xaxis\":{\"backgroundcolor\":\"#E5ECF6\",\"gridcolor\":\"white\",\"linecolor\":\"white\",\"showbackground\":true,\"ticks\":\"\",\"zerolinecolor\":\"white\",\"gridwidth\":2},\"yaxis\":{\"backgroundcolor\":\"#E5ECF6\",\"gridcolor\":\"white\",\"linecolor\":\"white\",\"showbackground\":true,\"ticks\":\"\",\"zerolinecolor\":\"white\",\"gridwidth\":2},\"zaxis\":{\"backgroundcolor\":\"#E5ECF6\",\"gridcolor\":\"white\",\"linecolor\":\"white\",\"showbackground\":true,\"ticks\":\"\",\"zerolinecolor\":\"white\",\"gridwidth\":2}},\"shapedefaults\":{\"line\":{\"color\":\"#2a3f5f\"}},\"annotationdefaults\":{\"arrowcolor\":\"#2a3f5f\",\"arrowhead\":0,\"arrowwidth\":1},\"geo\":{\"bgcolor\":\"white\",\"landcolor\":\"#E5ECF6\",\"subunitcolor\":\"white\",\"showland\":true,\"showlakes\":true,\"lakecolor\":\"white\"},\"title\":{\"x\":0.05},\"mapbox\":{\"style\":\"light\"}}}},                        {\"responsive\": true}                    ).then(function(){\n",
              "                            \n",
              "var gd = document.getElementById('bc385a30-52a4-4dd2-983d-cc8cd42a8f63');\n",
              "var x = new MutationObserver(function (mutations, observer) {{\n",
              "        var display = window.getComputedStyle(gd).display;\n",
              "        if (!display || display === 'none') {{\n",
              "            console.log([gd, 'removed!']);\n",
              "            Plotly.purge(gd);\n",
              "            observer.disconnect();\n",
              "        }}\n",
              "}});\n",
              "\n",
              "// Listen for the removal of the full notebook cells\n",
              "var notebookContainer = gd.closest('#notebook-container');\n",
              "if (notebookContainer) {{\n",
              "    x.observe(notebookContainer, {childList: true});\n",
              "}}\n",
              "\n",
              "// Listen for the clearing of the current output cell\n",
              "var outputEl = gd.closest('.output');\n",
              "if (outputEl) {{\n",
              "    x.observe(outputEl, {childList: true});\n",
              "}}\n",
              "\n",
              "                        })                };                            </script>        </div>\n",
              "</body>\n",
              "</html>"
            ]
          },
          "metadata": {},
          "output_type": "display_data"
        }
      ],
      "source": [
        "trace_not_booked = go.Bar(y = not_booked['checkIn_date_dayofweek'].value_counts().sort_index()/len(not_booked) ,\n",
        "                          name='Not Booked') #TODO\n",
        "trace_is_booked = go.Bar(y = is_booked['checkIn_date_dayofweek'].value_counts().sort_index()/len(is_booked) ,\n",
        "                         name='Booked') #TODO\n",
        "\n",
        "ticktext = ['Monday', 'Tuesday', 'Wednesday', 'Thursday', 'Friday', 'Saturday', 'Sunday'] #TODO\n",
        "\n",
        "data = [trace_is_booked, trace_not_booked]\n",
        "\n",
        "layout = go.Layout(\n",
        "    xaxis=dict(title='Day of Week', tickangle=45, automargin=True,\n",
        "               tickvals = [0,1,2,3,4,5,6], ticktext= ticktext\n",
        " ),\n",
        "    yaxis=dict(title='Frequency'),\n",
        ")\n",
        "\n",
        "fig = go.Figure(data=data, layout=layout)\n",
        "fig.show()\n",
        "fig.write_json('./checkIn_day.json')"
      ]
    },
    {
      "cell_type": "markdown",
      "id": "IcYztlOf2l5b",
      "metadata": {
        "id": "IcYztlOf2l5b"
      },
      "source": [
        "# **illustration 3**"
      ]
    },
    {
      "cell_type": "code",
      "execution_count": 40,
      "id": "16e298c2-adcc-495c-9385-2beb32e46211",
      "metadata": {
        "colab": {
          "base_uri": "https://localhost:8080/",
          "height": 542
        },
        "id": "16e298c2-adcc-495c-9385-2beb32e46211",
        "outputId": "fe2a1d49-c6b0-4a53-fc15-eca817dc3201"
      },
      "outputs": [
        {
          "data": {
            "text/html": [
              "<html>\n",
              "<head><meta charset=\"utf-8\" /></head>\n",
              "<body>\n",
              "    <div>            <script src=\"https://cdnjs.cloudflare.com/ajax/libs/mathjax/2.7.5/MathJax.js?config=TeX-AMS-MML_SVG\"></script><script type=\"text/javascript\">if (window.MathJax && window.MathJax.Hub && window.MathJax.Hub.Config) {window.MathJax.Hub.Config({SVG: {font: \"STIX-Web\"}});}</script>                <script type=\"text/javascript\">window.PlotlyConfig = {MathJaxConfig: 'local'};</script>\n",
              "        <script charset=\"utf-8\" src=\"https://cdn.plot.ly/plotly-2.24.1.min.js\"></script>                <div id=\"153b3c2f-c102-41a3-bfaa-c38e03b9cd08\" class=\"plotly-graph-div\" style=\"height:525px; width:100%;\"></div>            <script type=\"text/javascript\">                                    window.PLOTLYENV=window.PLOTLYENV || {};                                    if (document.getElementById(\"153b3c2f-c102-41a3-bfaa-c38e03b9cd08\")) {                    Plotly.newPlot(                        \"153b3c2f-c102-41a3-bfaa-c38e03b9cd08\",                        [{\"name\":\"Booked\",\"y\":[0.05186540498317638,0.06473808182006355,0.07849613290887747,0.07822115319240874,0.08894234037956267,0.08699028656814738,0.09178581195315676,0.09913320954209834,0.08621822813344675,0.09571862624968461,0.09688653460589514,0.08100418966348225],\"type\":\"bar\"},{\"name\":\"Not Booked\",\"y\":[0.042386316312695224,0.05306599071434052,0.07440993683315913,0.0748646759008879,0.08423670557595891,0.08708303529618715,0.10055275484209297,0.11134355889245198,0.08491874220239098,0.09371122788041356,0.09401683441437626,0.09941022113504541],\"type\":\"bar\"}],                        {\"xaxis\":{\"automargin\":true,\"tickangle\":45,\"ticktext\":[\"Jan\",\"Feb\",\"Mar\",\"Apr\",\"May\",\"Jun\",\"Jul\",\"Aug\",\"Sep\",\"Oct\",\"Nov\",\"Dec\"],\"tickvals\":[0,1,2,3,4,5,6,7,8,9,10,11],\"title\":{\"text\":\"Month\"}},\"yaxis\":{\"title\":{\"text\":\"Frequency\"}},\"template\":{\"data\":{\"histogram2dcontour\":[{\"type\":\"histogram2dcontour\",\"colorbar\":{\"outlinewidth\":0,\"ticks\":\"\"},\"colorscale\":[[0.0,\"#0d0887\"],[0.1111111111111111,\"#46039f\"],[0.2222222222222222,\"#7201a8\"],[0.3333333333333333,\"#9c179e\"],[0.4444444444444444,\"#bd3786\"],[0.5555555555555556,\"#d8576b\"],[0.6666666666666666,\"#ed7953\"],[0.7777777777777778,\"#fb9f3a\"],[0.8888888888888888,\"#fdca26\"],[1.0,\"#f0f921\"]]}],\"choropleth\":[{\"type\":\"choropleth\",\"colorbar\":{\"outlinewidth\":0,\"ticks\":\"\"}}],\"histogram2d\":[{\"type\":\"histogram2d\",\"colorbar\":{\"outlinewidth\":0,\"ticks\":\"\"},\"colorscale\":[[0.0,\"#0d0887\"],[0.1111111111111111,\"#46039f\"],[0.2222222222222222,\"#7201a8\"],[0.3333333333333333,\"#9c179e\"],[0.4444444444444444,\"#bd3786\"],[0.5555555555555556,\"#d8576b\"],[0.6666666666666666,\"#ed7953\"],[0.7777777777777778,\"#fb9f3a\"],[0.8888888888888888,\"#fdca26\"],[1.0,\"#f0f921\"]]}],\"heatmap\":[{\"type\":\"heatmap\",\"colorbar\":{\"outlinewidth\":0,\"ticks\":\"\"},\"colorscale\":[[0.0,\"#0d0887\"],[0.1111111111111111,\"#46039f\"],[0.2222222222222222,\"#7201a8\"],[0.3333333333333333,\"#9c179e\"],[0.4444444444444444,\"#bd3786\"],[0.5555555555555556,\"#d8576b\"],[0.6666666666666666,\"#ed7953\"],[0.7777777777777778,\"#fb9f3a\"],[0.8888888888888888,\"#fdca26\"],[1.0,\"#f0f921\"]]}],\"heatmapgl\":[{\"type\":\"heatmapgl\",\"colorbar\":{\"outlinewidth\":0,\"ticks\":\"\"},\"colorscale\":[[0.0,\"#0d0887\"],[0.1111111111111111,\"#46039f\"],[0.2222222222222222,\"#7201a8\"],[0.3333333333333333,\"#9c179e\"],[0.4444444444444444,\"#bd3786\"],[0.5555555555555556,\"#d8576b\"],[0.6666666666666666,\"#ed7953\"],[0.7777777777777778,\"#fb9f3a\"],[0.8888888888888888,\"#fdca26\"],[1.0,\"#f0f921\"]]}],\"contourcarpet\":[{\"type\":\"contourcarpet\",\"colorbar\":{\"outlinewidth\":0,\"ticks\":\"\"}}],\"contour\":[{\"type\":\"contour\",\"colorbar\":{\"outlinewidth\":0,\"ticks\":\"\"},\"colorscale\":[[0.0,\"#0d0887\"],[0.1111111111111111,\"#46039f\"],[0.2222222222222222,\"#7201a8\"],[0.3333333333333333,\"#9c179e\"],[0.4444444444444444,\"#bd3786\"],[0.5555555555555556,\"#d8576b\"],[0.6666666666666666,\"#ed7953\"],[0.7777777777777778,\"#fb9f3a\"],[0.8888888888888888,\"#fdca26\"],[1.0,\"#f0f921\"]]}],\"surface\":[{\"type\":\"surface\",\"colorbar\":{\"outlinewidth\":0,\"ticks\":\"\"},\"colorscale\":[[0.0,\"#0d0887\"],[0.1111111111111111,\"#46039f\"],[0.2222222222222222,\"#7201a8\"],[0.3333333333333333,\"#9c179e\"],[0.4444444444444444,\"#bd3786\"],[0.5555555555555556,\"#d8576b\"],[0.6666666666666666,\"#ed7953\"],[0.7777777777777778,\"#fb9f3a\"],[0.8888888888888888,\"#fdca26\"],[1.0,\"#f0f921\"]]}],\"mesh3d\":[{\"type\":\"mesh3d\",\"colorbar\":{\"outlinewidth\":0,\"ticks\":\"\"}}],\"scatter\":[{\"fillpattern\":{\"fillmode\":\"overlay\",\"size\":10,\"solidity\":0.2},\"type\":\"scatter\"}],\"parcoords\":[{\"type\":\"parcoords\",\"line\":{\"colorbar\":{\"outlinewidth\":0,\"ticks\":\"\"}}}],\"scatterpolargl\":[{\"type\":\"scatterpolargl\",\"marker\":{\"colorbar\":{\"outlinewidth\":0,\"ticks\":\"\"}}}],\"bar\":[{\"error_x\":{\"color\":\"#2a3f5f\"},\"error_y\":{\"color\":\"#2a3f5f\"},\"marker\":{\"line\":{\"color\":\"#E5ECF6\",\"width\":0.5},\"pattern\":{\"fillmode\":\"overlay\",\"size\":10,\"solidity\":0.2}},\"type\":\"bar\"}],\"scattergeo\":[{\"type\":\"scattergeo\",\"marker\":{\"colorbar\":{\"outlinewidth\":0,\"ticks\":\"\"}}}],\"scatterpolar\":[{\"type\":\"scatterpolar\",\"marker\":{\"colorbar\":{\"outlinewidth\":0,\"ticks\":\"\"}}}],\"histogram\":[{\"marker\":{\"pattern\":{\"fillmode\":\"overlay\",\"size\":10,\"solidity\":0.2}},\"type\":\"histogram\"}],\"scattergl\":[{\"type\":\"scattergl\",\"marker\":{\"colorbar\":{\"outlinewidth\":0,\"ticks\":\"\"}}}],\"scatter3d\":[{\"type\":\"scatter3d\",\"line\":{\"colorbar\":{\"outlinewidth\":0,\"ticks\":\"\"}},\"marker\":{\"colorbar\":{\"outlinewidth\":0,\"ticks\":\"\"}}}],\"scattermapbox\":[{\"type\":\"scattermapbox\",\"marker\":{\"colorbar\":{\"outlinewidth\":0,\"ticks\":\"\"}}}],\"scatterternary\":[{\"type\":\"scatterternary\",\"marker\":{\"colorbar\":{\"outlinewidth\":0,\"ticks\":\"\"}}}],\"scattercarpet\":[{\"type\":\"scattercarpet\",\"marker\":{\"colorbar\":{\"outlinewidth\":0,\"ticks\":\"\"}}}],\"carpet\":[{\"aaxis\":{\"endlinecolor\":\"#2a3f5f\",\"gridcolor\":\"white\",\"linecolor\":\"white\",\"minorgridcolor\":\"white\",\"startlinecolor\":\"#2a3f5f\"},\"baxis\":{\"endlinecolor\":\"#2a3f5f\",\"gridcolor\":\"white\",\"linecolor\":\"white\",\"minorgridcolor\":\"white\",\"startlinecolor\":\"#2a3f5f\"},\"type\":\"carpet\"}],\"table\":[{\"cells\":{\"fill\":{\"color\":\"#EBF0F8\"},\"line\":{\"color\":\"white\"}},\"header\":{\"fill\":{\"color\":\"#C8D4E3\"},\"line\":{\"color\":\"white\"}},\"type\":\"table\"}],\"barpolar\":[{\"marker\":{\"line\":{\"color\":\"#E5ECF6\",\"width\":0.5},\"pattern\":{\"fillmode\":\"overlay\",\"size\":10,\"solidity\":0.2}},\"type\":\"barpolar\"}],\"pie\":[{\"automargin\":true,\"type\":\"pie\"}]},\"layout\":{\"autotypenumbers\":\"strict\",\"colorway\":[\"#636efa\",\"#EF553B\",\"#00cc96\",\"#ab63fa\",\"#FFA15A\",\"#19d3f3\",\"#FF6692\",\"#B6E880\",\"#FF97FF\",\"#FECB52\"],\"font\":{\"color\":\"#2a3f5f\"},\"hovermode\":\"closest\",\"hoverlabel\":{\"align\":\"left\"},\"paper_bgcolor\":\"white\",\"plot_bgcolor\":\"#E5ECF6\",\"polar\":{\"bgcolor\":\"#E5ECF6\",\"angularaxis\":{\"gridcolor\":\"white\",\"linecolor\":\"white\",\"ticks\":\"\"},\"radialaxis\":{\"gridcolor\":\"white\",\"linecolor\":\"white\",\"ticks\":\"\"}},\"ternary\":{\"bgcolor\":\"#E5ECF6\",\"aaxis\":{\"gridcolor\":\"white\",\"linecolor\":\"white\",\"ticks\":\"\"},\"baxis\":{\"gridcolor\":\"white\",\"linecolor\":\"white\",\"ticks\":\"\"},\"caxis\":{\"gridcolor\":\"white\",\"linecolor\":\"white\",\"ticks\":\"\"}},\"coloraxis\":{\"colorbar\":{\"outlinewidth\":0,\"ticks\":\"\"}},\"colorscale\":{\"sequential\":[[0.0,\"#0d0887\"],[0.1111111111111111,\"#46039f\"],[0.2222222222222222,\"#7201a8\"],[0.3333333333333333,\"#9c179e\"],[0.4444444444444444,\"#bd3786\"],[0.5555555555555556,\"#d8576b\"],[0.6666666666666666,\"#ed7953\"],[0.7777777777777778,\"#fb9f3a\"],[0.8888888888888888,\"#fdca26\"],[1.0,\"#f0f921\"]],\"sequentialminus\":[[0.0,\"#0d0887\"],[0.1111111111111111,\"#46039f\"],[0.2222222222222222,\"#7201a8\"],[0.3333333333333333,\"#9c179e\"],[0.4444444444444444,\"#bd3786\"],[0.5555555555555556,\"#d8576b\"],[0.6666666666666666,\"#ed7953\"],[0.7777777777777778,\"#fb9f3a\"],[0.8888888888888888,\"#fdca26\"],[1.0,\"#f0f921\"]],\"diverging\":[[0,\"#8e0152\"],[0.1,\"#c51b7d\"],[0.2,\"#de77ae\"],[0.3,\"#f1b6da\"],[0.4,\"#fde0ef\"],[0.5,\"#f7f7f7\"],[0.6,\"#e6f5d0\"],[0.7,\"#b8e186\"],[0.8,\"#7fbc41\"],[0.9,\"#4d9221\"],[1,\"#276419\"]]},\"xaxis\":{\"gridcolor\":\"white\",\"linecolor\":\"white\",\"ticks\":\"\",\"title\":{\"standoff\":15},\"zerolinecolor\":\"white\",\"automargin\":true,\"zerolinewidth\":2},\"yaxis\":{\"gridcolor\":\"white\",\"linecolor\":\"white\",\"ticks\":\"\",\"title\":{\"standoff\":15},\"zerolinecolor\":\"white\",\"automargin\":true,\"zerolinewidth\":2},\"scene\":{\"xaxis\":{\"backgroundcolor\":\"#E5ECF6\",\"gridcolor\":\"white\",\"linecolor\":\"white\",\"showbackground\":true,\"ticks\":\"\",\"zerolinecolor\":\"white\",\"gridwidth\":2},\"yaxis\":{\"backgroundcolor\":\"#E5ECF6\",\"gridcolor\":\"white\",\"linecolor\":\"white\",\"showbackground\":true,\"ticks\":\"\",\"zerolinecolor\":\"white\",\"gridwidth\":2},\"zaxis\":{\"backgroundcolor\":\"#E5ECF6\",\"gridcolor\":\"white\",\"linecolor\":\"white\",\"showbackground\":true,\"ticks\":\"\",\"zerolinecolor\":\"white\",\"gridwidth\":2}},\"shapedefaults\":{\"line\":{\"color\":\"#2a3f5f\"}},\"annotationdefaults\":{\"arrowcolor\":\"#2a3f5f\",\"arrowhead\":0,\"arrowwidth\":1},\"geo\":{\"bgcolor\":\"white\",\"landcolor\":\"#E5ECF6\",\"subunitcolor\":\"white\",\"showland\":true,\"showlakes\":true,\"lakecolor\":\"white\"},\"title\":{\"x\":0.05},\"mapbox\":{\"style\":\"light\"}}}},                        {\"responsive\": true}                    ).then(function(){\n",
              "                            \n",
              "var gd = document.getElementById('153b3c2f-c102-41a3-bfaa-c38e03b9cd08');\n",
              "var x = new MutationObserver(function (mutations, observer) {{\n",
              "        var display = window.getComputedStyle(gd).display;\n",
              "        if (!display || display === 'none') {{\n",
              "            console.log([gd, 'removed!']);\n",
              "            Plotly.purge(gd);\n",
              "            observer.disconnect();\n",
              "        }}\n",
              "}});\n",
              "\n",
              "// Listen for the removal of the full notebook cells\n",
              "var notebookContainer = gd.closest('#notebook-container');\n",
              "if (notebookContainer) {{\n",
              "    x.observe(notebookContainer, {childList: true});\n",
              "}}\n",
              "\n",
              "// Listen for the clearing of the current output cell\n",
              "var outputEl = gd.closest('.output');\n",
              "if (outputEl) {{\n",
              "    x.observe(outputEl, {childList: true});\n",
              "}}\n",
              "\n",
              "                        })                };                            </script>        </div>\n",
              "</body>\n",
              "</html>"
            ]
          },
          "metadata": {},
          "output_type": "display_data"
        }
      ],
      "source": [
        "trace_not_booked = go.Bar(y = not_booked['checkIn_date_month'].value_counts().sort_index()/len(not_booked) , name='Not Booked') #TODO\n",
        "trace_is_booked = go.Bar(y = is_booked['checkIn_date_month'].value_counts().sort_index()/len(is_booked) , name='Booked') #TODO\n",
        "\n",
        "data = [trace_is_booked, trace_not_booked]\n",
        "\n",
        "ticktext = ['Jan', 'Feb', 'Mar', 'Apr', 'May', 'Jun', 'Jul', 'Aug', 'Sep', 'Oct', 'Nov', 'Dec']\n",
        "\n",
        "layout = go.Layout(\n",
        "    xaxis=dict(title='Month', tickangle=45, automargin=True,\n",
        "             ticktext = ticktext ,tickvals = np.arange(0,12)),\n",
        "    yaxis=dict(title='Frequency')\n",
        ")\n",
        "\n",
        "fig = go.Figure(data=data, layout=layout)\n",
        "fig.show()\n",
        "fig.write_json('./checkIn_date_month.json')"
      ]
    },
    {
      "cell_type": "code",
      "execution_count": 41,
      "id": "0849a7af-96f4-4dee-9146-1da28ef40a1a",
      "metadata": {
        "id": "0849a7af-96f4-4dee-9146-1da28ef40a1a"
      },
      "outputs": [],
      "source": [
        "# TODO (Optional): Make season column for checkIn_date_month or search_date_month\n",
        "seasons_dict = {1: 'Winter', 2: 'Winter', 3: 'Spring', 4: 'Spring', 5: 'Spring', 6: 'Summer', 7: 'Summer', 8: 'Summer', 9: 'Fall', 10: 'Fall', 11: 'Fall', 12: 'Winter'}\n",
        "\n",
        "train['checkIn_of_year'] = train['checkIn_date_month'].map(seasons_dict)"
      ]
    },
    {
      "cell_type": "markdown",
      "id": "o78idCWN2yNo",
      "metadata": {
        "id": "o78idCWN2yNo"
      },
      "source": [
        "# **illustration 4**"
      ]
    },
    {
      "cell_type": "code",
      "execution_count": 42,
      "id": "a1cce9df-abe3-45ab-afa4-5ca3fb68a0c7",
      "metadata": {
        "colab": {
          "base_uri": "https://localhost:8080/",
          "height": 542
        },
        "id": "a1cce9df-abe3-45ab-afa4-5ca3fb68a0c7",
        "outputId": "3a0979aa-11ae-4458-a419-05dd96321ce4"
      },
      "outputs": [
        {
          "data": {
            "text/html": [
              "<html>\n",
              "<head><meta charset=\"utf-8\" /></head>\n",
              "<body>\n",
              "    <div>            <script src=\"https://cdnjs.cloudflare.com/ajax/libs/mathjax/2.7.5/MathJax.js?config=TeX-AMS-MML_SVG\"></script><script type=\"text/javascript\">if (window.MathJax && window.MathJax.Hub && window.MathJax.Hub.Config) {window.MathJax.Hub.Config({SVG: {font: \"STIX-Web\"}});}</script>                <script type=\"text/javascript\">window.PlotlyConfig = {MathJaxConfig: 'local'};</script>\n",
              "        <script charset=\"utf-8\" src=\"https://cdn.plot.ly/plotly-2.24.1.min.js\"></script>                <div id=\"13625f5b-f19f-44e6-897e-8122fc477f20\" class=\"plotly-graph-div\" style=\"height:525px; width:100%;\"></div>            <script type=\"text/javascript\">                                    window.PLOTLYENV=window.PLOTLYENV || {};                                    if (document.getElementById(\"13625f5b-f19f-44e6-897e-8122fc477f20\")) {                    Plotly.newPlot(                        \"13625f5b-f19f-44e6-897e-8122fc477f20\",                        [{\"name\":\"Booked\",\"y\":[0.00020699022613304485,0.06565971713350265,0.07598052176645761,0.048325418853032404,0.040802759466781094,0.036138680429754017,0.03336017659136956,0.03054843344659879,0.02727587264510846,0.02297591510076798,0.020789675267085382,0.019422331072556875,0.018221183409960005,0.017500494812401887,0.016905209052574005,0.016163368169133677,0.014702349565698245,0.013785246884948185,0.013389396963438273,0.012871165959324153,0.012482870425629318,0.01244963111924299,0.01154159370387102,0.010668306472448392,0.0106184475128689,0.010039781406234183,0.00978444309808466,0.0095759419943886,0.009669616403295526,0.008755535477671496,0.008483577516328809,0.0083914139849849,0.008213130432549138,0.008013694594231168,0.007737204000199436,0.007289984241547018,0.007108678933985227,0.006552675990795734,0.006341153131973644,0.006398566479368211,0.005987607782228152,0.005892422495758211,0.005715649820885465,0.0055328336357606585,0.005345484817946808,0.005084102999545226,0.005177777408452151,0.004933015243243733,0.004958700161814987,0.004688253078035315,0.0046142200774475835,0.004467664953835136,0.004148869788038987,0.004327153340474748,0.004058217134258091,0.00407634766501427,0.0039025967452675538,0.0035989103551015535,0.003715247927453703,0.0035566057833371356,0.0035354534974549267,0.0034357355782959416,0.0033964527616575538,0.003340550291826001,0.003283136944431434,0.0031275165554408967,0.003023266003592867,0.003065570575357285,0.0029129719414927773,0.0029280807171229266,0.0028495150838461505,0.0027724603281323893,0.0026183508167048667,0.002535252550739046,0.0024793500809074933,0.002427980243764986,0.0025186328975458816,0.00244762165208418,0.0023509254880512247,0.002222500895194956,0.0021862398336825978,0.0021409135067921503,0.0020291085671290455,0.002100119812590747,0.0021182503433469263,0.0020668805062044188,0.0019958692607427173,0.0019868039953646276,0.0019218362601549858,0.0020502608530112544,0.0019263688928440306,0.0017722593814165082,0.001755639728223344,0.001737509197467165,0.0017208895442740006,0.0017631941160384185,0.001592464951417732,0.001630236890493105,0.0015682909104094932,0.0015954867065437618,0.0014912361546957319,0.0013537462964613738,0.0014308010521751349,0.0014595077258724185,0.0014353336848641797,0.0013371266432682094,0.0014187140316710154,0.001287267683688717,0.0012721589080585676,0.0012102129279749558,0.0012540283773023885,0.0012177673157900302,0.0011104950088159705,0.0012253217036051049,0.0010893427229337616,0.0011316472946981794,0.0010289076204131645,0.001121071151757075,0.0010289076204131645,0.0010107770896569854,0.0010379728857912542,0.0009986900691528662,0.0009684725178925675,0.0008868851294897615,0.0009745160281446273,0.000895950394867851,0.0009548746198254333,0.0009065265378089556,0.0008083194962129854,0.0007388191283142988,0.0008173847615910749,0.0008340044147842391,0.0007947215981458511,0.0008340044147842391,0.0007781019449526869,0.0007252212302471645,0.0007584605366334928,0.0007418408834403286,0.0007433517610033436,0.000735797373188269,0.0007781019449526869,0.00071464508730606,0.0007297538629362092,0.0006678078828525973,0.0006647861277265674,0.0006965145565498809,0.0006028401476429555,0.0006073727803320002,0.0005967966373908957,0.0006088836578950151,0.0006753622706676719,0.0005816878617607465,0.0005937748822648659,0.0005650682085675823,0.0005046331060469853,0.0005937748822648659,0.0005454268002483883,0.0005771552290717017,0.0005227636368031644,0.0005454268002483883,0.0004955678406688958,0.0005257853919291943,0.000530318024618239,0.0005393832899963285,0.0004623285342825673,0.0004880134528538211,0.00047592643234970166,0.0004426871259633733,0.0005121874938620599,0.00046837204453462707,0.0004910352079798509,0.0004185130849551345,0.00039736079907292553,0.0004351327381482987,0.00047290467722367185,0.0004094478195770449,0.00042908922789623895,0.00037016500293865685,0.00039131728882086585,0.0003716758805016718,0.0003550562273085076,0.00038678465613182106,0.00039131728882086585,0.0003731867580646867,0.00037620851319071654,0.0003535453497454927,0.00038678465613182106,0.0003429692068043882,0.0003520344721824777,0.00030519726772901506,0.00034145832924137326,0.00034145832924137326,0.0003278604311742389,0.0002976428799139404,0.0003021755126029852,0.00030670814529202997,0.0003218169209221792,0.00030972990041805984,0.00028253410428379116,0.0003021755126029852,0.0002613818184015822,0.00028102322672077625,0.00028404498184680607,0.00028253410428379116,0.0002160554915111344,0.00028404498184680607,0.00022512075688922397,0.00024325128764540307,0.0002326751447042986,0.00028102322672077625,0.00022209900176319413,0.0002553383081495225,0.00022512075688922397,0.00021907724663716425,0.00024174041008238816,0.00021303373638510456,0.00023720777739334338,0.000244762165208418,0.00021907724663716425,0.00018734881781385082,0.00022965338957826875,0.0001918814505028956,0.0001979249607549553,0.0001752617973097314,0.0001858379402508359,0.0001918814505028956,0.00020094671588098516,0.00016015302167958216,0.00018281618512480603,0.00017072916462068663,0.00016770740949465678,0.0001918814505028956,0.00017375091974671647,0.0001797944299987762,0.00014655512361244781,0.0001752617973097314,0.00015410951142752244,0.0001571312665535523,0.00012691371529325378,0.00014806600117546275,0.00013144634798229856,0.00013295722554531347,0.00014202249092340303,0.0001390007357973732,0.00013748985823435825,0.00014957687873847766,0.0001344681031083284,0.00010727230697405974,0.00011180493966310452,0.00011331581722611945,0.00011482669478913438,0.00011784844991516422,0.00011935932747817916,0.000122381082604209,0.00010425055184802989,0.00010576142941104481,9.518528646994033e-05,0.00010727230697405974,0.00014202249092340303,0.0001102940621000896,9.820704159597019e-05,8.76308986548657e-05,9.669616403295527e-05,0.00010878318453707467,0.0001102940621000896,0.00010122879672200003,9.367440890692541e-05,9.820704159597019e-05,8.612002109185078e-05,0.00010122879672200003,9.518528646994033e-05,7.252212302471644e-05,6.95003678986866e-05,0.00010727230697405974,9.065265378089556e-05,7.403300058773138e-05,7.252212302471644e-05,0.00010425055184802989,6.496773520964181e-05,8.76308986548657e-05,9.065265378089556e-05,8.612002109185078e-05,7.55438781507463e-05,6.043510252059704e-05,4.532632689044778e-05,6.496773520964181e-05,9.518528646994033e-05,7.101124546170152e-05,7.252212302471644e-05,6.798949033567167e-05,6.496773520964181e-05,6.496773520964181e-05,5.4391592268537336e-05,5.1369837142507485e-05,5.741334739456719e-05,5.1369837142507485e-05,6.345685764662689e-05,7.101124546170152e-05,7.856563327677616e-05,6.496773520964181e-05,5.4391592268537336e-05,6.194598008361197e-05,4.834808201647763e-05,6.95003678986866e-05,4.0793694201403e-05,5.4391592268537336e-05,5.892422495758211e-05,4.0793694201403e-05,4.834808201647763e-05,4.532632689044778e-05,3.928281663838808e-05,5.4391592268537336e-05,5.1369837142507485e-05,4.834808201647763e-05,5.1369837142507485e-05,4.381544932743285e-05,4.834808201647763e-05,6.043510252059704e-05,5.288071470552241e-05,4.0793694201403e-05,3.777193907537315e-05,2.8706673697283594e-05,3.626106151235822e-05,5.892422495758211e-05,5.741334739456719e-05,4.381544932743285e-05,3.626106151235822e-05,2.8706673697283594e-05,1.6619653193164184e-05,2.5684918571253742e-05,3.1728428823313446e-05,2.5684918571253742e-05,2.4174041008238817e-05,2.1152285882208965e-05,1.2087020504119408e-05,1.510877563014926e-05,1.510877563014926e-05,1.0576142941104482e-05,1.510877563014926e-05,2.1152285882208965e-05,1.6619653193164184e-05,1.0576142941104482e-05,1.2087020504119408e-05,9.065265378089555e-06,1.813053075617911e-05,1.813053075617911e-05,1.0576142941104482e-05,1.2087020504119408e-05,1.510877563014926e-06,1.6619653193164184e-05,1.3597898067134334e-05,1.0576142941104482e-05,1.0576142941104482e-05,9.065265378089555e-06,1.510877563014926e-05,1.2087020504119408e-05,4.5326326890447775e-06,6.043510252059704e-06,6.043510252059704e-06,6.043510252059704e-06,1.510877563014926e-05,6.043510252059704e-06,1.510877563014926e-05,1.2087020504119408e-05,9.065265378089555e-06,6.043510252059704e-06,1.6619653193164184e-05,4.5326326890447775e-06,3.021755126029852e-06,6.043510252059704e-06,9.065265378089555e-06,1.510877563014926e-06,1.510877563014926e-06,7.55438781507463e-06,7.55438781507463e-06,3.021755126029852e-06,9.065265378089555e-06,1.510877563014926e-06,1.510877563014926e-06,3.021755126029852e-06,3.021755126029852e-06,4.5326326890447775e-06,4.5326326890447775e-06,1.510877563014926e-06,3.021755126029852e-06,1.510877563014926e-06,1.510877563014926e-06,1.510877563014926e-06,3.021755126029852e-06,1.510877563014926e-06,1.510877563014926e-06,3.021755126029852e-06,1.510877563014926e-06,1.510877563014926e-06,3.021755126029852e-06,1.510877563014926e-06,1.510877563014926e-06,1.510877563014926e-06,3.021755126029852e-06,4.5326326890447775e-06,3.021755126029852e-06,1.510877563014926e-06,4.5326326890447775e-06,1.510877563014926e-06,1.510877563014926e-06,3.021755126029852e-06,1.510877563014926e-06,1.510877563014926e-06,1.510877563014926e-06,1.510877563014926e-06,3.021755126029852e-06,4.5326326890447775e-06,3.021755126029852e-06,1.510877563014926e-06,3.021755126029852e-06,1.510877563014926e-06,1.510877563014926e-06,1.510877563014926e-06,1.510877563014926e-06,1.510877563014926e-06,1.510877563014926e-06,3.021755126029852e-06,4.5326326890447775e-06,3.021755126029852e-06,1.510877563014926e-06,1.510877563014926e-06,1.510877563014926e-06,1.510877563014926e-06,3.021755126029852e-06,1.510877563014926e-06,1.510877563014926e-06,1.510877563014926e-06,1.510877563014926e-06,3.021755126029852e-06,1.510877563014926e-06,1.510877563014926e-06,1.510877563014926e-06,1.510877563014926e-06,1.510877563014926e-06,1.510877563014926e-06,1.510877563014926e-06],\"type\":\"scatter\"},{\"name\":\"Not Booked\",\"opacity\":0.5,\"y\":[1.4395032216801853e-07,1.4395032216801853e-07,1.4395032216801853e-07,1.4395032216801853e-07,2.8790064433603707e-07,1.4395032216801853e-07,1.4395032216801853e-07,1.4395032216801853e-07,1.4395032216801853e-07,1.4395032216801853e-07,2.8790064433603707e-07,1.4395032216801853e-07,2.8790064433603707e-07,4.318509665040556e-07,2.8790064433603707e-07,1.4395032216801853e-07,1.4395032216801853e-07,2.8790064433603707e-07,1.4395032216801853e-07,5.758012886720741e-07,1.4395032216801853e-07,1.4395032216801853e-07,4.318509665040556e-07,1.4395032216801853e-07,1.4395032216801853e-07,1.4395032216801853e-07,2.8790064433603707e-07,2.8790064433603707e-07,2.8790064433603707e-07,1.4395032216801853e-07,1.4395032216801853e-07,1.4395032216801853e-07,2.8790064433603707e-07,1.4395032216801853e-07,4.318509665040556e-07,1.4395032216801853e-07,1.4395032216801853e-07,1.4395032216801853e-07,2.8790064433603707e-07,1.4395032216801853e-07,2.8790064433603707e-07,1.4395032216801853e-07,2.8790064433603707e-07,2.8790064433603707e-07,5.758012886720741e-07,2.8790064433603707e-07,1.4395032216801853e-07,1.4395032216801853e-07,4.318509665040556e-07,1.4395032216801853e-07,1.4395032216801853e-07,2.8790064433603707e-07,1.4395032216801853e-07,1.4395032216801853e-07,2.8790064433603707e-07,1.4395032216801853e-07,1.4395032216801853e-07,1.4395032216801853e-07,4.318509665040556e-07,1.4395032216801853e-07,2.8790064433603707e-07,4.318509665040556e-07,1.4395032216801853e-07,4.318509665040556e-07,1.4395032216801853e-07,1.4395032216801853e-07,1.4395032216801853e-07,1.4395032216801853e-07,1.4395032216801853e-07,1.4395032216801853e-07,1.4395032216801853e-07,1.4395032216801853e-07,1.4395032216801853e-07,1.4395032216801853e-07,2.8790064433603707e-07,2.8790064433603707e-07,2.8790064433603707e-07,4.318509665040556e-07,1.4395032216801853e-07,1.4395032216801853e-07,1.4395032216801853e-07,5.758012886720741e-07,5.758012886720741e-07,1.4395032216801853e-07,2.8790064433603707e-07,4.318509665040556e-07,4.318509665040556e-07,2.8790064433603707e-07,2.8790064433603707e-07,1.4395032216801853e-07,1.4395032216801853e-07,1.4395032216801853e-07,5.758012886720741e-07,2.8790064433603707e-07,1.4395032216801853e-07,2.8790064433603707e-07,1.4395032216801853e-07,1.4395032216801853e-07,8.637019330081112e-07,2.8790064433603707e-07,1.4395032216801853e-07,4.318509665040556e-07,5.758012886720741e-07,1.4395032216801853e-07,1.4395032216801853e-07,1.4395032216801853e-07,2.8790064433603707e-07,2.8790064433603707e-07,4.318509665040556e-07,2.8790064433603707e-07,2.8790064433603707e-07,2.8790064433603707e-07,2.8790064433603707e-07,4.318509665040556e-07,1.4395032216801853e-07,1.4395032216801853e-07,2.8790064433603707e-07,1.4395032216801853e-07,1.4395032216801853e-07,4.318509665040556e-07,1.4395032216801853e-07,4.318509665040556e-07,1.4395032216801853e-07,1.4395032216801853e-07,2.8790064433603707e-07,1.4395032216801853e-07,2.8790064433603707e-07,1.4395032216801853e-07,1.4395032216801853e-07,4.318509665040556e-07,2.8790064433603707e-07,2.8790064433603707e-07,1.4395032216801853e-07,2.8790064433603707e-07,1.4395032216801853e-07,4.318509665040556e-07,1.4395032216801853e-07,4.318509665040556e-07,1.4395032216801853e-07,2.8790064433603707e-07,1.4395032216801853e-07,1.4395032216801853e-07,2.8790064433603707e-07,1.4395032216801853e-07,4.318509665040556e-07,2.8790064433603707e-07,2.8790064433603707e-07,2.8790064433603707e-07,4.318509665040556e-07,2.8790064433603707e-07,1.4395032216801853e-07,4.318509665040556e-07,8.637019330081112e-07,1.4395032216801853e-07,7.197516108400927e-07,8.637019330081112e-07,4.318509665040556e-07,1.4395032216801853e-07,5.758012886720741e-07,2.8790064433603707e-07,4.318509665040556e-07,2.8790064433603707e-07,4.318509665040556e-07,1.4395032216801853e-07,1.4395032216801853e-07,2.8790064433603707e-07,7.197516108400927e-07,1.4395032216801853e-07,1.4395032216801853e-07,2.8790064433603707e-07,7.197516108400927e-07,4.318509665040556e-07,5.758012886720741e-07,7.197516108400927e-07,1.4395032216801853e-07,4.318509665040556e-07,8.637019330081112e-07,2.8790064433603707e-07,4.318509665040556e-07,7.197516108400927e-07,1.4395032216801853e-07,7.197516108400927e-07,4.318509665040556e-07,4.318509665040556e-07,8.637019330081112e-07,5.758012886720741e-07,5.758012886720741e-07,2.8790064433603707e-07,8.637019330081112e-07,1.2955528995121668e-06,8.637019330081112e-07,1.0076522551761297e-06,1.1516025773441483e-06,1.871354188184241e-06,1.871354188184241e-06,1.5834535438482039e-06,1.871354188184241e-06,3.1669070876964077e-06,4.89431095371263e-06,0.0001328661473610811,0.028224771518449897,0.04199808229380808,0.030732674031261117,0.026606194095992696,0.02448379054594743,0.022867660278967087,0.021244620396522678,0.020250211570986006,0.018106647323582043,0.016912147550231824,0.01625357482631314,0.015767166687707404,0.015125580101804547,0.01490591191017615,0.014955574771324117,0.013516503400610436,0.013152740936491852,0.013025057000728821,0.012696562365541402,0.012480061081000702,0.01217287109349415,0.011901092885240931,0.011455566638130915,0.011113252772015367,0.011076257539218185,0.010759422880126377,0.010685864265498519,0.010746323400809088,0.010433519350737983,0.010058240860845958,0.010097539298797828,0.009870961491705367,0.00948272747281822,0.009266801989566193,0.008917146657020076,0.008415191883620195,0.008232662875111148,0.008053300773689797,0.007897546525104,0.007573370399581622,0.007470014068264985,0.00742466971678206,0.0071066834551129065,0.006874923436422397,0.00674464839486034,0.006617828161030316,0.006501948151685061,0.0063032967070931955,0.0062205252718465845,0.0060857877702973195,0.005836177911657975,0.005745201308047787,0.0056748096005076265,0.005609312203921178,0.0055677105608146205,0.005390219813581454,0.005169543969697881,0.005135427743344061,0.00506647553902558,0.005017676379810622,0.004874157908609108,0.004806933108156643,0.0047038646774843415,0.0045076603883693325,0.004373066837142235,0.004346148126896815,0.004278491475477847,0.004173119839650857,0.004107622443064409,0.004070915110911564,0.003938048963550483,0.0038037433129677217,0.0037788399072326544,0.003798417151047505,0.0036782186320372095,0.0036485648656705977,0.003638056492152332,0.003466179807483718,0.003340799076875374,0.003286817706062367,0.0032519817280977064,0.003241617304901609,0.003162732528353535,0.0030962274795119107,0.0030911892182360298,0.0030159031997421563,0.0029231991922659523,0.002859141298901184,0.0028382685021868213,0.002819842860949315,0.0028309270357562526,0.0026940302793744667,0.0026101072415505118,0.002586499388714957,0.0025710967042429787,0.0025205701411620046,0.002453633241353876,0.0024907724244732244,0.002392742255076804,0.00234509469843919,0.0023404882881298134,0.002259588207071387,0.0022502314361304656,0.0022823323579739337,0.002204599184003204,0.002107576666861959,0.0020570501037809846,0.002042942972208519,0.002019191169050796,0.0019767258240112303,0.001982915687864455,0.0019876660484959997,0.0019308056712396325,0.0017815291871513973,0.0018231308302579547,0.0017753393232981724,0.0017423746995216963,0.0017452537059650566,0.001747556911119745,0.0017095540260673881,0.0016493827914011562,0.0015990001786423498,0.0015473220129840312,0.0015743846735516186,0.0015087433266430022,0.001562292846489505,0.0015317753781898852,0.0014914692879828399,0.0014199259778653348,0.0013917117147204032,0.0014356165629816487,0.001376021129604089,0.0014337452087934644,0.0013604744948099432,0.001282741320839213,0.0013017427633653916,0.0012559665609159618,0.0012566863125268017,0.0012591334680036581,0.0012756877550529802,0.0012381167209671274,0.0011664294605274541,0.0011540497328210045,0.0011231004135548806,0.001119213754856344,0.0010771802607832826,0.0010905676407449083,0.001095461951698621,0.001033563313166373,0.0010348588660658853,0.0009961362294026881,0.00102435049254762,0.0009994470868125527,0.0009833246507297345,0.0009499281759867543,0.0009574135927394912,0.0009447459643887056,0.0009447459643887056,0.0009034322219264843,0.0009336617895817681,0.0009220018134861586,0.0009186909560762942,0.0008421093846829084,0.0008573681188327184,0.0008206607866798737,0.0008408138317833962,0.0008418214840385723,0.0008094326615507682,0.0008028109467310393,0.0008015153938315272,0.0007413441591652954,0.0007599137507249698,0.0007666794158668667,0.0007758922364856199,0.0007630806578126662,0.0007162968031080601,0.0007109706411878435,0.0006978711618705538,0.0006955679567158655,0.0007114024921543475,0.0006895220431848087,0.0007026215225020984,0.0006866430367414483,0.0006715282529138064,0.0006459050955678991,0.0006176908324229675,0.0006182666337116396,0.0006198500872554878,0.0006332374672171136,0.0005775286925380904,0.0006045913531056779,0.000590196320888876,0.0005687477228858412,0.0005756573383499061,0.0005786802951154345,0.0005758012886720741,0.0005382302545862212,0.0005313206391221564,0.0005265702784906117,0.0005010910714668725,0.0005139026501398262,0.000496772561801832,0.0005215320172147312,0.0004989318166343522,0.0004927419527811274,0.0004800743244303418,0.0004754679141209652,0.0004532995645070903,0.0004721570567111008,0.0004366013271356002,0.00045747412384996287,0.00044178353873364885,0.0004311312148932155,0.0004557467199839467,0.0004488371045198818,0.0004406319361563047,0.00041299347430004516,0.0004063717594803163,0.00038348365825560134,0.0003916888266191784,0.00036261086154123866,0.0003608834576752225,0.0003892416711423221,0.0003830518072890973,0.0003751345395698563,0.0003446170712702364,0.00033238129388595477,0.0003568528486545179,0.00033281314485245886,0.00033756350548400343,0.00033194944291945074,0.0003223047713341935,0.00032043341714600926,0.00032216082101202545,0.0003050307326740313,0.0003200015661795052,0.0003207213177903453,0.00030718998750655155,0.00028343818434882847,0.00027768017146210773,0.00028790064433603706,0.0002867490417586929,0.00026386094053397794,0.00028444583660400464,0.00028790064433603706,0.0002629972386009699,0.0002658762450443302,0.00024500344832996754,0.00025220096443836847,0.00027839992307294786,0.0002570952753920811,0.0002569513250699131,0.0002447155476856315,0.00022744150902546928,0.00022326694968259674,0.0002306084161131657,0.00023435112448953415,0.000240828888987095,0.0002307523664353337,0.0002369422302885585,0.00021966819162839627,0.00021247067551999536,0.00022398670129343684,0.00020426550715641828,0.00022182744646091657,0.00020728846392194667,0.0001996590968470417,0.00021621338389636382,0.00019663614008151332,0.00018152135625387137,0.00020153045103522594,0.0001802258033543592,0.00021391017874167553,0.00020714451359977865,0.00018440036269723174,0.00017461174078980648,0.00019145392848346463,0.00017446779046763846,0.0001779225981996709,0.00018684751817408805,0.00015820140406265235,0.0001772028465888308,0.00015287524214243568,0.00017000533048042987,0.0001701492808025979,0.00016323966533853302,0.0001662626221040614,0.0001592090563178285,0.0001499962356990753,0.00015863325502915641,0.0001453898253896987,0.00015014018602124333,0.0001544586956862839,0.00016021670857300463,0.00016050460921734067,0.0001772028465888308,0.00015834535438482037,0.00015489054665278793,0.00014956438473257125,0.00014150316669116222,0.00014323057055717843,0.00013934391185864192,0.000147549080222219,0.00014006366346948202,0.0001383362596034658,0.00013876811056996987,0.00014222291830200232,0.00016122436082818074,0.00015575424858579604,0.00013848020992563383,0.0001389120608921379,0.00015561029826362802,0.00015057203698774739,0.00015014018602124333,0.0001653989201710533,0.000186559617529752,0.00014942043441040323,0.00016640657242622943,0.00016338361566070104,0.0001671263240370695,0.00016381546662720507,0.0001715887840242781,0.00015719375180747624,0.00011458445644574275,8.262748492444264e-05,7.399046559436153e-05,6.175468821007995e-05,5.326161920216685e-05,5.311766887999884e-05,4.879915921495828e-05,4.102584181788528e-05,3.929843795186906e-05,3.166907087696408e-05,3.210092184346813e-05,3.238882248780417e-05,2.7206610889755502e-05,3.238882248780417e-05,3.238882248780417e-05,2.9653766366611815e-05,2.346390251338702e-05,2.461550509073117e-05,2.5767107668075318e-05,2.461550509073117e-05,3.080536894395597e-05,2.735056121192352e-05,2.9221915400107763e-05,2.5767107668075318e-05,2.6630809601083426e-05,3.2532772809972184e-05,2.2888101224714945e-05,2.1016747036530705e-05,1.9145392848346464e-05,2.7926362500595595e-05,2.5767107668075318e-05,2.6630809601083426e-05,2.0872796714362685e-05,2.2312299936042873e-05,1.7274038660162224e-05,1.8281690915338352e-05,1.8137740593170336e-05,2.0296995425690613e-05,1.5258734149809964e-05,1.6986138015826188e-05,9.356770940921204e-06,1.0940224484769408e-05,1.4251081894633833e-05,1.1803926417777519e-05,1.0364423196097334e-05,1.1803926417777519e-05,7.629367074904982e-06,1.1803926417777519e-05,1.0076522551761296e-05,1.079627416260139e-05,7.773317397073e-06,5.614062564552722e-06,7.485416752736964e-06,8.78096965224913e-06,6.1898638532247965e-06,7.341466430568945e-06,7.629367074904982e-06,6.9096154640648896e-06,7.91726771924102e-06,8.205168363577056e-06,4.606410309376593e-06,7.773317397073e-06,7.053565786232908e-06,8.205168363577056e-06,7.773317397073e-06,5.758012886720741e-06,4.606410309376593e-06,3.4548077320324448e-06,4.750360631544611e-06,5.038261275880648e-06,5.614062564552722e-06,8.349118685745074e-06,4.174559342872537e-06,6.045913531056778e-06,3.742708376368482e-06,4.174559342872537e-06,4.462459987208574e-06,5.182211598048667e-06,4.318509665040556e-06,4.030609020704519e-06,3.8866586985365e-06,4.606410309376593e-06,4.030609020704519e-06,4.750360631544611e-06,4.750360631544611e-06,5.614062564552722e-06,3.4548077320324448e-06,2.3032051546882965e-06,2.735056121192352e-06,2.3032051546882965e-06,2.447155476856315e-06,3.3108574098644263e-06,3.742708376368482e-06,3.742708376368482e-06,3.742708376368482e-06,2.159254832520278e-06,2.5911057990243336e-06,2.5911057990243336e-06,3.3108574098644263e-06,1.1516025773441483e-06,2.3032051546882965e-06,2.447155476856315e-06,2.3032051546882965e-06,2.5911057990243336e-06,1.7274038660162224e-06,3.1669070876964077e-06,1.7274038660162224e-06,2.0153045103522595e-06,1.2955528995121668e-06,1.4395032216801853e-06,2.159254832520278e-06,2.8790064433603707e-06,2.447155476856315e-06,1.871354188184241e-06,2.5911057990243336e-06,1.7274038660162224e-06,2.3032051546882965e-06,1.5834535438482039e-06,2.735056121192352e-06,1.4395032216801853e-06,1.7274038660162224e-06,1.5834535438482039e-06,5.758012886720741e-07,2.0153045103522595e-06,1.2955528995121668e-06,1.5834535438482039e-06,1.2955528995121668e-06,1.2955528995121668e-06,4.318509665040556e-07,1.0076522551761297e-06,1.2955528995121668e-06,8.637019330081112e-07,2.159254832520278e-06,1.7274038660162224e-06,8.637019330081112e-07,1.2955528995121668e-06,8.637019330081112e-07,4.318509665040556e-07,1.2955528995121668e-06,2.0153045103522595e-06,2.3032051546882965e-06,1.2955528995121668e-06,3.1669070876964077e-06,1.2955528995121668e-06,1.871354188184241e-06,4.318509665040556e-07,4.318509665040556e-07,1.871354188184241e-06,1.4395032216801853e-06,7.197516108400927e-07,1.2955528995121668e-06,1.1516025773441483e-06,7.197516108400927e-07,1.1516025773441483e-06,5.758012886720741e-07,1.0076522551761297e-06,5.758012886720741e-07,1.0076522551761297e-06,5.758012886720741e-07,5.758012886720741e-07,1.0076522551761297e-06,8.637019330081112e-07,2.8790064433603707e-07,1.1516025773441483e-06,7.197516108400927e-07,7.197516108400927e-07,8.637019330081112e-07,1.2955528995121668e-06,1.0076522551761297e-06,5.758012886720741e-07,1.4395032216801853e-06,1.4395032216801853e-06,1.0076522551761297e-06,1.871354188184241e-06,2.0153045103522595e-06,5.758012886720741e-07,1.4395032216801853e-07,1.4395032216801853e-07,1.4395032216801853e-07],\"type\":\"scatter\"}],                        {\"xaxis\":{\"automargin\":true,\"tickangle\":45,\"title\":{\"text\":\"Days between search and checking time\"}},\"yaxis\":{\"title\":{\"text\":\"Frequency\"}},\"template\":{\"data\":{\"histogram2dcontour\":[{\"type\":\"histogram2dcontour\",\"colorbar\":{\"outlinewidth\":0,\"ticks\":\"\"},\"colorscale\":[[0.0,\"#0d0887\"],[0.1111111111111111,\"#46039f\"],[0.2222222222222222,\"#7201a8\"],[0.3333333333333333,\"#9c179e\"],[0.4444444444444444,\"#bd3786\"],[0.5555555555555556,\"#d8576b\"],[0.6666666666666666,\"#ed7953\"],[0.7777777777777778,\"#fb9f3a\"],[0.8888888888888888,\"#fdca26\"],[1.0,\"#f0f921\"]]}],\"choropleth\":[{\"type\":\"choropleth\",\"colorbar\":{\"outlinewidth\":0,\"ticks\":\"\"}}],\"histogram2d\":[{\"type\":\"histogram2d\",\"colorbar\":{\"outlinewidth\":0,\"ticks\":\"\"},\"colorscale\":[[0.0,\"#0d0887\"],[0.1111111111111111,\"#46039f\"],[0.2222222222222222,\"#7201a8\"],[0.3333333333333333,\"#9c179e\"],[0.4444444444444444,\"#bd3786\"],[0.5555555555555556,\"#d8576b\"],[0.6666666666666666,\"#ed7953\"],[0.7777777777777778,\"#fb9f3a\"],[0.8888888888888888,\"#fdca26\"],[1.0,\"#f0f921\"]]}],\"heatmap\":[{\"type\":\"heatmap\",\"colorbar\":{\"outlinewidth\":0,\"ticks\":\"\"},\"colorscale\":[[0.0,\"#0d0887\"],[0.1111111111111111,\"#46039f\"],[0.2222222222222222,\"#7201a8\"],[0.3333333333333333,\"#9c179e\"],[0.4444444444444444,\"#bd3786\"],[0.5555555555555556,\"#d8576b\"],[0.6666666666666666,\"#ed7953\"],[0.7777777777777778,\"#fb9f3a\"],[0.8888888888888888,\"#fdca26\"],[1.0,\"#f0f921\"]]}],\"heatmapgl\":[{\"type\":\"heatmapgl\",\"colorbar\":{\"outlinewidth\":0,\"ticks\":\"\"},\"colorscale\":[[0.0,\"#0d0887\"],[0.1111111111111111,\"#46039f\"],[0.2222222222222222,\"#7201a8\"],[0.3333333333333333,\"#9c179e\"],[0.4444444444444444,\"#bd3786\"],[0.5555555555555556,\"#d8576b\"],[0.6666666666666666,\"#ed7953\"],[0.7777777777777778,\"#fb9f3a\"],[0.8888888888888888,\"#fdca26\"],[1.0,\"#f0f921\"]]}],\"contourcarpet\":[{\"type\":\"contourcarpet\",\"colorbar\":{\"outlinewidth\":0,\"ticks\":\"\"}}],\"contour\":[{\"type\":\"contour\",\"colorbar\":{\"outlinewidth\":0,\"ticks\":\"\"},\"colorscale\":[[0.0,\"#0d0887\"],[0.1111111111111111,\"#46039f\"],[0.2222222222222222,\"#7201a8\"],[0.3333333333333333,\"#9c179e\"],[0.4444444444444444,\"#bd3786\"],[0.5555555555555556,\"#d8576b\"],[0.6666666666666666,\"#ed7953\"],[0.7777777777777778,\"#fb9f3a\"],[0.8888888888888888,\"#fdca26\"],[1.0,\"#f0f921\"]]}],\"surface\":[{\"type\":\"surface\",\"colorbar\":{\"outlinewidth\":0,\"ticks\":\"\"},\"colorscale\":[[0.0,\"#0d0887\"],[0.1111111111111111,\"#46039f\"],[0.2222222222222222,\"#7201a8\"],[0.3333333333333333,\"#9c179e\"],[0.4444444444444444,\"#bd3786\"],[0.5555555555555556,\"#d8576b\"],[0.6666666666666666,\"#ed7953\"],[0.7777777777777778,\"#fb9f3a\"],[0.8888888888888888,\"#fdca26\"],[1.0,\"#f0f921\"]]}],\"mesh3d\":[{\"type\":\"mesh3d\",\"colorbar\":{\"outlinewidth\":0,\"ticks\":\"\"}}],\"scatter\":[{\"fillpattern\":{\"fillmode\":\"overlay\",\"size\":10,\"solidity\":0.2},\"type\":\"scatter\"}],\"parcoords\":[{\"type\":\"parcoords\",\"line\":{\"colorbar\":{\"outlinewidth\":0,\"ticks\":\"\"}}}],\"scatterpolargl\":[{\"type\":\"scatterpolargl\",\"marker\":{\"colorbar\":{\"outlinewidth\":0,\"ticks\":\"\"}}}],\"bar\":[{\"error_x\":{\"color\":\"#2a3f5f\"},\"error_y\":{\"color\":\"#2a3f5f\"},\"marker\":{\"line\":{\"color\":\"#E5ECF6\",\"width\":0.5},\"pattern\":{\"fillmode\":\"overlay\",\"size\":10,\"solidity\":0.2}},\"type\":\"bar\"}],\"scattergeo\":[{\"type\":\"scattergeo\",\"marker\":{\"colorbar\":{\"outlinewidth\":0,\"ticks\":\"\"}}}],\"scatterpolar\":[{\"type\":\"scatterpolar\",\"marker\":{\"colorbar\":{\"outlinewidth\":0,\"ticks\":\"\"}}}],\"histogram\":[{\"marker\":{\"pattern\":{\"fillmode\":\"overlay\",\"size\":10,\"solidity\":0.2}},\"type\":\"histogram\"}],\"scattergl\":[{\"type\":\"scattergl\",\"marker\":{\"colorbar\":{\"outlinewidth\":0,\"ticks\":\"\"}}}],\"scatter3d\":[{\"type\":\"scatter3d\",\"line\":{\"colorbar\":{\"outlinewidth\":0,\"ticks\":\"\"}},\"marker\":{\"colorbar\":{\"outlinewidth\":0,\"ticks\":\"\"}}}],\"scattermapbox\":[{\"type\":\"scattermapbox\",\"marker\":{\"colorbar\":{\"outlinewidth\":0,\"ticks\":\"\"}}}],\"scatterternary\":[{\"type\":\"scatterternary\",\"marker\":{\"colorbar\":{\"outlinewidth\":0,\"ticks\":\"\"}}}],\"scattercarpet\":[{\"type\":\"scattercarpet\",\"marker\":{\"colorbar\":{\"outlinewidth\":0,\"ticks\":\"\"}}}],\"carpet\":[{\"aaxis\":{\"endlinecolor\":\"#2a3f5f\",\"gridcolor\":\"white\",\"linecolor\":\"white\",\"minorgridcolor\":\"white\",\"startlinecolor\":\"#2a3f5f\"},\"baxis\":{\"endlinecolor\":\"#2a3f5f\",\"gridcolor\":\"white\",\"linecolor\":\"white\",\"minorgridcolor\":\"white\",\"startlinecolor\":\"#2a3f5f\"},\"type\":\"carpet\"}],\"table\":[{\"cells\":{\"fill\":{\"color\":\"#EBF0F8\"},\"line\":{\"color\":\"white\"}},\"header\":{\"fill\":{\"color\":\"#C8D4E3\"},\"line\":{\"color\":\"white\"}},\"type\":\"table\"}],\"barpolar\":[{\"marker\":{\"line\":{\"color\":\"#E5ECF6\",\"width\":0.5},\"pattern\":{\"fillmode\":\"overlay\",\"size\":10,\"solidity\":0.2}},\"type\":\"barpolar\"}],\"pie\":[{\"automargin\":true,\"type\":\"pie\"}]},\"layout\":{\"autotypenumbers\":\"strict\",\"colorway\":[\"#636efa\",\"#EF553B\",\"#00cc96\",\"#ab63fa\",\"#FFA15A\",\"#19d3f3\",\"#FF6692\",\"#B6E880\",\"#FF97FF\",\"#FECB52\"],\"font\":{\"color\":\"#2a3f5f\"},\"hovermode\":\"closest\",\"hoverlabel\":{\"align\":\"left\"},\"paper_bgcolor\":\"white\",\"plot_bgcolor\":\"#E5ECF6\",\"polar\":{\"bgcolor\":\"#E5ECF6\",\"angularaxis\":{\"gridcolor\":\"white\",\"linecolor\":\"white\",\"ticks\":\"\"},\"radialaxis\":{\"gridcolor\":\"white\",\"linecolor\":\"white\",\"ticks\":\"\"}},\"ternary\":{\"bgcolor\":\"#E5ECF6\",\"aaxis\":{\"gridcolor\":\"white\",\"linecolor\":\"white\",\"ticks\":\"\"},\"baxis\":{\"gridcolor\":\"white\",\"linecolor\":\"white\",\"ticks\":\"\"},\"caxis\":{\"gridcolor\":\"white\",\"linecolor\":\"white\",\"ticks\":\"\"}},\"coloraxis\":{\"colorbar\":{\"outlinewidth\":0,\"ticks\":\"\"}},\"colorscale\":{\"sequential\":[[0.0,\"#0d0887\"],[0.1111111111111111,\"#46039f\"],[0.2222222222222222,\"#7201a8\"],[0.3333333333333333,\"#9c179e\"],[0.4444444444444444,\"#bd3786\"],[0.5555555555555556,\"#d8576b\"],[0.6666666666666666,\"#ed7953\"],[0.7777777777777778,\"#fb9f3a\"],[0.8888888888888888,\"#fdca26\"],[1.0,\"#f0f921\"]],\"sequentialminus\":[[0.0,\"#0d0887\"],[0.1111111111111111,\"#46039f\"],[0.2222222222222222,\"#7201a8\"],[0.3333333333333333,\"#9c179e\"],[0.4444444444444444,\"#bd3786\"],[0.5555555555555556,\"#d8576b\"],[0.6666666666666666,\"#ed7953\"],[0.7777777777777778,\"#fb9f3a\"],[0.8888888888888888,\"#fdca26\"],[1.0,\"#f0f921\"]],\"diverging\":[[0,\"#8e0152\"],[0.1,\"#c51b7d\"],[0.2,\"#de77ae\"],[0.3,\"#f1b6da\"],[0.4,\"#fde0ef\"],[0.5,\"#f7f7f7\"],[0.6,\"#e6f5d0\"],[0.7,\"#b8e186\"],[0.8,\"#7fbc41\"],[0.9,\"#4d9221\"],[1,\"#276419\"]]},\"xaxis\":{\"gridcolor\":\"white\",\"linecolor\":\"white\",\"ticks\":\"\",\"title\":{\"standoff\":15},\"zerolinecolor\":\"white\",\"automargin\":true,\"zerolinewidth\":2},\"yaxis\":{\"gridcolor\":\"white\",\"linecolor\":\"white\",\"ticks\":\"\",\"title\":{\"standoff\":15},\"zerolinecolor\":\"white\",\"automargin\":true,\"zerolinewidth\":2},\"scene\":{\"xaxis\":{\"backgroundcolor\":\"#E5ECF6\",\"gridcolor\":\"white\",\"linecolor\":\"white\",\"showbackground\":true,\"ticks\":\"\",\"zerolinecolor\":\"white\",\"gridwidth\":2},\"yaxis\":{\"backgroundcolor\":\"#E5ECF6\",\"gridcolor\":\"white\",\"linecolor\":\"white\",\"showbackground\":true,\"ticks\":\"\",\"zerolinecolor\":\"white\",\"gridwidth\":2},\"zaxis\":{\"backgroundcolor\":\"#E5ECF6\",\"gridcolor\":\"white\",\"linecolor\":\"white\",\"showbackground\":true,\"ticks\":\"\",\"zerolinecolor\":\"white\",\"gridwidth\":2}},\"shapedefaults\":{\"line\":{\"color\":\"#2a3f5f\"}},\"annotationdefaults\":{\"arrowcolor\":\"#2a3f5f\",\"arrowhead\":0,\"arrowwidth\":1},\"geo\":{\"bgcolor\":\"white\",\"landcolor\":\"#E5ECF6\",\"subunitcolor\":\"white\",\"showland\":true,\"showlakes\":true,\"lakecolor\":\"white\"},\"title\":{\"x\":0.05},\"mapbox\":{\"style\":\"light\"}}}},                        {\"responsive\": true}                    ).then(function(){\n",
              "                            \n",
              "var gd = document.getElementById('13625f5b-f19f-44e6-897e-8122fc477f20');\n",
              "var x = new MutationObserver(function (mutations, observer) {{\n",
              "        var display = window.getComputedStyle(gd).display;\n",
              "        if (!display || display === 'none') {{\n",
              "            console.log([gd, 'removed!']);\n",
              "            Plotly.purge(gd);\n",
              "            observer.disconnect();\n",
              "        }}\n",
              "}});\n",
              "\n",
              "// Listen for the removal of the full notebook cells\n",
              "var notebookContainer = gd.closest('#notebook-container');\n",
              "if (notebookContainer) {{\n",
              "    x.observe(notebookContainer, {childList: true});\n",
              "}}\n",
              "\n",
              "// Listen for the clearing of the current output cell\n",
              "var outputEl = gd.closest('.output');\n",
              "if (outputEl) {{\n",
              "    x.observe(outputEl, {childList: true});\n",
              "}}\n",
              "\n",
              "                        })                };                            </script>        </div>\n",
              "</body>\n",
              "</html>"
            ]
          },
          "metadata": {},
          "output_type": "display_data"
        }
      ],
      "source": [
        "trace_not_booked = go.Scatter(y = not_booked['days_between'].value_counts().sort_index()/len(not_booked) , name='Not Booked', opacity= 0.5) #TODO\n",
        "trace_is_booked = go.Scatter(y = is_booked['days_between'].value_counts().sort_index()/len(is_booked) , name='Booked') #TODO\n",
        "\n",
        "data = [trace_is_booked, trace_not_booked]\n",
        "\n",
        "layout = go.Layout(\n",
        "    xaxis=dict(title='Days between search and checking time', tickangle=45, automargin=True),\n",
        "    yaxis=dict(title='Frequency')\n",
        ")\n",
        "\n",
        "fig = go.Figure(data=data, layout=layout)\n",
        "fig.show()\n",
        "fig.write_json('./days_between.json')"
      ]
    },
    {
      "cell_type": "markdown",
      "id": "rqgY5Jbb2_Yw",
      "metadata": {
        "id": "rqgY5Jbb2_Yw"
      },
      "source": [
        "# **illustration 5**"
      ]
    },
    {
      "cell_type": "code",
      "execution_count": 43,
      "id": "3e655326-17f0-4f40-9f67-8c425cc73ffe",
      "metadata": {
        "colab": {
          "base_uri": "https://localhost:8080/",
          "height": 542
        },
        "id": "3e655326-17f0-4f40-9f67-8c425cc73ffe",
        "outputId": "3f845db5-0f0d-45ee-c6f1-a883b8e32b2d"
      },
      "outputs": [
        {
          "data": {
            "text/html": [
              "<html>\n",
              "<head><meta charset=\"utf-8\" /></head>\n",
              "<body>\n",
              "    <div>            <script src=\"https://cdnjs.cloudflare.com/ajax/libs/mathjax/2.7.5/MathJax.js?config=TeX-AMS-MML_SVG\"></script><script type=\"text/javascript\">if (window.MathJax && window.MathJax.Hub && window.MathJax.Hub.Config) {window.MathJax.Hub.Config({SVG: {font: \"STIX-Web\"}});}</script>                <script type=\"text/javascript\">window.PlotlyConfig = {MathJaxConfig: 'local'};</script>\n",
              "        <script charset=\"utf-8\" src=\"https://cdn.plot.ly/plotly-2.24.1.min.js\"></script>                <div id=\"5fa2cd56-f507-4012-afbe-f0343ab3544e\" class=\"plotly-graph-div\" style=\"height:525px; width:100%;\"></div>            <script type=\"text/javascript\">                                    window.PLOTLYENV=window.PLOTLYENV || {};                                    if (document.getElementById(\"5fa2cd56-f507-4012-afbe-f0343ab3544e\")) {                    Plotly.newPlot(                        \"5fa2cd56-f507-4012-afbe-f0343ab3544e\",                        [{\"name\":\"Booked\",\"y\":[0.43093098764555415,0.22446050339418644,0.14472696176119976,0.08568337747613947,0.044226408024572915,0.023844669699501563,0.023492635227319085,0.007432006732470421,0.004302979299466509,0.003382854863590419,0.0017390200750301797,0.0012721589080585676,0.0010470381511693437,0.0015562038899053737,0.0004532632689044778,0.0002719579613426867,0.0002160554915111344,0.00014655512361244781,0.00012691371529325378,0.00014806600117546275,0.0001797944299987762,4.834808201647763e-05,3.021755126029852e-05,4.9858959579492555e-05,4.834808201647763e-05,3.626106151235822e-05,4.0793694201403e-05,0.00010273967428501497,1.510877563014926e-06,1.510877563014926e-06],\"type\":\"scatter\"},{\"name\":\"Not Booked\",\"opacity\":0.5,\"y\":[0.004578771847520333,0.25929829112254044,0.20371691247863596,0.1759753821917041,0.12360150462634743,0.07102163414996832,0.04835420876913694,0.056060589266401804,0.017280228524015447,0.010560771435534511,0.008098501174850555,0.003975188146669832,0.0027703239501235166,0.0031355259174637795,0.004954194287734526,0.0012952649988678306,0.0007819381500166766,0.0005249868249467635,0.00038132440342308107,0.0003876582175984739,0.00046395188834752373,0.0005808395499479548,0.00021160697358698724,0.00015244339117593162,0.0001561860995523001,0.000194188984604657,0.00019562848782633718,0.00013776045831479373,0.000342025965471212,8.23395842801066e-05,0.00010738694033734182,0.00010076522551761297,8.766574620032329e-05,6.765665141896871e-05,4.89431095371263e-05,4.635200373810196e-05,2.9221915400107763e-05,1.7130088337994204e-05,1.3387379961625723e-05,1.2091827062113557e-05,9.356770940921204e-06,7.485416752736964e-06,1.0940224484769408e-05,6.9096154640648896e-06,7.91726771924102e-06,5.758012886720741e-06,4.462459987208574e-06,3.8866586985365e-06,5.326161920216685e-06,5.038261275880648e-06,5.038261275880648e-06,4.89431095371263e-06,3.8866586985365e-06,3.5987580542004633e-06,2.5911057990243336e-06,3.4548077320324448e-06,5.758012886720741e-06,3.742708376368482e-06,4.030609020704519e-06,8.205168363577056e-06,2.274415090254693e-05,1.065232384043337e-05,2.8790064433603707e-06,1.871354188184241e-06,1.2955528995121668e-06,7.197516108400927e-07,4.318509665040556e-07,4.318509665040556e-07,1.4395032216801853e-07,2.8790064433603707e-07,4.318509665040556e-07,5.758012886720741e-07,1.4395032216801853e-07,1.4395032216801853e-07,2.8790064433603707e-07,1.4395032216801853e-07,2.8790064433603707e-07,7.197516108400927e-07,2.8790064433603707e-07,2.8790064433603707e-07,1.4395032216801853e-07,2.8790064433603707e-07,1.4395032216801853e-07,1.4395032216801853e-07,4.318509665040556e-07,4.318509665040556e-07,1.7274038660162224e-06,1.1516025773441483e-06,2.447155476856315e-06,6.3338141753928154e-06,7.197516108400927e-07,1.4395032216801853e-06,5.758012886720741e-07,1.4395032216801853e-07,1.4395032216801853e-07,4.318509665040556e-07,4.318509665040556e-07,1.4395032216801853e-07,1.4395032216801853e-07,1.4395032216801853e-07,2.8790064433603707e-07,1.4395032216801853e-07,1.4395032216801853e-07,4.318509665040556e-07,2.8790064433603707e-07,1.4395032216801853e-07,1.1516025773441483e-06,1.4395032216801853e-07,2.8790064433603707e-06,1.0076522551761297e-06,2.8790064433603707e-07,1.4395032216801853e-07,1.4395032216801853e-07,4.318509665040556e-07,1.4395032216801853e-07,2.8790064433603707e-07,1.4395032216801853e-07,1.4395032216801853e-07,1.4395032216801853e-07,2.8790064433603707e-07,1.4395032216801853e-07,4.318509665040556e-07,4.318509665040556e-07,1.4395032216801853e-07,2.3032051546882965e-06,8.637019330081112e-07,1.4395032216801853e-07,1.4395032216801853e-07,2.8790064433603707e-07,4.318509665040556e-07,2.8790064433603707e-07,1.4395032216801853e-07,1.4395032216801853e-07,1.4395032216801853e-07,1.4395032216801853e-07,1.4395032216801853e-07,1.4395032216801853e-07,8.637019330081112e-07,1.4395032216801853e-07,1.4395032216801853e-07,1.4395032216801853e-07,1.4395032216801853e-07,2.8790064433603707e-07,1.4395032216801853e-07,1.4395032216801853e-07,2.8790064433603707e-07,2.8790064433603707e-07,1.4395032216801853e-07,1.4395032216801853e-07,1.4395032216801853e-07,5.758012886720741e-07,1.1516025773441483e-06,1.4395032216801853e-07,1.4395032216801853e-07,1.4395032216801853e-07,1.4395032216801853e-07,1.4395032216801853e-07,2.8790064433603707e-07,4.318509665040556e-07,2.8790064433603707e-07,1.4395032216801853e-07,1.4395032216801853e-07,1.4395032216801853e-07,4.318509665040556e-07,1.4395032216801853e-07,1.4395032216801853e-07,1.4395032216801853e-07,1.4395032216801853e-07,1.0076522551761297e-06,1.4395032216801853e-07,1.4395032216801853e-07,1.4395032216801853e-07],\"type\":\"scatter\"}],                        {\"xaxis\":{\"automargin\":true,\"tickangle\":45,\"title\":{\"text\":\"Length of Stay\"}},\"yaxis\":{\"title\":{\"text\":\"Frequency\"}},\"template\":{\"data\":{\"histogram2dcontour\":[{\"type\":\"histogram2dcontour\",\"colorbar\":{\"outlinewidth\":0,\"ticks\":\"\"},\"colorscale\":[[0.0,\"#0d0887\"],[0.1111111111111111,\"#46039f\"],[0.2222222222222222,\"#7201a8\"],[0.3333333333333333,\"#9c179e\"],[0.4444444444444444,\"#bd3786\"],[0.5555555555555556,\"#d8576b\"],[0.6666666666666666,\"#ed7953\"],[0.7777777777777778,\"#fb9f3a\"],[0.8888888888888888,\"#fdca26\"],[1.0,\"#f0f921\"]]}],\"choropleth\":[{\"type\":\"choropleth\",\"colorbar\":{\"outlinewidth\":0,\"ticks\":\"\"}}],\"histogram2d\":[{\"type\":\"histogram2d\",\"colorbar\":{\"outlinewidth\":0,\"ticks\":\"\"},\"colorscale\":[[0.0,\"#0d0887\"],[0.1111111111111111,\"#46039f\"],[0.2222222222222222,\"#7201a8\"],[0.3333333333333333,\"#9c179e\"],[0.4444444444444444,\"#bd3786\"],[0.5555555555555556,\"#d8576b\"],[0.6666666666666666,\"#ed7953\"],[0.7777777777777778,\"#fb9f3a\"],[0.8888888888888888,\"#fdca26\"],[1.0,\"#f0f921\"]]}],\"heatmap\":[{\"type\":\"heatmap\",\"colorbar\":{\"outlinewidth\":0,\"ticks\":\"\"},\"colorscale\":[[0.0,\"#0d0887\"],[0.1111111111111111,\"#46039f\"],[0.2222222222222222,\"#7201a8\"],[0.3333333333333333,\"#9c179e\"],[0.4444444444444444,\"#bd3786\"],[0.5555555555555556,\"#d8576b\"],[0.6666666666666666,\"#ed7953\"],[0.7777777777777778,\"#fb9f3a\"],[0.8888888888888888,\"#fdca26\"],[1.0,\"#f0f921\"]]}],\"heatmapgl\":[{\"type\":\"heatmapgl\",\"colorbar\":{\"outlinewidth\":0,\"ticks\":\"\"},\"colorscale\":[[0.0,\"#0d0887\"],[0.1111111111111111,\"#46039f\"],[0.2222222222222222,\"#7201a8\"],[0.3333333333333333,\"#9c179e\"],[0.4444444444444444,\"#bd3786\"],[0.5555555555555556,\"#d8576b\"],[0.6666666666666666,\"#ed7953\"],[0.7777777777777778,\"#fb9f3a\"],[0.8888888888888888,\"#fdca26\"],[1.0,\"#f0f921\"]]}],\"contourcarpet\":[{\"type\":\"contourcarpet\",\"colorbar\":{\"outlinewidth\":0,\"ticks\":\"\"}}],\"contour\":[{\"type\":\"contour\",\"colorbar\":{\"outlinewidth\":0,\"ticks\":\"\"},\"colorscale\":[[0.0,\"#0d0887\"],[0.1111111111111111,\"#46039f\"],[0.2222222222222222,\"#7201a8\"],[0.3333333333333333,\"#9c179e\"],[0.4444444444444444,\"#bd3786\"],[0.5555555555555556,\"#d8576b\"],[0.6666666666666666,\"#ed7953\"],[0.7777777777777778,\"#fb9f3a\"],[0.8888888888888888,\"#fdca26\"],[1.0,\"#f0f921\"]]}],\"surface\":[{\"type\":\"surface\",\"colorbar\":{\"outlinewidth\":0,\"ticks\":\"\"},\"colorscale\":[[0.0,\"#0d0887\"],[0.1111111111111111,\"#46039f\"],[0.2222222222222222,\"#7201a8\"],[0.3333333333333333,\"#9c179e\"],[0.4444444444444444,\"#bd3786\"],[0.5555555555555556,\"#d8576b\"],[0.6666666666666666,\"#ed7953\"],[0.7777777777777778,\"#fb9f3a\"],[0.8888888888888888,\"#fdca26\"],[1.0,\"#f0f921\"]]}],\"mesh3d\":[{\"type\":\"mesh3d\",\"colorbar\":{\"outlinewidth\":0,\"ticks\":\"\"}}],\"scatter\":[{\"fillpattern\":{\"fillmode\":\"overlay\",\"size\":10,\"solidity\":0.2},\"type\":\"scatter\"}],\"parcoords\":[{\"type\":\"parcoords\",\"line\":{\"colorbar\":{\"outlinewidth\":0,\"ticks\":\"\"}}}],\"scatterpolargl\":[{\"type\":\"scatterpolargl\",\"marker\":{\"colorbar\":{\"outlinewidth\":0,\"ticks\":\"\"}}}],\"bar\":[{\"error_x\":{\"color\":\"#2a3f5f\"},\"error_y\":{\"color\":\"#2a3f5f\"},\"marker\":{\"line\":{\"color\":\"#E5ECF6\",\"width\":0.5},\"pattern\":{\"fillmode\":\"overlay\",\"size\":10,\"solidity\":0.2}},\"type\":\"bar\"}],\"scattergeo\":[{\"type\":\"scattergeo\",\"marker\":{\"colorbar\":{\"outlinewidth\":0,\"ticks\":\"\"}}}],\"scatterpolar\":[{\"type\":\"scatterpolar\",\"marker\":{\"colorbar\":{\"outlinewidth\":0,\"ticks\":\"\"}}}],\"histogram\":[{\"marker\":{\"pattern\":{\"fillmode\":\"overlay\",\"size\":10,\"solidity\":0.2}},\"type\":\"histogram\"}],\"scattergl\":[{\"type\":\"scattergl\",\"marker\":{\"colorbar\":{\"outlinewidth\":0,\"ticks\":\"\"}}}],\"scatter3d\":[{\"type\":\"scatter3d\",\"line\":{\"colorbar\":{\"outlinewidth\":0,\"ticks\":\"\"}},\"marker\":{\"colorbar\":{\"outlinewidth\":0,\"ticks\":\"\"}}}],\"scattermapbox\":[{\"type\":\"scattermapbox\",\"marker\":{\"colorbar\":{\"outlinewidth\":0,\"ticks\":\"\"}}}],\"scatterternary\":[{\"type\":\"scatterternary\",\"marker\":{\"colorbar\":{\"outlinewidth\":0,\"ticks\":\"\"}}}],\"scattercarpet\":[{\"type\":\"scattercarpet\",\"marker\":{\"colorbar\":{\"outlinewidth\":0,\"ticks\":\"\"}}}],\"carpet\":[{\"aaxis\":{\"endlinecolor\":\"#2a3f5f\",\"gridcolor\":\"white\",\"linecolor\":\"white\",\"minorgridcolor\":\"white\",\"startlinecolor\":\"#2a3f5f\"},\"baxis\":{\"endlinecolor\":\"#2a3f5f\",\"gridcolor\":\"white\",\"linecolor\":\"white\",\"minorgridcolor\":\"white\",\"startlinecolor\":\"#2a3f5f\"},\"type\":\"carpet\"}],\"table\":[{\"cells\":{\"fill\":{\"color\":\"#EBF0F8\"},\"line\":{\"color\":\"white\"}},\"header\":{\"fill\":{\"color\":\"#C8D4E3\"},\"line\":{\"color\":\"white\"}},\"type\":\"table\"}],\"barpolar\":[{\"marker\":{\"line\":{\"color\":\"#E5ECF6\",\"width\":0.5},\"pattern\":{\"fillmode\":\"overlay\",\"size\":10,\"solidity\":0.2}},\"type\":\"barpolar\"}],\"pie\":[{\"automargin\":true,\"type\":\"pie\"}]},\"layout\":{\"autotypenumbers\":\"strict\",\"colorway\":[\"#636efa\",\"#EF553B\",\"#00cc96\",\"#ab63fa\",\"#FFA15A\",\"#19d3f3\",\"#FF6692\",\"#B6E880\",\"#FF97FF\",\"#FECB52\"],\"font\":{\"color\":\"#2a3f5f\"},\"hovermode\":\"closest\",\"hoverlabel\":{\"align\":\"left\"},\"paper_bgcolor\":\"white\",\"plot_bgcolor\":\"#E5ECF6\",\"polar\":{\"bgcolor\":\"#E5ECF6\",\"angularaxis\":{\"gridcolor\":\"white\",\"linecolor\":\"white\",\"ticks\":\"\"},\"radialaxis\":{\"gridcolor\":\"white\",\"linecolor\":\"white\",\"ticks\":\"\"}},\"ternary\":{\"bgcolor\":\"#E5ECF6\",\"aaxis\":{\"gridcolor\":\"white\",\"linecolor\":\"white\",\"ticks\":\"\"},\"baxis\":{\"gridcolor\":\"white\",\"linecolor\":\"white\",\"ticks\":\"\"},\"caxis\":{\"gridcolor\":\"white\",\"linecolor\":\"white\",\"ticks\":\"\"}},\"coloraxis\":{\"colorbar\":{\"outlinewidth\":0,\"ticks\":\"\"}},\"colorscale\":{\"sequential\":[[0.0,\"#0d0887\"],[0.1111111111111111,\"#46039f\"],[0.2222222222222222,\"#7201a8\"],[0.3333333333333333,\"#9c179e\"],[0.4444444444444444,\"#bd3786\"],[0.5555555555555556,\"#d8576b\"],[0.6666666666666666,\"#ed7953\"],[0.7777777777777778,\"#fb9f3a\"],[0.8888888888888888,\"#fdca26\"],[1.0,\"#f0f921\"]],\"sequentialminus\":[[0.0,\"#0d0887\"],[0.1111111111111111,\"#46039f\"],[0.2222222222222222,\"#7201a8\"],[0.3333333333333333,\"#9c179e\"],[0.4444444444444444,\"#bd3786\"],[0.5555555555555556,\"#d8576b\"],[0.6666666666666666,\"#ed7953\"],[0.7777777777777778,\"#fb9f3a\"],[0.8888888888888888,\"#fdca26\"],[1.0,\"#f0f921\"]],\"diverging\":[[0,\"#8e0152\"],[0.1,\"#c51b7d\"],[0.2,\"#de77ae\"],[0.3,\"#f1b6da\"],[0.4,\"#fde0ef\"],[0.5,\"#f7f7f7\"],[0.6,\"#e6f5d0\"],[0.7,\"#b8e186\"],[0.8,\"#7fbc41\"],[0.9,\"#4d9221\"],[1,\"#276419\"]]},\"xaxis\":{\"gridcolor\":\"white\",\"linecolor\":\"white\",\"ticks\":\"\",\"title\":{\"standoff\":15},\"zerolinecolor\":\"white\",\"automargin\":true,\"zerolinewidth\":2},\"yaxis\":{\"gridcolor\":\"white\",\"linecolor\":\"white\",\"ticks\":\"\",\"title\":{\"standoff\":15},\"zerolinecolor\":\"white\",\"automargin\":true,\"zerolinewidth\":2},\"scene\":{\"xaxis\":{\"backgroundcolor\":\"#E5ECF6\",\"gridcolor\":\"white\",\"linecolor\":\"white\",\"showbackground\":true,\"ticks\":\"\",\"zerolinecolor\":\"white\",\"gridwidth\":2},\"yaxis\":{\"backgroundcolor\":\"#E5ECF6\",\"gridcolor\":\"white\",\"linecolor\":\"white\",\"showbackground\":true,\"ticks\":\"\",\"zerolinecolor\":\"white\",\"gridwidth\":2},\"zaxis\":{\"backgroundcolor\":\"#E5ECF6\",\"gridcolor\":\"white\",\"linecolor\":\"white\",\"showbackground\":true,\"ticks\":\"\",\"zerolinecolor\":\"white\",\"gridwidth\":2}},\"shapedefaults\":{\"line\":{\"color\":\"#2a3f5f\"}},\"annotationdefaults\":{\"arrowcolor\":\"#2a3f5f\",\"arrowhead\":0,\"arrowwidth\":1},\"geo\":{\"bgcolor\":\"white\",\"landcolor\":\"#E5ECF6\",\"subunitcolor\":\"white\",\"showland\":true,\"showlakes\":true,\"lakecolor\":\"white\"},\"title\":{\"x\":0.05},\"mapbox\":{\"style\":\"light\"}}}},                        {\"responsive\": true}                    ).then(function(){\n",
              "                            \n",
              "var gd = document.getElementById('5fa2cd56-f507-4012-afbe-f0343ab3544e');\n",
              "var x = new MutationObserver(function (mutations, observer) {{\n",
              "        var display = window.getComputedStyle(gd).display;\n",
              "        if (!display || display === 'none') {{\n",
              "            console.log([gd, 'removed!']);\n",
              "            Plotly.purge(gd);\n",
              "            observer.disconnect();\n",
              "        }}\n",
              "}});\n",
              "\n",
              "// Listen for the removal of the full notebook cells\n",
              "var notebookContainer = gd.closest('#notebook-container');\n",
              "if (notebookContainer) {{\n",
              "    x.observe(notebookContainer, {childList: true});\n",
              "}}\n",
              "\n",
              "// Listen for the clearing of the current output cell\n",
              "var outputEl = gd.closest('.output');\n",
              "if (outputEl) {{\n",
              "    x.observe(outputEl, {childList: true});\n",
              "}}\n",
              "\n",
              "                        })                };                            </script>        </div>\n",
              "</body>\n",
              "</html>"
            ]
          },
          "metadata": {},
          "output_type": "display_data"
        }
      ],
      "source": [
        "trace_not_booked = go.Scatter(y = not_booked['duration'].value_counts().sort_index()/len(not_booked) , name='Not Booked', opacity= 0.5) #TODO\n",
        "trace_is_booked = go.Scatter(y = is_booked['duration'].value_counts().sort_index()/len(is_booked) , name='Booked') #TODO\n",
        "\n",
        "data = [trace_is_booked, trace_not_booked]\n",
        "\n",
        "layout = go.Layout(\n",
        "    xaxis=dict(title='Length of Stay', tickangle=45, automargin=True),\n",
        "    yaxis=dict(title='Frequency')\n",
        ")\n",
        "\n",
        "fig = go.Figure(data=data, layout=layout)\n",
        "fig.show()\n",
        "fig.write_json('./los.json')"
      ]
    },
    {
      "cell_type": "code",
      "execution_count": 44,
      "id": "bc9e48f4",
      "metadata": {
        "id": "bc9e48f4"
      },
      "outputs": [],
      "source": [
        "del trace_not_booked, trace_is_booked, is_booked, not_booked, data"
      ]
    },
    {
      "cell_type": "code",
      "execution_count": 46,
      "id": "a5416cb7-8b90-4d1d-8ecb-8bdf142dcc5c",
      "metadata": {
        "id": "a5416cb7-8b90-4d1d-8ecb-8bdf142dcc5c"
      },
      "outputs": [],
      "source": [
        "# TODO: Add is_abroad column\n",
        "\n",
        "train['is_abroad'] = 0\n",
        "train.loc[train['user_location_country'] == train['hotel_country'], 'is_abroad'] = 1"
      ]
    },
    {
      "cell_type": "code",
      "execution_count": 47,
      "id": "06a6e679-bc0e-49d4-acf5-d9085d2df66c",
      "metadata": {
        "id": "06a6e679-bc0e-49d4-acf5-d9085d2df66c"
      },
      "outputs": [],
      "source": [
        "# TODO: Preprocessing (Drop Unnecessary Columns) (Optional)\n",
        "\n",
        "train = train.drop(columns = ['search_date','checkIn_date','checkOut_date'])"
      ]
    },
    {
      "cell_type": "code",
      "execution_count": 48,
      "id": "3e8987ac-64cf-4fac-b8ea-6673382a6dcf",
      "metadata": {
        "id": "3e8987ac-64cf-4fac-b8ea-6673382a6dcf"
      },
      "outputs": [],
      "source": [
        "# TODO: Preprocessing (Make One-hotted Columns) (Optional)\n",
        "dummy_columns = ['channel'] #TODO\n",
        "\n",
        "train = pd.get_dummies(train, columns = dummy_columns)"
      ]
    },
    {
      "cell_type": "code",
      "execution_count": 49,
      "id": "5e3fd748-321b-40c5-a660-6a5460624df1",
      "metadata": {
        "id": "5e3fd748-321b-40c5-a660-6a5460624df1"
      },
      "outputs": [],
      "source": [
        "# TODO: Preprocessing (Encode Categorical Columns) (Optional)\n",
        "le = LabelEncoder()\n",
        "\n",
        "columns_to_encode = ['search_time_of_day','checkIn_of_year']\n",
        "\n",
        "for column in columns_to_encode:\n",
        "    train.loc[:, column] = le.fit_transform(train[column])"
      ]
    },
    {
      "cell_type": "code",
      "execution_count": 50,
      "id": "f31f968b",
      "metadata": {
        "id": "f31f968b"
      },
      "outputs": [],
      "source": [
        "#To make sure orders are correct,\n",
        "#Also If I want to drop any other column I can change this part of code\n",
        "\n",
        "drop_columns = ['user_location_country','hotel_country','destination']\n",
        "train_columns = train.drop(columns = drop_columns).columns\n",
        "train_columns.drop('is_booking')\n",
        "\n",
        "train = train[train_columns]"
      ]
    },
    {
      "cell_type": "code",
      "execution_count": 51,
      "id": "ab769139",
      "metadata": {
        "id": "ab769139"
      },
      "outputs": [],
      "source": [
        "# Make Data Set Balance (We Also could set class_weights for our model)\n",
        "train = train.drop(index = train[train['is_booking'] == False].sample(frac =.905).index)\n",
        "train = train.astype(np.float32)"
      ]
    },
    {
      "cell_type": "code",
      "execution_count": 57,
      "id": "600b8882-3d22-4fa6-814b-2d4cd2401bb0",
      "metadata": {
        "id": "600b8882-3d22-4fa6-814b-2d4cd2401bb0"
      },
      "outputs": [],
      "source": [
        "# TODO: Make Validation Set (Optional)\n",
        "\n",
        "X_train, X_test, y_train, y_test = train_test_split(train.drop(columns = ['is_booking'])\n",
        "                                                      ,train['is_booking'], test_size = 0.05)"
      ]
    },
    {
      "cell_type": "markdown",
      "id": "7whFz7Jb3vj9",
      "metadata": {
        "id": "7whFz7Jb3vj9"
      },
      "source": [
        "# **Modeling**"
      ]
    },
    {
      "cell_type": "code",
      "execution_count": 58,
      "id": "dafaffd9-0dad-4bec-aedc-ea0178c8567b",
      "metadata": {
        "id": "dafaffd9-0dad-4bec-aedc-ea0178c8567b"
      },
      "outputs": [],
      "source": [
        "# TODO : Design Model\n",
        "model = keras.models.Sequential()\n",
        "model.add(keras.layers.Input(shape=(X_train.shape[1],)))\n",
        "model.add(keras.layers.BatchNormalization()) # Also Can be done in preparation phase\n",
        "model.add(keras.layers.Dense(100, activation='relu'))\n",
        "model.add(keras.layers.Dropout(0.1))\n",
        "model.add(keras.layers.BatchNormalization())\n",
        "model.add(keras.layers.Dense(50, activation='relu'))\n",
        "model.add(keras.layers.BatchNormalization())\n",
        "model.add(keras.layers.Dense(1, activation='sigmoid'))"
      ]
    },
    {
      "cell_type": "code",
      "execution_count": 59,
      "id": "d478d2ef-4d53-41bf-9ca5-7aa3a6fd8f0f",
      "metadata": {
        "id": "d478d2ef-4d53-41bf-9ca5-7aa3a6fd8f0f"
      },
      "outputs": [],
      "source": [
        "# TODO : Complie the Model\n",
        "model.compile(optimizer = keras.optimizers.Adam(),\n",
        "              loss = keras.losses.BinaryCrossentropy(),\n",
        "              metrics = ['auc'])"
      ]
    },
    {
      "cell_type": "code",
      "execution_count": 67,
      "id": "482919f9-6af7-4884-a4e4-01ef25c73206",
      "metadata": {
        "colab": {
          "base_uri": "https://localhost:8080/"
        },
        "id": "482919f9-6af7-4884-a4e4-01ef25c73206",
        "outputId": "be15f782-2282-4c09-b655-ae217256ecfb"
      },
      "outputs": [
        {
          "name": "stdout",
          "output_type": "stream",
          "text": [
            "Epoch 1/100\n",
            "\u001b[1m276/276\u001b[0m \u001b[32m━━━━━━━━━━━━━━━━━━━━\u001b[0m\u001b[37m\u001b[0m \u001b[1m0s\u001b[0m 13ms/step - auc: 0.7708 - loss: 0.5515\n",
            "Epoch 1: val_auc improved from -inf to 0.77026, saving model to best_model.keras\n",
            "\u001b[1m276/276\u001b[0m \u001b[32m━━━━━━━━━━━━━━━━━━━━\u001b[0m\u001b[37m\u001b[0m \u001b[1m5s\u001b[0m 17ms/step - auc: 0.7708 - loss: 0.5515 - val_auc: 0.7703 - val_loss: 0.5528\n",
            "Epoch 2/100\n",
            "\u001b[1m269/276\u001b[0m \u001b[32m━━━━━━━━━━━━━━━━━━━\u001b[0m\u001b[37m━\u001b[0m \u001b[1m0s\u001b[0m 3ms/step - auc: 0.7704 - loss: 0.5518\n",
            "Epoch 2: val_auc did not improve from 0.77026\n",
            "\u001b[1m276/276\u001b[0m \u001b[32m━━━━━━━━━━━━━━━━━━━━\u001b[0m\u001b[37m\u001b[0m \u001b[1m1s\u001b[0m 3ms/step - auc: 0.7705 - loss: 0.5518 - val_auc: 0.7701 - val_loss: 0.5529\n",
            "Epoch 3/100\n",
            "\u001b[1m263/276\u001b[0m \u001b[32m━━━━━━━━━━━━━━━━━━━\u001b[0m\u001b[37m━\u001b[0m \u001b[1m0s\u001b[0m 3ms/step - auc: 0.7709 - loss: 0.5511\n",
            "Epoch 3: val_auc did not improve from 0.77026\n",
            "\u001b[1m276/276\u001b[0m \u001b[32m━━━━━━━━━━━━━━━━━━━━\u001b[0m\u001b[37m\u001b[0m \u001b[1m1s\u001b[0m 3ms/step - auc: 0.7709 - loss: 0.5511 - val_auc: 0.7701 - val_loss: 0.5529\n",
            "Epoch 4/100\n",
            "\u001b[1m276/276\u001b[0m \u001b[32m━━━━━━━━━━━━━━━━━━━━\u001b[0m\u001b[37m\u001b[0m \u001b[1m0s\u001b[0m 3ms/step - auc: 0.7713 - loss: 0.5509\n",
            "Epoch 4: val_auc did not improve from 0.77026\n",
            "\u001b[1m276/276\u001b[0m \u001b[32m━━━━━━━━━━━━━━━━━━━━\u001b[0m\u001b[37m\u001b[0m \u001b[1m1s\u001b[0m 3ms/step - auc: 0.7713 - loss: 0.5509 - val_auc: 0.7701 - val_loss: 0.5529\n",
            "Epoch 5/100\n",
            "\u001b[1m276/276\u001b[0m \u001b[32m━━━━━━━━━━━━━━━━━━━━\u001b[0m\u001b[37m\u001b[0m \u001b[1m0s\u001b[0m 3ms/step - auc: 0.7710 - loss: 0.5514\n",
            "Epoch 5: val_auc did not improve from 0.77026\n",
            "\u001b[1m276/276\u001b[0m \u001b[32m━━━━━━━━━━━━━━━━━━━━\u001b[0m\u001b[37m\u001b[0m \u001b[1m1s\u001b[0m 3ms/step - auc: 0.7710 - loss: 0.5514 - val_auc: 0.7699 - val_loss: 0.5532\n",
            "Epoch 6/100\n",
            "\u001b[1m276/276\u001b[0m \u001b[32m━━━━━━━━━━━━━━━━━━━━\u001b[0m\u001b[37m\u001b[0m \u001b[1m0s\u001b[0m 3ms/step - auc: 0.7708 - loss: 0.5511\n",
            "Epoch 6: val_auc did not improve from 0.77026\n",
            "\u001b[1m276/276\u001b[0m \u001b[32m━━━━━━━━━━━━━━━━━━━━\u001b[0m\u001b[37m\u001b[0m \u001b[1m1s\u001b[0m 3ms/step - auc: 0.7708 - loss: 0.5511 - val_auc: 0.7701 - val_loss: 0.5529\n",
            "Epoch 7/100\n",
            "\u001b[1m265/276\u001b[0m \u001b[32m━━━━━━━━━━━━━━━━━━━\u001b[0m\u001b[37m━\u001b[0m \u001b[1m0s\u001b[0m 3ms/step - auc: 0.7705 - loss: 0.5518\n",
            "Epoch 7: val_auc did not improve from 0.77026\n",
            "\u001b[1m276/276\u001b[0m \u001b[32m━━━━━━━━━━━━━━━━━━━━\u001b[0m\u001b[37m\u001b[0m \u001b[1m1s\u001b[0m 4ms/step - auc: 0.7705 - loss: 0.5518 - val_auc: 0.7700 - val_loss: 0.5530\n",
            "Epoch 8/100\n",
            "\u001b[1m268/276\u001b[0m \u001b[32m━━━━━━━━━━━━━━━━━━━\u001b[0m\u001b[37m━\u001b[0m \u001b[1m0s\u001b[0m 4ms/step - auc: 0.7708 - loss: 0.5513\n",
            "Epoch 8: val_auc did not improve from 0.77026\n",
            "\u001b[1m276/276\u001b[0m \u001b[32m━━━━━━━━━━━━━━━━━━━━\u001b[0m\u001b[37m\u001b[0m \u001b[1m2s\u001b[0m 5ms/step - auc: 0.7708 - loss: 0.5513 - val_auc: 0.7701 - val_loss: 0.5530\n",
            "Epoch 9/100\n",
            "\u001b[1m272/276\u001b[0m \u001b[32m━━━━━━━━━━━━━━━━━━━\u001b[0m\u001b[37m━\u001b[0m \u001b[1m0s\u001b[0m 4ms/step - auc: 0.7717 - loss: 0.5507\n",
            "Epoch 9: val_auc did not improve from 0.77026\n",
            "\u001b[1m276/276\u001b[0m \u001b[32m━━━━━━━━━━━━━━━━━━━━\u001b[0m\u001b[37m\u001b[0m \u001b[1m3s\u001b[0m 5ms/step - auc: 0.7717 - loss: 0.5507 - val_auc: 0.7703 - val_loss: 0.5527\n",
            "Epoch 10/100\n",
            "\u001b[1m261/276\u001b[0m \u001b[32m━━━━━━━━━━━━━━━━━━\u001b[0m\u001b[37m━━\u001b[0m \u001b[1m0s\u001b[0m 3ms/step - auc: 0.7721 - loss: 0.5500\n",
            "Epoch 10: val_auc did not improve from 0.77026\n",
            "\u001b[1m276/276\u001b[0m \u001b[32m━━━━━━━━━━━━━━━━━━━━\u001b[0m\u001b[37m\u001b[0m \u001b[1m2s\u001b[0m 3ms/step - auc: 0.7720 - loss: 0.5501 - val_auc: 0.7700 - val_loss: 0.5529\n",
            "Epoch 11/100\n",
            "\u001b[1m276/276\u001b[0m \u001b[32m━━━━━━━━━━━━━━━━━━━━\u001b[0m\u001b[37m\u001b[0m \u001b[1m0s\u001b[0m 3ms/step - auc: 0.7706 - loss: 0.5515\n",
            "Epoch 11: val_auc did not improve from 0.77026\n",
            "\u001b[1m276/276\u001b[0m \u001b[32m━━━━━━━━━━━━━━━━━━━━\u001b[0m\u001b[37m\u001b[0m \u001b[1m1s\u001b[0m 3ms/step - auc: 0.7706 - loss: 0.5515 - val_auc: 0.7702 - val_loss: 0.5528\n",
            "Epoch 12/100\n",
            "\u001b[1m261/276\u001b[0m \u001b[32m━━━━━━━━━━━━━━━━━━\u001b[0m\u001b[37m━━\u001b[0m \u001b[1m0s\u001b[0m 3ms/step - auc: 0.7708 - loss: 0.5515\n",
            "Epoch 12: val_auc did not improve from 0.77026\n",
            "\u001b[1m276/276\u001b[0m \u001b[32m━━━━━━━━━━━━━━━━━━━━\u001b[0m\u001b[37m\u001b[0m \u001b[1m1s\u001b[0m 3ms/step - auc: 0.7708 - loss: 0.5515 - val_auc: 0.7702 - val_loss: 0.5528\n",
            "Epoch 13/100\n",
            "\u001b[1m260/276\u001b[0m \u001b[32m━━━━━━━━━━━━━━━━━━\u001b[0m\u001b[37m━━\u001b[0m \u001b[1m0s\u001b[0m 3ms/step - auc: 0.7718 - loss: 0.5504\n",
            "Epoch 13: val_auc improved from 0.77026 to 0.77034, saving model to best_model.keras\n",
            "\u001b[1m276/276\u001b[0m \u001b[32m━━━━━━━━━━━━━━━━━━━━\u001b[0m\u001b[37m\u001b[0m \u001b[1m1s\u001b[0m 3ms/step - auc: 0.7717 - loss: 0.5504 - val_auc: 0.7703 - val_loss: 0.5526\n",
            "Epoch 14/100\n",
            "\u001b[1m259/276\u001b[0m \u001b[32m━━━━━━━━━━━━━━━━━━\u001b[0m\u001b[37m━━\u001b[0m \u001b[1m0s\u001b[0m 3ms/step - auc: 0.7713 - loss: 0.5509\n",
            "Epoch 14: val_auc did not improve from 0.77034\n",
            "\u001b[1m276/276\u001b[0m \u001b[32m━━━━━━━━━━━━━━━━━━━━\u001b[0m\u001b[37m\u001b[0m \u001b[1m1s\u001b[0m 3ms/step - auc: 0.7713 - loss: 0.5509 - val_auc: 0.7702 - val_loss: 0.5527\n",
            "Epoch 15/100\n",
            "\u001b[1m271/276\u001b[0m \u001b[32m━━━━━━━━━━━━━━━━━━━\u001b[0m\u001b[37m━\u001b[0m \u001b[1m0s\u001b[0m 3ms/step - auc: 0.7713 - loss: 0.5512\n",
            "Epoch 15: val_auc improved from 0.77034 to 0.77045, saving model to best_model.keras\n",
            "\u001b[1m276/276\u001b[0m \u001b[32m━━━━━━━━━━━━━━━━━━━━\u001b[0m\u001b[37m\u001b[0m \u001b[1m1s\u001b[0m 4ms/step - auc: 0.7713 - loss: 0.5512 - val_auc: 0.7705 - val_loss: 0.5526\n",
            "Epoch 16/100\n",
            "\u001b[1m264/276\u001b[0m \u001b[32m━━━━━━━━━━━━━━━━━━━\u001b[0m\u001b[37m━\u001b[0m \u001b[1m0s\u001b[0m 3ms/step - auc: 0.7712 - loss: 0.5509\n",
            "Epoch 16: val_auc did not improve from 0.77045\n",
            "\u001b[1m276/276\u001b[0m \u001b[32m━━━━━━━━━━━━━━━━━━━━\u001b[0m\u001b[37m\u001b[0m \u001b[1m1s\u001b[0m 3ms/step - auc: 0.7713 - loss: 0.5509 - val_auc: 0.7700 - val_loss: 0.5529\n",
            "Epoch 17/100\n",
            "\u001b[1m275/276\u001b[0m \u001b[32m━━━━━━━━━━━━━━━━━━━\u001b[0m\u001b[37m━\u001b[0m \u001b[1m0s\u001b[0m 3ms/step - auc: 0.7716 - loss: 0.5508\n",
            "Epoch 17: val_auc did not improve from 0.77045\n",
            "\u001b[1m276/276\u001b[0m \u001b[32m━━━━━━━━━━━━━━━━━━━━\u001b[0m\u001b[37m\u001b[0m \u001b[1m1s\u001b[0m 3ms/step - auc: 0.7716 - loss: 0.5508 - val_auc: 0.7703 - val_loss: 0.5527\n",
            "Epoch 18/100\n",
            "\u001b[1m268/276\u001b[0m \u001b[32m━━━━━━━━━━━━━━━━━━━\u001b[0m\u001b[37m━\u001b[0m \u001b[1m0s\u001b[0m 4ms/step - auc: 0.7725 - loss: 0.5499\n",
            "Epoch 18: val_auc did not improve from 0.77045\n",
            "\u001b[1m276/276\u001b[0m \u001b[32m━━━━━━━━━━━━━━━━━━━━\u001b[0m\u001b[37m\u001b[0m \u001b[1m1s\u001b[0m 4ms/step - auc: 0.7725 - loss: 0.5499 - val_auc: 0.7703 - val_loss: 0.5526\n",
            "Epoch 19/100\n",
            "\u001b[1m268/276\u001b[0m \u001b[32m━━━━━━━━━━━━━━━━━━━\u001b[0m\u001b[37m━\u001b[0m \u001b[1m0s\u001b[0m 5ms/step - auc: 0.7720 - loss: 0.5502\n",
            "Epoch 19: val_auc did not improve from 0.77045\n",
            "\u001b[1m276/276\u001b[0m \u001b[32m━━━━━━━━━━━━━━━━━━━━\u001b[0m\u001b[37m\u001b[0m \u001b[1m3s\u001b[0m 5ms/step - auc: 0.7720 - loss: 0.5502 - val_auc: 0.7704 - val_loss: 0.5526\n",
            "Epoch 20/100\n",
            "\u001b[1m267/276\u001b[0m \u001b[32m━━━━━━━━━━━━━━━━━━━\u001b[0m\u001b[37m━\u001b[0m \u001b[1m0s\u001b[0m 3ms/step - auc: 0.7715 - loss: 0.5509\n",
            "Epoch 20: val_auc did not improve from 0.77045\n",
            "\u001b[1m276/276\u001b[0m \u001b[32m━━━━━━━━━━━━━━━━━━━━\u001b[0m\u001b[37m\u001b[0m \u001b[1m2s\u001b[0m 3ms/step - auc: 0.7715 - loss: 0.5509 - val_auc: 0.7703 - val_loss: 0.5527\n",
            "Epoch 21/100\n",
            "\u001b[1m265/276\u001b[0m \u001b[32m━━━━━━━━━━━━━━━━━━━\u001b[0m\u001b[37m━\u001b[0m \u001b[1m0s\u001b[0m 3ms/step - auc: 0.7716 - loss: 0.5505\n",
            "Epoch 21: val_auc did not improve from 0.77045\n",
            "\u001b[1m276/276\u001b[0m \u001b[32m━━━━━━━━━━━━━━━━━━━━\u001b[0m\u001b[37m\u001b[0m \u001b[1m1s\u001b[0m 4ms/step - auc: 0.7716 - loss: 0.5505 - val_auc: 0.7702 - val_loss: 0.5527\n",
            "Epoch 22/100\n",
            "\u001b[1m272/276\u001b[0m \u001b[32m━━━━━━━━━━━━━━━━━━━\u001b[0m\u001b[37m━\u001b[0m \u001b[1m0s\u001b[0m 3ms/step - auc: 0.7715 - loss: 0.5510\n",
            "Epoch 22: val_auc did not improve from 0.77045\n",
            "\u001b[1m276/276\u001b[0m \u001b[32m━━━━━━━━━━━━━━━━━━━━\u001b[0m\u001b[37m\u001b[0m \u001b[1m1s\u001b[0m 3ms/step - auc: 0.7715 - loss: 0.5510 - val_auc: 0.7703 - val_loss: 0.5528\n",
            "Epoch 23/100\n",
            "\u001b[1m270/276\u001b[0m \u001b[32m━━━━━━━━━━━━━━━━━━━\u001b[0m\u001b[37m━\u001b[0m \u001b[1m0s\u001b[0m 3ms/step - auc: 0.7718 - loss: 0.5506\n",
            "Epoch 23: val_auc did not improve from 0.77045\n",
            "\u001b[1m276/276\u001b[0m \u001b[32m━━━━━━━━━━━━━━━━━━━━\u001b[0m\u001b[37m\u001b[0m \u001b[1m1s\u001b[0m 3ms/step - auc: 0.7718 - loss: 0.5506 - val_auc: 0.7704 - val_loss: 0.5525\n",
            "Epoch 24/100\n",
            "\u001b[1m276/276\u001b[0m \u001b[32m━━━━━━━━━━━━━━━━━━━━\u001b[0m\u001b[37m\u001b[0m \u001b[1m0s\u001b[0m 3ms/step - auc: 0.7718 - loss: 0.5505\n",
            "Epoch 24: val_auc did not improve from 0.77045\n",
            "\u001b[1m276/276\u001b[0m \u001b[32m━━━━━━━━━━━━━━━━━━━━\u001b[0m\u001b[37m\u001b[0m \u001b[1m1s\u001b[0m 3ms/step - auc: 0.7718 - loss: 0.5505 - val_auc: 0.7702 - val_loss: 0.5527\n",
            "Epoch 25/100\n",
            "\u001b[1m271/276\u001b[0m \u001b[32m━━━━━━━━━━━━━━━━━━━\u001b[0m\u001b[37m━\u001b[0m \u001b[1m0s\u001b[0m 3ms/step - auc: 0.7728 - loss: 0.5497\n",
            "Epoch 25: val_auc improved from 0.77045 to 0.77062, saving model to best_model.keras\n",
            "\u001b[1m276/276\u001b[0m \u001b[32m━━━━━━━━━━━━━━━━━━━━\u001b[0m\u001b[37m\u001b[0m \u001b[1m1s\u001b[0m 3ms/step - auc: 0.7728 - loss: 0.5497 - val_auc: 0.7706 - val_loss: 0.5524\n",
            "Epoch 26/100\n",
            "\u001b[1m267/276\u001b[0m \u001b[32m━━━━━━━━━━━━━━━━━━━\u001b[0m\u001b[37m━\u001b[0m \u001b[1m0s\u001b[0m 3ms/step - auc: 0.7716 - loss: 0.5506\n",
            "Epoch 26: val_auc did not improve from 0.77062\n",
            "\u001b[1m276/276\u001b[0m \u001b[32m━━━━━━━━━━━━━━━━━━━━\u001b[0m\u001b[37m\u001b[0m \u001b[1m1s\u001b[0m 3ms/step - auc: 0.7716 - loss: 0.5506 - val_auc: 0.7704 - val_loss: 0.5525\n",
            "Epoch 27/100\n",
            "\u001b[1m276/276\u001b[0m \u001b[32m━━━━━━━━━━━━━━━━━━━━\u001b[0m\u001b[37m\u001b[0m \u001b[1m0s\u001b[0m 3ms/step - auc: 0.7717 - loss: 0.5506\n",
            "Epoch 27: val_auc did not improve from 0.77062\n",
            "\u001b[1m276/276\u001b[0m \u001b[32m━━━━━━━━━━━━━━━━━━━━\u001b[0m\u001b[37m\u001b[0m \u001b[1m1s\u001b[0m 3ms/step - auc: 0.7717 - loss: 0.5506 - val_auc: 0.7704 - val_loss: 0.5527\n",
            "Epoch 28/100\n",
            "\u001b[1m270/276\u001b[0m \u001b[32m━━━━━━━━━━━━━━━━━━━\u001b[0m\u001b[37m━\u001b[0m \u001b[1m0s\u001b[0m 3ms/step - auc: 0.7715 - loss: 0.5507\n",
            "Epoch 28: val_auc did not improve from 0.77062\n",
            "\u001b[1m276/276\u001b[0m \u001b[32m━━━━━━━━━━━━━━━━━━━━\u001b[0m\u001b[37m\u001b[0m \u001b[1m1s\u001b[0m 4ms/step - auc: 0.7715 - loss: 0.5507 - val_auc: 0.7704 - val_loss: 0.5525\n",
            "Epoch 29/100\n",
            "\u001b[1m272/276\u001b[0m \u001b[32m━━━━━━━━━━━━━━━━━━━\u001b[0m\u001b[37m━\u001b[0m \u001b[1m0s\u001b[0m 4ms/step - auc: 0.7719 - loss: 0.5503\n",
            "Epoch 29: val_auc did not improve from 0.77062\n",
            "\u001b[1m276/276\u001b[0m \u001b[32m━━━━━━━━━━━━━━━━━━━━\u001b[0m\u001b[37m\u001b[0m \u001b[1m1s\u001b[0m 5ms/step - auc: 0.7719 - loss: 0.5503 - val_auc: 0.7703 - val_loss: 0.5526\n",
            "Epoch 30/100\n",
            "\u001b[1m272/276\u001b[0m \u001b[32m━━━━━━━━━━━━━━━━━━━\u001b[0m\u001b[37m━\u001b[0m \u001b[1m0s\u001b[0m 4ms/step - auc: 0.7724 - loss: 0.5501\n",
            "Epoch 30: val_auc did not improve from 0.77062\n",
            "\u001b[1m276/276\u001b[0m \u001b[32m━━━━━━━━━━━━━━━━━━━━\u001b[0m\u001b[37m\u001b[0m \u001b[1m1s\u001b[0m 5ms/step - auc: 0.7724 - loss: 0.5501 - val_auc: 0.7702 - val_loss: 0.5528\n",
            "Epoch 31/100\n",
            "\u001b[1m267/276\u001b[0m \u001b[32m━━━━━━━━━━━━━━━━━━━\u001b[0m\u001b[37m━\u001b[0m \u001b[1m0s\u001b[0m 5ms/step - auc: 0.7726 - loss: 0.5499\n",
            "Epoch 31: val_auc did not improve from 0.77062\n",
            "\u001b[1m276/276\u001b[0m \u001b[32m━━━━━━━━━━━━━━━━━━━━\u001b[0m\u001b[37m\u001b[0m \u001b[1m2s\u001b[0m 5ms/step - auc: 0.7726 - loss: 0.5499 - val_auc: 0.7702 - val_loss: 0.5527\n",
            "Epoch 32/100\n",
            "\u001b[1m267/276\u001b[0m \u001b[32m━━━━━━━━━━━━━━━━━━━\u001b[0m\u001b[37m━\u001b[0m \u001b[1m0s\u001b[0m 4ms/step - auc: 0.7724 - loss: 0.5501\n",
            "Epoch 32: val_auc did not improve from 0.77062\n",
            "\u001b[1m276/276\u001b[0m \u001b[32m━━━━━━━━━━━━━━━━━━━━\u001b[0m\u001b[37m\u001b[0m \u001b[1m1s\u001b[0m 4ms/step - auc: 0.7724 - loss: 0.5501 - val_auc: 0.7706 - val_loss: 0.5525\n",
            "Epoch 33/100\n",
            "\u001b[1m262/276\u001b[0m \u001b[32m━━━━━━━━━━━━━━━━━━\u001b[0m\u001b[37m━━\u001b[0m \u001b[1m0s\u001b[0m 3ms/step - auc: 0.7726 - loss: 0.5500\n",
            "Epoch 33: val_auc did not improve from 0.77062\n",
            "\u001b[1m276/276\u001b[0m \u001b[32m━━━━━━━━━━━━━━━━━━━━\u001b[0m\u001b[37m\u001b[0m \u001b[1m1s\u001b[0m 3ms/step - auc: 0.7726 - loss: 0.5501 - val_auc: 0.7705 - val_loss: 0.5525\n",
            "Epoch 34/100\n",
            "\u001b[1m263/276\u001b[0m \u001b[32m━━━━━━━━━━━━━━━━━━━\u001b[0m\u001b[37m━\u001b[0m \u001b[1m0s\u001b[0m 3ms/step - auc: 0.7733 - loss: 0.5489\n",
            "Epoch 34: val_auc did not improve from 0.77062\n",
            "\u001b[1m276/276\u001b[0m \u001b[32m━━━━━━━━━━━━━━━━━━━━\u001b[0m\u001b[37m\u001b[0m \u001b[1m1s\u001b[0m 3ms/step - auc: 0.7733 - loss: 0.5489 - val_auc: 0.7703 - val_loss: 0.5527\n",
            "Epoch 35/100\n",
            "\u001b[1m265/276\u001b[0m \u001b[32m━━━━━━━━━━━━━━━━━━━\u001b[0m\u001b[37m━\u001b[0m \u001b[1m0s\u001b[0m 3ms/step - auc: 0.7725 - loss: 0.5500\n",
            "Epoch 35: val_auc did not improve from 0.77062\n",
            "\u001b[1m276/276\u001b[0m \u001b[32m━━━━━━━━━━━━━━━━━━━━\u001b[0m\u001b[37m\u001b[0m \u001b[1m1s\u001b[0m 3ms/step - auc: 0.7725 - loss: 0.5500 - val_auc: 0.7704 - val_loss: 0.5526\n",
            "Epoch 36/100\n",
            "\u001b[1m275/276\u001b[0m \u001b[32m━━━━━━━━━━━━━━━━━━━\u001b[0m\u001b[37m━\u001b[0m \u001b[1m0s\u001b[0m 3ms/step - auc: 0.7722 - loss: 0.5503\n",
            "Epoch 36: val_auc did not improve from 0.77062\n",
            "\u001b[1m276/276\u001b[0m \u001b[32m━━━━━━━━━━━━━━━━━━━━\u001b[0m\u001b[37m\u001b[0m \u001b[1m1s\u001b[0m 3ms/step - auc: 0.7722 - loss: 0.5503 - val_auc: 0.7703 - val_loss: 0.5527\n",
            "Epoch 37/100\n",
            "\u001b[1m266/276\u001b[0m \u001b[32m━━━━━━━━━━━━━━━━━━━\u001b[0m\u001b[37m━\u001b[0m \u001b[1m0s\u001b[0m 3ms/step - auc: 0.7729 - loss: 0.5496\n",
            "Epoch 37: val_auc did not improve from 0.77062\n",
            "\u001b[1m276/276\u001b[0m \u001b[32m━━━━━━━━━━━━━━━━━━━━\u001b[0m\u001b[37m\u001b[0m \u001b[1m1s\u001b[0m 3ms/step - auc: 0.7729 - loss: 0.5496 - val_auc: 0.7704 - val_loss: 0.5526\n",
            "Epoch 38/100\n",
            "\u001b[1m265/276\u001b[0m \u001b[32m━━━━━━━━━━━━━━━━━━━\u001b[0m\u001b[37m━\u001b[0m \u001b[1m0s\u001b[0m 3ms/step - auc: 0.7725 - loss: 0.5501\n",
            "Epoch 38: val_auc did not improve from 0.77062\n",
            "\u001b[1m276/276\u001b[0m \u001b[32m━━━━━━━━━━━━━━━━━━━━\u001b[0m\u001b[37m\u001b[0m \u001b[1m1s\u001b[0m 3ms/step - auc: 0.7725 - loss: 0.5501 - val_auc: 0.7704 - val_loss: 0.5527\n",
            "Epoch 39/100\n",
            "\u001b[1m268/276\u001b[0m \u001b[32m━━━━━━━━━━━━━━━━━━━\u001b[0m\u001b[37m━\u001b[0m \u001b[1m0s\u001b[0m 3ms/step - auc: 0.7729 - loss: 0.5494\n",
            "Epoch 39: val_auc improved from 0.77062 to 0.77066, saving model to best_model.keras\n",
            "\u001b[1m276/276\u001b[0m \u001b[32m━━━━━━━━━━━━━━━━━━━━\u001b[0m\u001b[37m\u001b[0m \u001b[1m1s\u001b[0m 3ms/step - auc: 0.7729 - loss: 0.5494 - val_auc: 0.7707 - val_loss: 0.5524\n",
            "Epoch 40/100\n",
            "\u001b[1m271/276\u001b[0m \u001b[32m━━━━━━━━━━━━━━━━━━━\u001b[0m\u001b[37m━\u001b[0m \u001b[1m0s\u001b[0m 3ms/step - auc: 0.7726 - loss: 0.5497\n",
            "Epoch 40: val_auc did not improve from 0.77066\n",
            "\u001b[1m276/276\u001b[0m \u001b[32m━━━━━━━━━━━━━━━━━━━━\u001b[0m\u001b[37m\u001b[0m \u001b[1m1s\u001b[0m 3ms/step - auc: 0.7726 - loss: 0.5497 - val_auc: 0.7705 - val_loss: 0.5525\n",
            "Epoch 41/100\n",
            "\u001b[1m269/276\u001b[0m \u001b[32m━━━━━━━━━━━━━━━━━━━\u001b[0m\u001b[37m━\u001b[0m \u001b[1m0s\u001b[0m 3ms/step - auc: 0.7722 - loss: 0.5503\n",
            "Epoch 41: val_auc improved from 0.77066 to 0.77068, saving model to best_model.keras\n",
            "\u001b[1m276/276\u001b[0m \u001b[32m━━━━━━━━━━━━━━━━━━━━\u001b[0m\u001b[37m\u001b[0m \u001b[1m1s\u001b[0m 4ms/step - auc: 0.7722 - loss: 0.5503 - val_auc: 0.7707 - val_loss: 0.5524\n",
            "Epoch 42/100\n",
            "\u001b[1m269/276\u001b[0m \u001b[32m━━━━━━━━━━━━━━━━━━━\u001b[0m\u001b[37m━\u001b[0m \u001b[1m0s\u001b[0m 4ms/step - auc: 0.7734 - loss: 0.5490\n",
            "Epoch 42: val_auc did not improve from 0.77068\n",
            "\u001b[1m276/276\u001b[0m \u001b[32m━━━━━━━━━━━━━━━━━━━━\u001b[0m\u001b[37m\u001b[0m \u001b[1m1s\u001b[0m 5ms/step - auc: 0.7734 - loss: 0.5490 - val_auc: 0.7704 - val_loss: 0.5526\n",
            "Epoch 43/100\n",
            "\u001b[1m274/276\u001b[0m \u001b[32m━━━━━━━━━━━━━━━━━━━\u001b[0m\u001b[37m━\u001b[0m \u001b[1m0s\u001b[0m 4ms/step - auc: 0.7726 - loss: 0.5500\n",
            "Epoch 43: val_auc did not improve from 0.77068\n",
            "\u001b[1m276/276\u001b[0m \u001b[32m━━━━━━━━━━━━━━━━━━━━\u001b[0m\u001b[37m\u001b[0m \u001b[1m1s\u001b[0m 5ms/step - auc: 0.7726 - loss: 0.5500 - val_auc: 0.7703 - val_loss: 0.5527\n",
            "Epoch 44/100\n",
            "\u001b[1m270/276\u001b[0m \u001b[32m━━━━━━━━━━━━━━━━━━━\u001b[0m\u001b[37m━\u001b[0m \u001b[1m0s\u001b[0m 5ms/step - auc: 0.7723 - loss: 0.5501\n",
            "Epoch 44: val_auc did not improve from 0.77068\n",
            "\u001b[1m276/276\u001b[0m \u001b[32m━━━━━━━━━━━━━━━━━━━━\u001b[0m\u001b[37m\u001b[0m \u001b[1m3s\u001b[0m 5ms/step - auc: 0.7723 - loss: 0.5501 - val_auc: 0.7706 - val_loss: 0.5525\n",
            "Epoch 45/100\n",
            "\u001b[1m263/276\u001b[0m \u001b[32m━━━━━━━━━━━━━━━━━━━\u001b[0m\u001b[37m━\u001b[0m \u001b[1m0s\u001b[0m 3ms/step - auc: 0.7736 - loss: 0.5490\n",
            "Epoch 45: val_auc did not improve from 0.77068\n",
            "\u001b[1m276/276\u001b[0m \u001b[32m━━━━━━━━━━━━━━━━━━━━\u001b[0m\u001b[37m\u001b[0m \u001b[1m1s\u001b[0m 3ms/step - auc: 0.7735 - loss: 0.5490 - val_auc: 0.7703 - val_loss: 0.5528\n",
            "Epoch 46/100\n",
            "\u001b[1m275/276\u001b[0m \u001b[32m━━━━━━━━━━━━━━━━━━━\u001b[0m\u001b[37m━\u001b[0m \u001b[1m0s\u001b[0m 3ms/step - auc: 0.7731 - loss: 0.5494\n",
            "Epoch 46: val_auc did not improve from 0.77068\n",
            "\u001b[1m276/276\u001b[0m \u001b[32m━━━━━━━━━━━━━━━━━━━━\u001b[0m\u001b[37m\u001b[0m \u001b[1m1s\u001b[0m 3ms/step - auc: 0.7731 - loss: 0.5494 - val_auc: 0.7704 - val_loss: 0.5526\n",
            "Epoch 47/100\n",
            "\u001b[1m274/276\u001b[0m \u001b[32m━━━━━━━━━━━━━━━━━━━\u001b[0m\u001b[37m━\u001b[0m \u001b[1m0s\u001b[0m 3ms/step - auc: 0.7726 - loss: 0.5499\n",
            "Epoch 47: val_auc did not improve from 0.77068\n",
            "\u001b[1m276/276\u001b[0m \u001b[32m━━━━━━━━━━━━━━━━━━━━\u001b[0m\u001b[37m\u001b[0m \u001b[1m1s\u001b[0m 3ms/step - auc: 0.7726 - loss: 0.5499 - val_auc: 0.7704 - val_loss: 0.5527\n",
            "Epoch 48/100\n",
            "\u001b[1m276/276\u001b[0m \u001b[32m━━━━━━━━━━━━━━━━━━━━\u001b[0m\u001b[37m\u001b[0m \u001b[1m0s\u001b[0m 3ms/step - auc: 0.7727 - loss: 0.5495\n",
            "Epoch 48: val_auc did not improve from 0.77068\n",
            "\u001b[1m276/276\u001b[0m \u001b[32m━━━━━━━━━━━━━━━━━━━━\u001b[0m\u001b[37m\u001b[0m \u001b[1m1s\u001b[0m 3ms/step - auc: 0.7727 - loss: 0.5495 - val_auc: 0.7706 - val_loss: 0.5524\n",
            "Epoch 49/100\n",
            "\u001b[1m263/276\u001b[0m \u001b[32m━━━━━━━━━━━━━━━━━━━\u001b[0m\u001b[37m━\u001b[0m \u001b[1m0s\u001b[0m 3ms/step - auc: 0.7721 - loss: 0.5502\n",
            "Epoch 49: val_auc did not improve from 0.77068\n",
            "\u001b[1m276/276\u001b[0m \u001b[32m━━━━━━━━━━━━━━━━━━━━\u001b[0m\u001b[37m\u001b[0m \u001b[1m1s\u001b[0m 3ms/step - auc: 0.7721 - loss: 0.5502 - val_auc: 0.7706 - val_loss: 0.5524\n",
            "Epoch 50/100\n",
            "\u001b[1m259/276\u001b[0m \u001b[32m━━━━━━━━━━━━━━━━━━\u001b[0m\u001b[37m━━\u001b[0m \u001b[1m0s\u001b[0m 3ms/step - auc: 0.7733 - loss: 0.5489\n",
            "Epoch 50: val_auc did not improve from 0.77068\n",
            "\u001b[1m276/276\u001b[0m \u001b[32m━━━━━━━━━━━━━━━━━━━━\u001b[0m\u001b[37m\u001b[0m \u001b[1m1s\u001b[0m 3ms/step - auc: 0.7732 - loss: 0.5490 - val_auc: 0.7705 - val_loss: 0.5525\n",
            "Epoch 51/100\n",
            "\u001b[1m266/276\u001b[0m \u001b[32m━━━━━━━━━━━━━━━━━━━\u001b[0m\u001b[37m━\u001b[0m \u001b[1m0s\u001b[0m 3ms/step - auc: 0.7732 - loss: 0.5494\n",
            "Epoch 51: val_auc did not improve from 0.77068\n",
            "\u001b[1m276/276\u001b[0m \u001b[32m━━━━━━━━━━━━━━━━━━━━\u001b[0m\u001b[37m\u001b[0m \u001b[1m1s\u001b[0m 3ms/step - auc: 0.7732 - loss: 0.5494 - val_auc: 0.7704 - val_loss: 0.5526\n",
            "Epoch 52/100\n",
            "\u001b[1m262/276\u001b[0m \u001b[32m━━━━━━━━━━━━━━━━━━\u001b[0m\u001b[37m━━\u001b[0m \u001b[1m0s\u001b[0m 3ms/step - auc: 0.7729 - loss: 0.5493\n",
            "Epoch 52: val_auc did not improve from 0.77068\n",
            "\u001b[1m276/276\u001b[0m \u001b[32m━━━━━━━━━━━━━━━━━━━━\u001b[0m\u001b[37m\u001b[0m \u001b[1m1s\u001b[0m 3ms/step - auc: 0.7729 - loss: 0.5493 - val_auc: 0.7703 - val_loss: 0.5527\n",
            "Epoch 53/100\n",
            "\u001b[1m267/276\u001b[0m \u001b[32m━━━━━━━━━━━━━━━━━━━\u001b[0m\u001b[37m━\u001b[0m \u001b[1m0s\u001b[0m 4ms/step - auc: 0.7726 - loss: 0.5499\n",
            "Epoch 53: val_auc did not improve from 0.77068\n",
            "\u001b[1m276/276\u001b[0m \u001b[32m━━━━━━━━━━━━━━━━━━━━\u001b[0m\u001b[37m\u001b[0m \u001b[1m1s\u001b[0m 4ms/step - auc: 0.7726 - loss: 0.5499 - val_auc: 0.7705 - val_loss: 0.5527\n",
            "Epoch 54/100\n",
            "\u001b[1m270/276\u001b[0m \u001b[32m━━━━━━━━━━━━━━━━━━━\u001b[0m\u001b[37m━\u001b[0m \u001b[1m0s\u001b[0m 4ms/step - auc: 0.7724 - loss: 0.5500\n",
            "Epoch 54: val_auc did not improve from 0.77068\n",
            "\u001b[1m276/276\u001b[0m \u001b[32m━━━━━━━━━━━━━━━━━━━━\u001b[0m\u001b[37m\u001b[0m \u001b[1m1s\u001b[0m 5ms/step - auc: 0.7724 - loss: 0.5500 - val_auc: 0.7704 - val_loss: 0.5526\n",
            "Epoch 55/100\n",
            "\u001b[1m276/276\u001b[0m \u001b[32m━━━━━━━━━━━━━━━━━━━━\u001b[0m\u001b[37m\u001b[0m \u001b[1m0s\u001b[0m 5ms/step - auc: 0.7732 - loss: 0.5492\n",
            "Epoch 55: val_auc did not improve from 0.77068\n",
            "\u001b[1m276/276\u001b[0m \u001b[32m━━━━━━━━━━━━━━━━━━━━\u001b[0m\u001b[37m\u001b[0m \u001b[1m2s\u001b[0m 5ms/step - auc: 0.7732 - loss: 0.5492 - val_auc: 0.7704 - val_loss: 0.5525\n",
            "Epoch 56/100\n",
            "\u001b[1m273/276\u001b[0m \u001b[32m━━━━━━━━━━━━━━━━━━━\u001b[0m\u001b[37m━\u001b[0m \u001b[1m0s\u001b[0m 5ms/step - auc: 0.7727 - loss: 0.5498\n",
            "Epoch 56: val_auc did not improve from 0.77068\n",
            "\u001b[1m276/276\u001b[0m \u001b[32m━━━━━━━━━━━━━━━━━━━━\u001b[0m\u001b[37m\u001b[0m \u001b[1m1s\u001b[0m 5ms/step - auc: 0.7727 - loss: 0.5498 - val_auc: 0.7704 - val_loss: 0.5526\n",
            "Epoch 57/100\n",
            "\u001b[1m267/276\u001b[0m \u001b[32m━━━━━━━━━━━━━━━━━━━\u001b[0m\u001b[37m━\u001b[0m \u001b[1m0s\u001b[0m 3ms/step - auc: 0.7737 - loss: 0.5490\n",
            "Epoch 57: val_auc did not improve from 0.77068\n",
            "\u001b[1m276/276\u001b[0m \u001b[32m━━━━━━━━━━━━━━━━━━━━\u001b[0m\u001b[37m\u001b[0m \u001b[1m2s\u001b[0m 3ms/step - auc: 0.7737 - loss: 0.5490 - val_auc: 0.7702 - val_loss: 0.5527\n",
            "Epoch 58/100\n",
            "\u001b[1m267/276\u001b[0m \u001b[32m━━━━━━━━━━━━━━━━━━━\u001b[0m\u001b[37m━\u001b[0m \u001b[1m0s\u001b[0m 3ms/step - auc: 0.7735 - loss: 0.5490\n",
            "Epoch 58: val_auc did not improve from 0.77068\n",
            "\u001b[1m276/276\u001b[0m \u001b[32m━━━━━━━━━━━━━━━━━━━━\u001b[0m\u001b[37m\u001b[0m \u001b[1m1s\u001b[0m 3ms/step - auc: 0.7734 - loss: 0.5490 - val_auc: 0.7704 - val_loss: 0.5526\n",
            "Epoch 59/100\n",
            "\u001b[1m261/276\u001b[0m \u001b[32m━━━━━━━━━━━━━━━━━━\u001b[0m\u001b[37m━━\u001b[0m \u001b[1m0s\u001b[0m 3ms/step - auc: 0.7732 - loss: 0.5494\n",
            "Epoch 59: val_auc did not improve from 0.77068\n",
            "\u001b[1m276/276\u001b[0m \u001b[32m━━━━━━━━━━━━━━━━━━━━\u001b[0m\u001b[37m\u001b[0m \u001b[1m1s\u001b[0m 3ms/step - auc: 0.7732 - loss: 0.5494 - val_auc: 0.7706 - val_loss: 0.5524\n",
            "Epoch 60/100\n",
            "\u001b[1m264/276\u001b[0m \u001b[32m━━━━━━━━━━━━━━━━━━━\u001b[0m\u001b[37m━\u001b[0m \u001b[1m0s\u001b[0m 3ms/step - auc: 0.7734 - loss: 0.5490\n",
            "Epoch 60: val_auc did not improve from 0.77068\n",
            "\u001b[1m276/276\u001b[0m \u001b[32m━━━━━━━━━━━━━━━━━━━━\u001b[0m\u001b[37m\u001b[0m \u001b[1m1s\u001b[0m 3ms/step - auc: 0.7734 - loss: 0.5491 - val_auc: 0.7705 - val_loss: 0.5525\n",
            "Epoch 61/100\n",
            "\u001b[1m265/276\u001b[0m \u001b[32m━━━━━━━━━━━━━━━━━━━\u001b[0m\u001b[37m━\u001b[0m \u001b[1m0s\u001b[0m 3ms/step - auc: 0.7727 - loss: 0.5498\n",
            "Epoch 61: val_auc did not improve from 0.77068\n",
            "\u001b[1m276/276\u001b[0m \u001b[32m━━━━━━━━━━━━━━━━━━━━\u001b[0m\u001b[37m\u001b[0m \u001b[1m1s\u001b[0m 3ms/step - auc: 0.7727 - loss: 0.5498 - val_auc: 0.7705 - val_loss: 0.5524\n"
          ]
        }
      ],
      "source": [
        "# TODO : Train your Model\n",
        "epochs = 100\n",
        "BATCH_SIZE = 4096\n",
        "\n",
        "checkpoint_cb = ModelCheckpoint(\n",
        "    'best_model.keras',\n",
        "    save_best_only=True,\n",
        "    monitor='val_auc',\n",
        "    mode='max',\n",
        "    verbose=1\n",
        ")\n",
        "early_stopping_cb = EarlyStopping(monitor='val_auc', patience=20, restore_best_weights=True)\n",
        "\n",
        "history = model.fit(X_train, y_train,\n",
        "                    batch_size=BATCH_SIZE,\n",
        "                    epochs=epochs,\n",
        "                   validation_split=0.1,\n",
        "                    callbacks=[checkpoint_cb,early_stopping_cb])"
      ]
    },
    {
      "cell_type": "markdown",
      "id": "zQhp-lqc4AOv",
      "metadata": {
        "id": "zQhp-lqc4AOv"
      },
      "source": [
        "# **Prediction**"
      ]
    },
    {
      "cell_type": "code",
      "execution_count": 68,
      "id": "ec07d670-befe-4e3f-8977-fde3dce046a7",
      "metadata": {
        "colab": {
          "base_uri": "https://localhost:8080/"
        },
        "id": "ec07d670-befe-4e3f-8977-fde3dce046a7",
        "outputId": "048afbc5-b9d7-4f29-d49d-12dae5928a07"
      },
      "outputs": [
        {
          "name": "stdout",
          "output_type": "stream",
          "text": [
            "\u001b[1m2066/2066\u001b[0m \u001b[32m━━━━━━━━━━━━━━━━━━━━\u001b[0m\u001b[37m\u001b[0m \u001b[1m3s\u001b[0m 1ms/step\n"
          ]
        },
        {
          "data": {
            "text/plain": [
              "0.7708919844804819"
            ]
          },
          "execution_count": 68,
          "metadata": {},
          "output_type": "execute_result"
        }
      ],
      "source": [
        "# TODO: Evaluate Model\n",
        "roc_auc_score(y_test, model.predict(X_test))"
      ]
    }
  ],
  "metadata": {
    "accelerator": "GPU",
    "colab": {
      "gpuType": "T4",
      "provenance": []
    },
    "kernelspec": {
      "display_name": "Python 3",
      "name": "python3"
    },
    "language_info": {
      "codemirror_mode": {
        "name": "ipython",
        "version": 3
      },
      "file_extension": ".py",
      "mimetype": "text/x-python",
      "name": "python",
      "nbconvert_exporter": "python",
      "pygments_lexer": "ipython3",
      "version": "3.9.6"
    },
    "vscode": {
      "interpreter": {
        "hash": "44e7e1b8fa2096bd5707ed7fd18b1724a2db25f4c565a7673f8b6e7bfc49d25d"
      }
    }
  },
  "nbformat": 4,
  "nbformat_minor": 5
}
